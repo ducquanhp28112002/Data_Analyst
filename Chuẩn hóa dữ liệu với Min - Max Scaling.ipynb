{
 "cells": [
  {
   "cell_type": "code",
   "execution_count": 49,
   "id": "fab8aa98",
   "metadata": {},
   "outputs": [],
   "source": [
    "import pandas as pd\n",
    "import numpy as np\n",
    "import matplotlib.pyplot as plt\n",
    "import seaborn as sns\n",
    "from sklearn.preprocessing import MinMaxScaler"
   ]
  },
  {
   "cell_type": "markdown",
   "id": "2b217fdb",
   "metadata": {},
   "source": [
    "### Khởi tạo dữ liệu"
   ]
  },
  {
   "cell_type": "code",
   "execution_count": 50,
   "id": "a26ae78b",
   "metadata": {},
   "outputs": [
    {
     "data": {
      "text/html": [
       "<div>\n",
       "<style scoped>\n",
       "    .dataframe tbody tr th:only-of-type {\n",
       "        vertical-align: middle;\n",
       "    }\n",
       "\n",
       "    .dataframe tbody tr th {\n",
       "        vertical-align: top;\n",
       "    }\n",
       "\n",
       "    .dataframe thead th {\n",
       "        text-align: right;\n",
       "    }\n",
       "</style>\n",
       "<table border=\"1\" class=\"dataframe\">\n",
       "  <thead>\n",
       "    <tr style=\"text-align: right;\">\n",
       "      <th></th>\n",
       "      <th>beta</th>\n",
       "      <th>exponential</th>\n",
       "      <th>normal_p</th>\n",
       "      <th>normal_l</th>\n",
       "    </tr>\n",
       "  </thead>\n",
       "  <tbody>\n",
       "    <tr>\n",
       "      <th>0</th>\n",
       "      <td>37.154174</td>\n",
       "      <td>24.730830</td>\n",
       "      <td>9.919661</td>\n",
       "      <td>9.540189</td>\n",
       "    </tr>\n",
       "    <tr>\n",
       "      <th>1</th>\n",
       "      <td>44.267320</td>\n",
       "      <td>6.502216</td>\n",
       "      <td>8.721135</td>\n",
       "      <td>-2.923945</td>\n",
       "    </tr>\n",
       "    <tr>\n",
       "      <th>2</th>\n",
       "      <td>34.474573</td>\n",
       "      <td>7.319474</td>\n",
       "      <td>8.768342</td>\n",
       "      <td>10.844543</td>\n",
       "    </tr>\n",
       "    <tr>\n",
       "      <th>3</th>\n",
       "      <td>59.987774</td>\n",
       "      <td>20.301966</td>\n",
       "      <td>12.854787</td>\n",
       "      <td>4.906351</td>\n",
       "    </tr>\n",
       "    <tr>\n",
       "      <th>4</th>\n",
       "      <td>48.161813</td>\n",
       "      <td>6.209505</td>\n",
       "      <td>10.172813</td>\n",
       "      <td>-2.088236</td>\n",
       "    </tr>\n",
       "    <tr>\n",
       "      <th>...</th>\n",
       "      <td>...</td>\n",
       "      <td>...</td>\n",
       "      <td>...</td>\n",
       "      <td>...</td>\n",
       "    </tr>\n",
       "    <tr>\n",
       "      <th>995</th>\n",
       "      <td>51.382120</td>\n",
       "      <td>9.632363</td>\n",
       "      <td>8.134823</td>\n",
       "      <td>7.229447</td>\n",
       "    </tr>\n",
       "    <tr>\n",
       "      <th>996</th>\n",
       "      <td>51.720557</td>\n",
       "      <td>4.206660</td>\n",
       "      <td>6.705503</td>\n",
       "      <td>-7.787156</td>\n",
       "    </tr>\n",
       "    <tr>\n",
       "      <th>997</th>\n",
       "      <td>32.743157</td>\n",
       "      <td>14.256837</td>\n",
       "      <td>12.526771</td>\n",
       "      <td>6.987047</td>\n",
       "    </tr>\n",
       "    <tr>\n",
       "      <th>998</th>\n",
       "      <td>57.949702</td>\n",
       "      <td>8.741886</td>\n",
       "      <td>9.429469</td>\n",
       "      <td>21.644645</td>\n",
       "    </tr>\n",
       "    <tr>\n",
       "      <th>999</th>\n",
       "      <td>58.443290</td>\n",
       "      <td>5.330556</td>\n",
       "      <td>11.145916</td>\n",
       "      <td>-8.124600</td>\n",
       "    </tr>\n",
       "  </tbody>\n",
       "</table>\n",
       "<p>1000 rows × 4 columns</p>\n",
       "</div>"
      ],
      "text/plain": [
       "          beta  exponential   normal_p   normal_l\n",
       "0    37.154174    24.730830   9.919661   9.540189\n",
       "1    44.267320     6.502216   8.721135  -2.923945\n",
       "2    34.474573     7.319474   8.768342  10.844543\n",
       "3    59.987774    20.301966  12.854787   4.906351\n",
       "4    48.161813     6.209505  10.172813  -2.088236\n",
       "..         ...          ...        ...        ...\n",
       "995  51.382120     9.632363   8.134823   7.229447\n",
       "996  51.720557     4.206660   6.705503  -7.787156\n",
       "997  32.743157    14.256837  12.526771   6.987047\n",
       "998  57.949702     8.741886   9.429469  21.644645\n",
       "999  58.443290     5.330556  11.145916  -8.124600\n",
       "\n",
       "[1000 rows x 4 columns]"
      ]
     },
     "execution_count": 50,
     "metadata": {},
     "output_type": "execute_result"
    }
   ],
   "source": [
    "# Tạo các cột theo các phân phối khác nhau\n",
    "df = pd.DataFrame({\"beta\": np.random.beta(5, 1, 1000) * 60,\n",
    "                   \"exponential\": np.random.exponential(10, 1000),\n",
    "                   \"normal_p\": np.random.normal(10, 2, 1000),\n",
    "                   \"normal_l\": np.random.normal(10, 10, 1000),\n",
    "})\n",
    "\n",
    "df"
   ]
  },
  {
   "cell_type": "code",
   "execution_count": 51,
   "id": "4ba36dbe",
   "metadata": {},
   "outputs": [
    {
     "data": {
      "text/html": [
       "<div>\n",
       "<style scoped>\n",
       "    .dataframe tbody tr th:only-of-type {\n",
       "        vertical-align: middle;\n",
       "    }\n",
       "\n",
       "    .dataframe tbody tr th {\n",
       "        vertical-align: top;\n",
       "    }\n",
       "\n",
       "    .dataframe thead th {\n",
       "        text-align: right;\n",
       "    }\n",
       "</style>\n",
       "<table border=\"1\" class=\"dataframe\">\n",
       "  <thead>\n",
       "    <tr style=\"text-align: right;\">\n",
       "      <th></th>\n",
       "      <th>beta</th>\n",
       "      <th>exponential</th>\n",
       "      <th>normal_p</th>\n",
       "      <th>normal_l</th>\n",
       "      <th>bimodal</th>\n",
       "    </tr>\n",
       "  </thead>\n",
       "  <tbody>\n",
       "    <tr>\n",
       "      <th>0</th>\n",
       "      <td>37.154174</td>\n",
       "      <td>24.730830</td>\n",
       "      <td>9.919661</td>\n",
       "      <td>9.540189</td>\n",
       "      <td>16.549456</td>\n",
       "    </tr>\n",
       "    <tr>\n",
       "      <th>1</th>\n",
       "      <td>44.267320</td>\n",
       "      <td>6.502216</td>\n",
       "      <td>8.721135</td>\n",
       "      <td>-2.923945</td>\n",
       "      <td>17.299573</td>\n",
       "    </tr>\n",
       "    <tr>\n",
       "      <th>2</th>\n",
       "      <td>34.474573</td>\n",
       "      <td>7.319474</td>\n",
       "      <td>8.768342</td>\n",
       "      <td>10.844543</td>\n",
       "      <td>21.588488</td>\n",
       "    </tr>\n",
       "    <tr>\n",
       "      <th>3</th>\n",
       "      <td>59.987774</td>\n",
       "      <td>20.301966</td>\n",
       "      <td>12.854787</td>\n",
       "      <td>4.906351</td>\n",
       "      <td>22.862021</td>\n",
       "    </tr>\n",
       "    <tr>\n",
       "      <th>4</th>\n",
       "      <td>48.161813</td>\n",
       "      <td>6.209505</td>\n",
       "      <td>10.172813</td>\n",
       "      <td>-2.088236</td>\n",
       "      <td>18.249573</td>\n",
       "    </tr>\n",
       "  </tbody>\n",
       "</table>\n",
       "</div>"
      ],
      "text/plain": [
       "        beta  exponential   normal_p   normal_l    bimodal\n",
       "0  37.154174    24.730830   9.919661   9.540189  16.549456\n",
       "1  44.267320     6.502216   8.721135  -2.923945  17.299573\n",
       "2  34.474573     7.319474   8.768342  10.844543  21.588488\n",
       "3  59.987774    20.301966  12.854787   4.906351  22.862021\n",
       "4  48.161813     6.209505  10.172813  -2.088236  18.249573"
      ]
     },
     "execution_count": 51,
     "metadata": {},
     "output_type": "execute_result"
    }
   ],
   "source": [
    "# Thêm dữ liệu được tạo theo phân phối nhị thức\n",
    "first_half = np.random.normal(20, 3, 500)\n",
    "second_half = np.random.normal(-20, 3, 500)\n",
    "bimodal = np.concatenate([first_half, second_half])\n",
    "\n",
    "df[\"bimodal\"] = bimodal\n",
    "\n",
    "df.head()"
   ]
  },
  {
   "cell_type": "markdown",
   "id": "adf8ef8b",
   "metadata": {},
   "source": [
    "### Trực quan hóa dữ liệu sinh ra"
   ]
  },
  {
   "cell_type": "code",
   "execution_count": 52,
   "id": "539d458d",
   "metadata": {},
   "outputs": [
    {
     "data": {
      "text/plain": [
       "<AxesSubplot:ylabel='Density'>"
      ]
     },
     "execution_count": 52,
     "metadata": {},
     "output_type": "execute_result"
    },
    {
     "data": {
      "image/png": "[encoded data removed]",
      "text/plain": [
       "<Figure size 432x288 with 1 Axes>"
      ]
     },
     "metadata": {
      "needs_background": "light"
     },
     "output_type": "display_data"
    }
   ],
   "source": [
    "sns.kdeplot(data = df)"
   ]
  },
  {
   "cell_type": "code",
   "execution_count": 53,
   "id": "3b49b79f",
   "metadata": {
    "scrolled": true
   },
   "outputs": [
    {
     "data": {
      "text/html": [
       "<div>\n",
       "<style scoped>\n",
       "    .dataframe tbody tr th:only-of-type {\n",
       "        vertical-align: middle;\n",
       "    }\n",
       "\n",
       "    .dataframe tbody tr th {\n",
       "        vertical-align: top;\n",
       "    }\n",
       "\n",
       "    .dataframe thead th {\n",
       "        text-align: right;\n",
       "    }\n",
       "</style>\n",
       "<table border=\"1\" class=\"dataframe\">\n",
       "  <thead>\n",
       "    <tr style=\"text-align: right;\">\n",
       "      <th></th>\n",
       "      <th>beta</th>\n",
       "      <th>exponential</th>\n",
       "      <th>normal_p</th>\n",
       "      <th>normal_l</th>\n",
       "      <th>bimodal</th>\n",
       "    </tr>\n",
       "  </thead>\n",
       "  <tbody>\n",
       "    <tr>\n",
       "      <th>count</th>\n",
       "      <td>1000.000000</td>\n",
       "      <td>1000.000000</td>\n",
       "      <td>1000.000000</td>\n",
       "      <td>1000.000000</td>\n",
       "      <td>1000.000000</td>\n",
       "    </tr>\n",
       "    <tr>\n",
       "      <th>mean</th>\n",
       "      <td>49.753003</td>\n",
       "      <td>9.869782</td>\n",
       "      <td>9.992911</td>\n",
       "      <td>9.802955</td>\n",
       "      <td>0.109944</td>\n",
       "    </tr>\n",
       "    <tr>\n",
       "      <th>std</th>\n",
       "      <td>8.481107</td>\n",
       "      <td>9.894399</td>\n",
       "      <td>2.072976</td>\n",
       "      <td>10.060320</td>\n",
       "      <td>20.154216</td>\n",
       "    </tr>\n",
       "    <tr>\n",
       "      <th>min</th>\n",
       "      <td>14.849421</td>\n",
       "      <td>0.003950</td>\n",
       "      <td>3.943129</td>\n",
       "      <td>-21.698393</td>\n",
       "      <td>-27.730231</td>\n",
       "    </tr>\n",
       "    <tr>\n",
       "      <th>25%</th>\n",
       "      <td>45.147673</td>\n",
       "      <td>3.074764</td>\n",
       "      <td>8.513572</td>\n",
       "      <td>3.174227</td>\n",
       "      <td>-19.941327</td>\n",
       "    </tr>\n",
       "    <tr>\n",
       "      <th>50%</th>\n",
       "      <td>51.905787</td>\n",
       "      <td>6.875119</td>\n",
       "      <td>10.002611</td>\n",
       "      <td>9.928553</td>\n",
       "      <td>0.261565</td>\n",
       "    </tr>\n",
       "    <tr>\n",
       "      <th>75%</th>\n",
       "      <td>56.293145</td>\n",
       "      <td>13.380329</td>\n",
       "      <td>11.409352</td>\n",
       "      <td>16.920587</td>\n",
       "      <td>20.087487</td>\n",
       "    </tr>\n",
       "    <tr>\n",
       "      <th>max</th>\n",
       "      <td>59.987774</td>\n",
       "      <td>94.033759</td>\n",
       "      <td>16.661801</td>\n",
       "      <td>36.558529</td>\n",
       "      <td>29.951392</td>\n",
       "    </tr>\n",
       "  </tbody>\n",
       "</table>\n",
       "</div>"
      ],
      "text/plain": [
       "              beta  exponential     normal_p     normal_l      bimodal\n",
       "count  1000.000000  1000.000000  1000.000000  1000.000000  1000.000000\n",
       "mean     49.753003     9.869782     9.992911     9.802955     0.109944\n",
       "std       8.481107     9.894399     2.072976    10.060320    20.154216\n",
       "min      14.849421     0.003950     3.943129   -21.698393   -27.730231\n",
       "25%      45.147673     3.074764     8.513572     3.174227   -19.941327\n",
       "50%      51.905787     6.875119    10.002611     9.928553     0.261565\n",
       "75%      56.293145    13.380329    11.409352    16.920587    20.087487\n",
       "max      59.987774    94.033759    16.661801    36.558529    29.951392"
      ]
     },
     "execution_count": 53,
     "metadata": {},
     "output_type": "execute_result"
    }
   ],
   "source": [
    "# Thống kê về dữ liệu sinh ra\n",
    "df.describe()"
   ]
  },
  {
   "cell_type": "markdown",
   "id": "5b2f563a",
   "metadata": {},
   "source": [
    "### Thêm một đặc trưng với giá trị lớn hơn nhiều"
   ]
  },
  {
   "cell_type": "code",
   "execution_count": 54,
   "id": "6e148730",
   "metadata": {},
   "outputs": [
    {
     "data": {
      "text/plain": [
       "<AxesSubplot:ylabel='Density'>"
      ]
     },
     "execution_count": 54,
     "metadata": {},
     "output_type": "execute_result"
    },
    {
     "data": {
      "image/png": "[encoded data removed]",
      "text/plain": [
       "<Figure size 432x288 with 1 Axes>"
      ]
     },
     "metadata": {
      "needs_background": "light"
     },
     "output_type": "display_data"
    }
   ],
   "source": [
    "normal_big = np.random.normal(1000000, 10000, (1000, 1))\n",
    "\n",
    "df[\"normal_big\"] = normal_big\n",
    "sns.kdeplot(data = df)"
   ]
  },
  {
   "cell_type": "code",
   "execution_count": 55,
   "id": "a7f19a4c",
   "metadata": {
    "scrolled": true
   },
   "outputs": [
    {
     "data": {
      "text/plain": [
       "<AxesSubplot:>"
      ]
     },
     "execution_count": 55,
     "metadata": {},
     "output_type": "execute_result"
    },
    {
     "data": {
      "image/png": "[encoded data removed]",
      "text/plain": [
       "<Figure size 432x288 with 1 Axes>"
      ]
     },
     "metadata": {
      "needs_background": "light"
     },
     "output_type": "display_data"
    }
   ],
   "source": [
    "# Trực quan hóa bằng biểu đồ box plot\n",
    "df.boxplot()"
   ]
  },
  {
   "cell_type": "markdown",
   "id": "415bd220",
   "metadata": {},
   "source": [
    "### Chuẩn hóa với Min - Max Scaling"
   ]
  },
  {
   "cell_type": "code",
   "execution_count": 56,
   "id": "c3a348fd",
   "metadata": {},
   "outputs": [],
   "source": [
    "# Khai báo đối tượng MinMaxScaler\n",
    "scaler = MinMaxScaler()"
   ]
  },
  {
   "cell_type": "code",
   "execution_count": 57,
   "id": "38eeed22",
   "metadata": {},
   "outputs": [
    {
     "data": {
      "text/html": [
       "<div>\n",
       "<style scoped>\n",
       "    .dataframe tbody tr th:only-of-type {\n",
       "        vertical-align: middle;\n",
       "    }\n",
       "\n",
       "    .dataframe tbody tr th {\n",
       "        vertical-align: top;\n",
       "    }\n",
       "\n",
       "    .dataframe thead th {\n",
       "        text-align: right;\n",
       "    }\n",
       "</style>\n",
       "<table border=\"1\" class=\"dataframe\">\n",
       "  <thead>\n",
       "    <tr style=\"text-align: right;\">\n",
       "      <th></th>\n",
       "      <th>beta</th>\n",
       "      <th>exponential</th>\n",
       "      <th>normal_p</th>\n",
       "      <th>normal_l</th>\n",
       "      <th>bimodal</th>\n",
       "      <th>normal_big</th>\n",
       "    </tr>\n",
       "  </thead>\n",
       "  <tbody>\n",
       "    <tr>\n",
       "      <th>0</th>\n",
       "      <td>0.494142</td>\n",
       "      <td>0.262969</td>\n",
       "      <td>0.469902</td>\n",
       "      <td>0.536221</td>\n",
       "      <td>0.767657</td>\n",
       "      <td>0.401456</td>\n",
       "    </tr>\n",
       "    <tr>\n",
       "      <th>1</th>\n",
       "      <td>0.651727</td>\n",
       "      <td>0.069109</td>\n",
       "      <td>0.375669</td>\n",
       "      <td>0.322270</td>\n",
       "      <td>0.780661</td>\n",
       "      <td>0.604480</td>\n",
       "    </tr>\n",
       "    <tr>\n",
       "      <th>2</th>\n",
       "      <td>0.434778</td>\n",
       "      <td>0.077800</td>\n",
       "      <td>0.379380</td>\n",
       "      <td>0.558611</td>\n",
       "      <td>0.855016</td>\n",
       "      <td>0.650481</td>\n",
       "    </tr>\n",
       "    <tr>\n",
       "      <th>3</th>\n",
       "      <td>1.000000</td>\n",
       "      <td>0.215868</td>\n",
       "      <td>0.700675</td>\n",
       "      <td>0.456680</td>\n",
       "      <td>0.877095</td>\n",
       "      <td>0.463443</td>\n",
       "    </tr>\n",
       "    <tr>\n",
       "      <th>4</th>\n",
       "      <td>0.738006</td>\n",
       "      <td>0.065996</td>\n",
       "      <td>0.489806</td>\n",
       "      <td>0.336615</td>\n",
       "      <td>0.797131</td>\n",
       "      <td>0.497449</td>\n",
       "    </tr>\n",
       "  </tbody>\n",
       "</table>\n",
       "</div>"
      ],
      "text/plain": [
       "       beta  exponential  normal_p  normal_l   bimodal  normal_big\n",
       "0  0.494142     0.262969  0.469902  0.536221  0.767657    0.401456\n",
       "1  0.651727     0.069109  0.375669  0.322270  0.780661    0.604480\n",
       "2  0.434778     0.077800  0.379380  0.558611  0.855016    0.650481\n",
       "3  1.000000     0.215868  0.700675  0.456680  0.877095    0.463443\n",
       "4  0.738006     0.065996  0.489806  0.336615  0.797131    0.497449"
      ]
     },
     "execution_count": 57,
     "metadata": {},
     "output_type": "execute_result"
    }
   ],
   "source": [
    "# Chuẩn hóa dữ liệu trong df với StandardScaler\n",
    "df_s = scaler.fit_transform(df)\n",
    "\n",
    "# Lấy danh sách cột\n",
    "col_names = list(df.columns)\n",
    "\n",
    "# Truyền về DataFrame, gán các cột của df cho dữ liệu đã được chuẩn hóa\n",
    "df_s = pd.DataFrame(df_s, columns = col_names)\n",
    "\n",
    "df_s.head()"
   ]
  },
  {
   "cell_type": "markdown",
   "id": "c8a76294",
   "metadata": {},
   "source": [
    "### Biểu diễn dữ liệu đã được chuẩn hóa"
   ]
  },
  {
   "cell_type": "code",
   "execution_count": 58,
   "id": "1d1f34c5",
   "metadata": {
    "scrolled": true
   },
   "outputs": [
    {
     "data": {
      "text/plain": [
       "<AxesSubplot:ylabel='Density'>"
      ]
     },
     "execution_count": 58,
     "metadata": {},
     "output_type": "execute_result"
    },
    {
     "data": {
      "image/png": "[encoded data removed]",
      "text/plain": [
       "<Figure size 432x288 with 1 Axes>"
      ]
     },
     "metadata": {
      "needs_background": "light"
     },
     "output_type": "display_data"
    }
   ],
   "source": [
    "sns.kdeplot(data = df_s)"
   ]
  },
  {
   "cell_type": "code",
   "execution_count": 59,
   "id": "af63430e",
   "metadata": {},
   "outputs": [
    {
     "data": {
      "text/plain": [
       "<AxesSubplot:>"
      ]
     },
     "execution_count": 59,
     "metadata": {},
     "output_type": "execute_result"
    },
    {
     "data": {
      "image/png": "[encoded data removed]",
      "text/plain": [
       "<Figure size 432x288 with 1 Axes>"
      ]
     },
     "metadata": {
      "needs_background": "light"
     },
     "output_type": "display_data"
    }
   ],
   "source": [
    "# Trực quan hóa dữ liệu bằng biểu đồ box plot\n",
    "df_s.boxplot()"
   ]
  },
  {
   "cell_type": "code",
   "execution_count": 60,
   "id": "4e96202b",
   "metadata": {
    "scrolled": true
   },
   "outputs": [
    {
     "data": {
      "text/html": [
       "<div>\n",
       "<style scoped>\n",
       "    .dataframe tbody tr th:only-of-type {\n",
       "        vertical-align: middle;\n",
       "    }\n",
       "\n",
       "    .dataframe tbody tr th {\n",
       "        vertical-align: top;\n",
       "    }\n",
       "\n",
       "    .dataframe thead th {\n",
       "        text-align: right;\n",
       "    }\n",
       "</style>\n",
       "<table border=\"1\" class=\"dataframe\">\n",
       "  <thead>\n",
       "    <tr style=\"text-align: right;\">\n",
       "      <th></th>\n",
       "      <th>beta</th>\n",
       "      <th>exponential</th>\n",
       "      <th>normal_p</th>\n",
       "      <th>normal_l</th>\n",
       "      <th>bimodal</th>\n",
       "      <th>normal_big</th>\n",
       "    </tr>\n",
       "  </thead>\n",
       "  <tbody>\n",
       "    <tr>\n",
       "      <th>count</th>\n",
       "      <td>1000.000000</td>\n",
       "      <td>1000.000000</td>\n",
       "      <td>1000.000000</td>\n",
       "      <td>1000.000000</td>\n",
       "      <td>1000.000000</td>\n",
       "      <td>1000.000000</td>\n",
       "    </tr>\n",
       "    <tr>\n",
       "      <th>mean</th>\n",
       "      <td>0.773258</td>\n",
       "      <td>0.104922</td>\n",
       "      <td>0.475661</td>\n",
       "      <td>0.540731</td>\n",
       "      <td>0.482652</td>\n",
       "      <td>0.505506</td>\n",
       "    </tr>\n",
       "    <tr>\n",
       "      <th>std</th>\n",
       "      <td>0.187891</td>\n",
       "      <td>0.105226</td>\n",
       "      <td>0.162987</td>\n",
       "      <td>0.172689</td>\n",
       "      <td>0.349404</td>\n",
       "      <td>0.147418</td>\n",
       "    </tr>\n",
       "    <tr>\n",
       "      <th>min</th>\n",
       "      <td>0.000000</td>\n",
       "      <td>0.000000</td>\n",
       "      <td>0.000000</td>\n",
       "      <td>0.000000</td>\n",
       "      <td>0.000000</td>\n",
       "      <td>0.000000</td>\n",
       "    </tr>\n",
       "    <tr>\n",
       "      <th>25%</th>\n",
       "      <td>0.671231</td>\n",
       "      <td>0.032658</td>\n",
       "      <td>0.359349</td>\n",
       "      <td>0.426947</td>\n",
       "      <td>0.135033</td>\n",
       "      <td>0.409391</td>\n",
       "    </tr>\n",
       "    <tr>\n",
       "      <th>50%</th>\n",
       "      <td>0.820951</td>\n",
       "      <td>0.073074</td>\n",
       "      <td>0.476424</td>\n",
       "      <td>0.542887</td>\n",
       "      <td>0.485281</td>\n",
       "      <td>0.499870</td>\n",
       "    </tr>\n",
       "    <tr>\n",
       "      <th>75%</th>\n",
       "      <td>0.918149</td>\n",
       "      <td>0.142257</td>\n",
       "      <td>0.587028</td>\n",
       "      <td>0.662908</td>\n",
       "      <td>0.828994</td>\n",
       "      <td>0.600684</td>\n",
       "    </tr>\n",
       "    <tr>\n",
       "      <th>max</th>\n",
       "      <td>1.000000</td>\n",
       "      <td>1.000000</td>\n",
       "      <td>1.000000</td>\n",
       "      <td>1.000000</td>\n",
       "      <td>1.000000</td>\n",
       "      <td>1.000000</td>\n",
       "    </tr>\n",
       "  </tbody>\n",
       "</table>\n",
       "</div>"
      ],
      "text/plain": [
       "              beta  exponential     normal_p     normal_l      bimodal  \\\n",
       "count  1000.000000  1000.000000  1000.000000  1000.000000  1000.000000   \n",
       "mean      0.773258     0.104922     0.475661     0.540731     0.482652   \n",
       "std       0.187891     0.105226     0.162987     0.172689     0.349404   \n",
       "min       0.000000     0.000000     0.000000     0.000000     0.000000   \n",
       "25%       0.671231     0.032658     0.359349     0.426947     0.135033   \n",
       "50%       0.820951     0.073074     0.476424     0.542887     0.485281   \n",
       "75%       0.918149     0.142257     0.587028     0.662908     0.828994   \n",
       "max       1.000000     1.000000     1.000000     1.000000     1.000000   \n",
       "\n",
       "        normal_big  \n",
       "count  1000.000000  \n",
       "mean      0.505506  \n",
       "std       0.147418  \n",
       "min       0.000000  \n",
       "25%       0.409391  \n",
       "50%       0.499870  \n",
       "75%       0.600684  \n",
       "max       1.000000  "
      ]
     },
     "execution_count": 60,
     "metadata": {},
     "output_type": "execute_result"
    }
   ],
   "source": [
    "# Thống kê về dữ liệu được sinh ra\n",
    "df_s.describe()"
   ]
  },
  {
   "cell_type": "code",
   "execution_count": 61,
   "id": "e3a1a615",
   "metadata": {},
   "outputs": [
    {
     "data": {
      "text/plain": [
       "0.0"
      ]
     },
     "execution_count": 61,
     "metadata": {},
     "output_type": "execute_result"
    }
   ],
   "source": [
    "# Lấy giá trị min của cột \"beta\"\n",
    "df_s[\"beta\"].min()"
   ]
  },
  {
   "cell_type": "code",
   "execution_count": 62,
   "id": "679affc4",
   "metadata": {},
   "outputs": [
    {
     "data": {
      "text/plain": [
       "0.9999999999999999"
      ]
     },
     "execution_count": 62,
     "metadata": {},
     "output_type": "execute_result"
    }
   ],
   "source": [
    "# Lấy giá trị max của cột \"beta\"\n",
    "df_s[\"beta\"].max()"
   ]
  },
  {
   "cell_type": "code",
   "execution_count": 63,
   "id": "a2d4c07a",
   "metadata": {},
   "outputs": [
    {
     "data": {
      "text/plain": [
       "[14.849420873239463,\n",
       " 0.003950440893878594,\n",
       " 3.943129464762709,\n",
       " -21.698393061370655,\n",
       " -27.73023127209386,\n",
       " 966052.0612953636]"
      ]
     },
     "execution_count": 63,
     "metadata": {},
     "output_type": "execute_result"
    }
   ],
   "source": [
    "# In các giá trị min của từng cột trong dữ liệu chưa chuẩn hóa\n",
    "mins = [df[col].min() for col in df.columns]\n",
    "mins"
   ]
  },
  {
   "cell_type": "code",
   "execution_count": 64,
   "id": "0e4c05f4",
   "metadata": {},
   "outputs": [
    {
     "data": {
      "text/plain": [
       "[0.0, 0.0, 0.0, 0.0, 0.0, 0.0]"
      ]
     },
     "execution_count": 64,
     "metadata": {},
     "output_type": "execute_result"
    }
   ],
   "source": [
    "# In các giá trị min của từng cột trong dữ liệu đã chuẩn hóa\n",
    "mins = [df_s[col].min() for col in df_s.columns]\n",
    "mins"
   ]
  },
  {
   "cell_type": "code",
   "execution_count": 65,
   "id": "af74fe39",
   "metadata": {},
   "outputs": [
    {
     "data": {
      "text/plain": [
       "[59.98777400183727,\n",
       " 94.03375866361601,\n",
       " 16.661800661208574,\n",
       " 36.5585290266035,\n",
       " 29.951392257749934,\n",
       " 1032407.2348188962]"
      ]
     },
     "execution_count": 65,
     "metadata": {},
     "output_type": "execute_result"
    }
   ],
   "source": [
    "# In các giá trị max của từng cột dữ liệu chưa chuẩn hóa\n",
    "maxs = [df[col].max() for col in df.columns]\n",
    "maxs"
   ]
  },
  {
   "cell_type": "code",
   "execution_count": 66,
   "id": "c25970da",
   "metadata": {},
   "outputs": [
    {
     "data": {
      "text/plain": [
       "[0.9999999999999999, 1.0, 1.0000000000000002, 0.9999999999999998, 1.0, 1.0]"
      ]
     },
     "execution_count": 66,
     "metadata": {},
     "output_type": "execute_result"
    }
   ],
   "source": [
    "# In các giá trị max của từng cột dữ liệu đã chuẩn hóa\n",
    "maxs = [df_s[col].max() for col in df_s.columns]\n",
    "maxs"
   ]
  }
 ],
 "metadata": {
  "kernelspec": {
   "display_name": "Python 3 (ipykernel)",
   "language": "python",
   "name": "python3"
  },
  "language_info": {
   "codemirror_mode": {
    "name": "ipython",
    "version": 3
   },
   "file_extension": ".py",
   "mimetype": "text/x-python",
   "name": "python",
   "nbconvert_exporter": "python",
   "pygments_lexer": "ipython3",
   "version": "3.9.6"
  }
 },
 "nbformat": 4,
 "nbformat_minor": 5
}
