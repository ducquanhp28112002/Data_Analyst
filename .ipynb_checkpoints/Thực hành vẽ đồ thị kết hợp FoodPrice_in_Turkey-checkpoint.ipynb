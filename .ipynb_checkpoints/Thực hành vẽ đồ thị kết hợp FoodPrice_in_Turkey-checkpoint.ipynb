{
 "cells": [
  {
   "cell_type": "code",
   "execution_count": 1,
   "id": "bf493f27",
   "metadata": {},
   "outputs": [],
   "source": [
    "import pandas as pd\n",
    "import matplotlib.pyplot as plt"
   ]
  },
  {
   "cell_type": "code",
   "execution_count": 2,
   "id": "d0e1208a",
   "metadata": {},
   "outputs": [],
   "source": [
    "# Đọc dữ liệu\n",
    "df = pd.read_csv(\"FoodPrice_in_Turkey.csv\")"
   ]
  },
  {
   "cell_type": "markdown",
   "id": "cf4a699c",
   "metadata": {},
   "source": [
    "- Vẽ các biểu đồ so sánh giá Milk (powder, infant formula) và Fuel (gas) tháng 12 cuối năm 2019 của Ankara, Istanbul, Izmir và National Average."
   ]
  },
  {
   "cell_type": "code",
   "execution_count": 6,
   "id": "14e4a837",
   "metadata": {},
   "outputs": [],
   "source": [
    "# Lấy dữ liệu\n",
    "df_1 = df[(df[\"Year\"] == 2019) & (df[\"Month\"] == 12) & (df[\"ProductName\"] == \"Milk (powder, infant formula) - Retail\")].reset_index()\n",
    "df_2 = df[(df[\"Year\"] == 2019) & (df[\"Month\"] == 12) & (df[\"ProductName\"] == \"Fuel (gas) - Retail\")].reset_index()\n",
    "data_1 = pd.DataFrame({\"x\": df_1[\"Place\"], \"y1\": df_1[\"Price\"], \"y2\": df_2[\"Price\"]})"
   ]
  },
  {
   "cell_type": "code",
   "execution_count": 7,
   "id": "9c948b92",
   "metadata": {},
   "outputs": [
    {
     "data": {
      "text/html": [
       "<div>\n",
       "<style scoped>\n",
       "    .dataframe tbody tr th:only-of-type {\n",
       "        vertical-align: middle;\n",
       "    }\n",
       "\n",
       "    .dataframe tbody tr th {\n",
       "        vertical-align: top;\n",
       "    }\n",
       "\n",
       "    .dataframe thead th {\n",
       "        text-align: right;\n",
       "    }\n",
       "</style>\n",
       "<table border=\"1\" class=\"dataframe\">\n",
       "  <thead>\n",
       "    <tr style=\"text-align: right;\">\n",
       "      <th></th>\n",
       "      <th>x</th>\n",
       "      <th>y1</th>\n",
       "      <th>y2</th>\n",
       "    </tr>\n",
       "  </thead>\n",
       "  <tbody>\n",
       "    <tr>\n",
       "      <th>0</th>\n",
       "      <td>National Average</td>\n",
       "      <td>124.8845</td>\n",
       "      <td>108.5535</td>\n",
       "    </tr>\n",
       "    <tr>\n",
       "      <th>1</th>\n",
       "      <td>Ankara</td>\n",
       "      <td>128.4533</td>\n",
       "      <td>106.0534</td>\n",
       "    </tr>\n",
       "    <tr>\n",
       "      <th>2</th>\n",
       "      <td>Istanbul</td>\n",
       "      <td>122.7862</td>\n",
       "      <td>112.4568</td>\n",
       "    </tr>\n",
       "    <tr>\n",
       "      <th>3</th>\n",
       "      <td>Izmir</td>\n",
       "      <td>147.1558</td>\n",
       "      <td>109.1172</td>\n",
       "    </tr>\n",
       "  </tbody>\n",
       "</table>\n",
       "</div>"
      ],
      "text/plain": [
       "                  x        y1        y2\n",
       "0  National Average  124.8845  108.5535\n",
       "1            Ankara  128.4533  106.0534\n",
       "2          Istanbul  122.7862  112.4568\n",
       "3             Izmir  147.1558  109.1172"
      ]
     },
     "execution_count": 7,
     "metadata": {},
     "output_type": "execute_result"
    }
   ],
   "source": [
    "data_1"
   ]
  },
  {
   "cell_type": "code",
   "execution_count": 8,
   "id": "22b9bd6c",
   "metadata": {},
   "outputs": [
    {
     "data": {
      "image/png": "[encoded data removed]",
      "text/plain": [
       "<Figure size 432x288 with 1 Axes>"
      ]
     },
     "metadata": {
      "needs_background": "light"
     },
     "output_type": "display_data"
    }
   ],
   "source": [
    "# Vẽ biểu đồ\n",
    "data_1.plot(x = \"x\", y = [\"y1\", \"y2\"], kind = \"bar\")\n",
    "plt.title(\"Milk and Gas Price in 12/2019\", fontsize = 16, color = \"red\")\n",
    "plt.xlabel(\"Place\", fontsize = 14)\n",
    "plt.ylabel(\"Price\", fontsize = 14)\n",
    "plt.show()"
   ]
  },
  {
   "cell_type": "markdown",
   "id": "34948cc9",
   "metadata": {},
   "source": [
    "- Vẽ các biểu đồ đường phân tích xu hướng giá gạo (Rice-Retail), giá Fuel (gas) trung bình cả nước (National Average) trong năm 2016, 2018, 2019 tại Thổ Nhĩ Kỳ."
   ]
  },
  {
   "cell_type": "markdown",
   "id": "c7a7a57d",
   "metadata": {},
   "source": [
    "- Vẽ biểu đồ Scatter phân tích mối liên quan giữa giá gạo và giá gas trung bình quốc gia (National Average) tại Thổ Nhĩ Kỳ năm 2016, 2018, 2019."
   ]
  },
  {
   "cell_type": "code",
   "execution_count": 9,
   "id": "fbc9cb22",
   "metadata": {},
   "outputs": [],
   "source": [
    "df_31 = df[(df[\"Place\"] == \"National Average\") & (df[\"Year\"] == 2016) & (df[\"ProductName\"] == \"Milk (powder, infant formula) - Retail\")]\n",
    "df_32 = df[(df[\"Place\"] == \"National Average\") & (df[\"Year\"] == 2016) & (df[\"ProductName\"] == \"Fuel (gas) - Retail\")]\n",
    "\n",
    "df_33 = df[(df[\"Place\"] == \"National Average\") & (df[\"Year\"] == 2018) & (df[\"ProductName\"] == \"Milk (powder, infant formula) - Retail\")]\n",
    "df_34 = df[(df[\"Place\"] == \"National Average\") & (df[\"Year\"] == 2018) & (df[\"ProductName\"] == \"Fuel (gas) - Retail\")]\n",
    "\n",
    "df_35 = df[(df[\"Place\"] == \"National Average\") & (df[\"Year\"] == 2019) & (df[\"ProductName\"] == \"Milk (powder, infant formula) - Retail\")]\n",
    "df_36 = df[(df[\"Place\"] == \"National Average\") & (df[\"Year\"] == 2019) & (df[\"ProductName\"] == \"Fuel (gas) - Retail\")]"
   ]
  },
  {
   "cell_type": "code",
   "execution_count": 21,
   "id": "e50a7ba1",
   "metadata": {},
   "outputs": [
    {
     "data": {
      "image/png": "[encoded data removed]",
      "text/plain": [
       "<Figure size 432x288 with 6 Axes>"
      ]
     },
     "metadata": {
      "needs_background": "light"
     },
     "output_type": "display_data"
    }
   ],
   "source": [
    "fig, ax = plt.subplots(3, 2)\n",
    "ax[0][0].plot(df_31[\"Month\"], df_31[\"Price\"], marker = \"*\", label = \"Milk-2016\")\n",
    "ax[0][0].plot(df_32[\"Month\"], df_32[\"Price\"], marker =\"s\", label = \"Gas-2016\")\n",
    "ax[0][0].set_ylabel(\"Price\")\n",
    "ax[0][0].set_xticklabels([])\n",
    "ax[0][0].set_title(\"2016\")\n",
    "\n",
    "ax[1][0].plot(df_33[\"Month\"], df_33[\"Price\"], marker = \"*\", label = \"Milk-2018\")\n",
    "ax[1][0].plot(df_34[\"Month\"], df_34[\"Price\"], marker =\"s\", label = \"Gas-2018\")\n",
    "ax[1][0].set_ylabel(\"Price\")\n",
    "ax[1][0].set_xticklabels([])\n",
    "ax[1][0].set_title(\"2018\")\n",
    "\n",
    "ax[2][0].plot(df_35[\"Month\"], df_35[\"Price\"], marker = \"*\", label = \"Milk-2019\")\n",
    "ax[2][0].plot(df_36[\"Month\"], df_36[\"Price\"], marker =\"s\", label = \"Gas-2019\")\n",
    "ax[2][0].set_ylabel(\"Price\")\n",
    "ax[2][0].set_xlabel(\"Month\")\n",
    "ax[2][0].legend()\n",
    "ax[2][0].set_title(\"2019\")\n",
    "\n",
    "ax[0][1].scatter(df_31[\"Month\"], df_32[\"Price\"])\n",
    "ax[0][1].set_title(\"2016\")\n",
    "ax[0][1].set_ylabel(\"Rice\")\n",
    "ax[0][1].set_xticklabels([])\n",
    "\n",
    "ax[1][1].scatter(df_33[\"Month\"], df_34[\"Price\"])\n",
    "ax[1][1].set_title(\"2018\")\n",
    "ax[1][1].set_xticklabels([])\n",
    "\n",
    "ax[2][1].scatter(df_35[\"Month\"], df_36[\"Price\"])\n",
    "ax[2][1].set_title(\"2019\")\n",
    "ax[2][1].set_xlabel(\"Gas\")\n",
    "\n",
    "plt.show()"
   ]
  }
 ],
 "metadata": {
  "kernelspec": {
   "display_name": "Python 3 (ipykernel)",
   "language": "python",
   "name": "python3"
  },
  "language_info": {
   "codemirror_mode": {
    "name": "ipython",
    "version": 3
   },
   "file_extension": ".py",
   "mimetype": "text/x-python",
   "name": "python",
   "nbconvert_exporter": "python",
   "pygments_lexer": "ipython3",
   "version": "3.9.6"
  }
 },
 "nbformat": 4,
 "nbformat_minor": 5
}
