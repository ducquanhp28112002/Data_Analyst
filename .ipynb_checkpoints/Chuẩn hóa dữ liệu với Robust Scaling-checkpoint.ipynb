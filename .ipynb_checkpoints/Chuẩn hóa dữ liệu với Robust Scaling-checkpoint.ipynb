{
 "cells": [
  {
   "cell_type": "code",
   "execution_count": 2,
   "id": "9f17daac",
   "metadata": {},
   "outputs": [],
   "source": [
    "import pandas as pd\n",
    "import numpy as np\n",
    "import matplotlib.pyplot as plt\n",
    "import seaborn as sns\n",
    "from sklearn.preprocessing import RobustScaler"
   ]
  },
  {
   "cell_type": "markdown",
   "id": "5ef2a14c",
   "metadata": {},
   "source": [
    "### Khởi tạo dữ liệu"
   ]
  },
  {
   "cell_type": "code",
   "execution_count": 4,
   "id": "94b214f6",
   "metadata": {},
   "outputs": [
    {
     "data": {
      "text/html": [
       "<div>\n",
       "<style scoped>\n",
       "    .dataframe tbody tr th:only-of-type {\n",
       "        vertical-align: middle;\n",
       "    }\n",
       "\n",
       "    .dataframe tbody tr th {\n",
       "        vertical-align: top;\n",
       "    }\n",
       "\n",
       "    .dataframe thead th {\n",
       "        text-align: right;\n",
       "    }\n",
       "</style>\n",
       "<table border=\"1\" class=\"dataframe\">\n",
       "  <thead>\n",
       "    <tr style=\"text-align: right;\">\n",
       "      <th></th>\n",
       "      <th>beta</th>\n",
       "      <th>exponential</th>\n",
       "      <th>normal_p</th>\n",
       "      <th>normal_l</th>\n",
       "    </tr>\n",
       "  </thead>\n",
       "  <tbody>\n",
       "    <tr>\n",
       "      <th>0</th>\n",
       "      <td>58.907559</td>\n",
       "      <td>3.608836</td>\n",
       "      <td>9.356764</td>\n",
       "      <td>3.039278</td>\n",
       "    </tr>\n",
       "    <tr>\n",
       "      <th>1</th>\n",
       "      <td>46.262203</td>\n",
       "      <td>6.859420</td>\n",
       "      <td>12.084073</td>\n",
       "      <td>25.423715</td>\n",
       "    </tr>\n",
       "    <tr>\n",
       "      <th>2</th>\n",
       "      <td>39.031495</td>\n",
       "      <td>5.316176</td>\n",
       "      <td>8.978738</td>\n",
       "      <td>23.855267</td>\n",
       "    </tr>\n",
       "    <tr>\n",
       "      <th>3</th>\n",
       "      <td>42.867480</td>\n",
       "      <td>17.646130</td>\n",
       "      <td>8.126756</td>\n",
       "      <td>20.079043</td>\n",
       "    </tr>\n",
       "    <tr>\n",
       "      <th>4</th>\n",
       "      <td>52.269625</td>\n",
       "      <td>26.646303</td>\n",
       "      <td>8.926636</td>\n",
       "      <td>9.111840</td>\n",
       "    </tr>\n",
       "    <tr>\n",
       "      <th>...</th>\n",
       "      <td>...</td>\n",
       "      <td>...</td>\n",
       "      <td>...</td>\n",
       "      <td>...</td>\n",
       "    </tr>\n",
       "    <tr>\n",
       "      <th>995</th>\n",
       "      <td>59.488499</td>\n",
       "      <td>12.956128</td>\n",
       "      <td>6.287607</td>\n",
       "      <td>0.448580</td>\n",
       "    </tr>\n",
       "    <tr>\n",
       "      <th>996</th>\n",
       "      <td>56.029687</td>\n",
       "      <td>16.542257</td>\n",
       "      <td>10.729349</td>\n",
       "      <td>6.465549</td>\n",
       "    </tr>\n",
       "    <tr>\n",
       "      <th>997</th>\n",
       "      <td>55.184604</td>\n",
       "      <td>10.934521</td>\n",
       "      <td>10.616050</td>\n",
       "      <td>1.485354</td>\n",
       "    </tr>\n",
       "    <tr>\n",
       "      <th>998</th>\n",
       "      <td>58.732433</td>\n",
       "      <td>35.083426</td>\n",
       "      <td>9.056607</td>\n",
       "      <td>7.435401</td>\n",
       "    </tr>\n",
       "    <tr>\n",
       "      <th>999</th>\n",
       "      <td>46.322031</td>\n",
       "      <td>1.484168</td>\n",
       "      <td>5.119114</td>\n",
       "      <td>3.641627</td>\n",
       "    </tr>\n",
       "  </tbody>\n",
       "</table>\n",
       "<p>1000 rows × 4 columns</p>\n",
       "</div>"
      ],
      "text/plain": [
       "          beta  exponential   normal_p   normal_l\n",
       "0    58.907559     3.608836   9.356764   3.039278\n",
       "1    46.262203     6.859420  12.084073  25.423715\n",
       "2    39.031495     5.316176   8.978738  23.855267\n",
       "3    42.867480    17.646130   8.126756  20.079043\n",
       "4    52.269625    26.646303   8.926636   9.111840\n",
       "..         ...          ...        ...        ...\n",
       "995  59.488499    12.956128   6.287607   0.448580\n",
       "996  56.029687    16.542257  10.729349   6.465549\n",
       "997  55.184604    10.934521  10.616050   1.485354\n",
       "998  58.732433    35.083426   9.056607   7.435401\n",
       "999  46.322031     1.484168   5.119114   3.641627\n",
       "\n",
       "[1000 rows x 4 columns]"
      ]
     },
     "execution_count": 4,
     "metadata": {},
     "output_type": "execute_result"
    }
   ],
   "source": [
    "# Tạo các cột theo các phân phối khác nhau\n",
    "df = pd.DataFrame({\"beta\": np.random.beta(5, 1, 1000) * 60,\n",
    "                   \"exponential\": np.random.exponential(10, 1000),\n",
    "                   \"normal_p\": np.random.normal(10, 2, 1000),\n",
    "                   \"normal_l\": np.random.normal(10, 10, 1000),\n",
    "})\n",
    "\n",
    "df"
   ]
  },
  {
   "cell_type": "code",
   "execution_count": 5,
   "id": "bf50b347",
   "metadata": {},
   "outputs": [
    {
     "data": {
      "text/html": [
       "<div>\n",
       "<style scoped>\n",
       "    .dataframe tbody tr th:only-of-type {\n",
       "        vertical-align: middle;\n",
       "    }\n",
       "\n",
       "    .dataframe tbody tr th {\n",
       "        vertical-align: top;\n",
       "    }\n",
       "\n",
       "    .dataframe thead th {\n",
       "        text-align: right;\n",
       "    }\n",
       "</style>\n",
       "<table border=\"1\" class=\"dataframe\">\n",
       "  <thead>\n",
       "    <tr style=\"text-align: right;\">\n",
       "      <th></th>\n",
       "      <th>beta</th>\n",
       "      <th>exponential</th>\n",
       "      <th>normal_p</th>\n",
       "      <th>normal_l</th>\n",
       "      <th>bimodal</th>\n",
       "    </tr>\n",
       "  </thead>\n",
       "  <tbody>\n",
       "    <tr>\n",
       "      <th>0</th>\n",
       "      <td>58.907559</td>\n",
       "      <td>3.608836</td>\n",
       "      <td>9.356764</td>\n",
       "      <td>3.039278</td>\n",
       "      <td>22.044832</td>\n",
       "    </tr>\n",
       "    <tr>\n",
       "      <th>1</th>\n",
       "      <td>46.262203</td>\n",
       "      <td>6.859420</td>\n",
       "      <td>12.084073</td>\n",
       "      <td>25.423715</td>\n",
       "      <td>20.082474</td>\n",
       "    </tr>\n",
       "    <tr>\n",
       "      <th>2</th>\n",
       "      <td>39.031495</td>\n",
       "      <td>5.316176</td>\n",
       "      <td>8.978738</td>\n",
       "      <td>23.855267</td>\n",
       "      <td>21.264105</td>\n",
       "    </tr>\n",
       "    <tr>\n",
       "      <th>3</th>\n",
       "      <td>42.867480</td>\n",
       "      <td>17.646130</td>\n",
       "      <td>8.126756</td>\n",
       "      <td>20.079043</td>\n",
       "      <td>19.304631</td>\n",
       "    </tr>\n",
       "    <tr>\n",
       "      <th>4</th>\n",
       "      <td>52.269625</td>\n",
       "      <td>26.646303</td>\n",
       "      <td>8.926636</td>\n",
       "      <td>9.111840</td>\n",
       "      <td>19.186178</td>\n",
       "    </tr>\n",
       "  </tbody>\n",
       "</table>\n",
       "</div>"
      ],
      "text/plain": [
       "        beta  exponential   normal_p   normal_l    bimodal\n",
       "0  58.907559     3.608836   9.356764   3.039278  22.044832\n",
       "1  46.262203     6.859420  12.084073  25.423715  20.082474\n",
       "2  39.031495     5.316176   8.978738  23.855267  21.264105\n",
       "3  42.867480    17.646130   8.126756  20.079043  19.304631\n",
       "4  52.269625    26.646303   8.926636   9.111840  19.186178"
      ]
     },
     "execution_count": 5,
     "metadata": {},
     "output_type": "execute_result"
    }
   ],
   "source": [
    "# Thêm dữ liệu được tạo theo phân phối nhị thức\n",
    "first_half = np.random.normal(20, 3, 500)\n",
    "second_half = np.random.normal(-20, 3, 500)\n",
    "bimodal = np.concatenate([first_half, second_half])\n",
    "\n",
    "df[\"bimodal\"] = bimodal\n",
    "\n",
    "df.head()"
   ]
  },
  {
   "cell_type": "markdown",
   "id": "2a6cdd12",
   "metadata": {},
   "source": [
    "### Trực quan hóa dữ liệu sinh ra"
   ]
  },
  {
   "cell_type": "code",
   "execution_count": 6,
   "id": "ae15f705",
   "metadata": {},
   "outputs": [
    {
     "data": {
      "text/plain": [
       "<AxesSubplot:ylabel='Density'>"
      ]
     },
     "execution_count": 6,
     "metadata": {},
     "output_type": "execute_result"
    },
    {
     "data": {
      "image/png": "[encoded data removed]",
      "text/plain": [
       "<Figure size 432x288 with 1 Axes>"
      ]
     },
     "metadata": {
      "needs_background": "light"
     },
     "output_type": "display_data"
    }
   ],
   "source": [
    "sns.kdeplot(data = df)"
   ]
  },
  {
   "cell_type": "code",
   "execution_count": 7,
   "id": "1e018c83",
   "metadata": {},
   "outputs": [
    {
     "data": {
      "text/html": [
       "<div>\n",
       "<style scoped>\n",
       "    .dataframe tbody tr th:only-of-type {\n",
       "        vertical-align: middle;\n",
       "    }\n",
       "\n",
       "    .dataframe tbody tr th {\n",
       "        vertical-align: top;\n",
       "    }\n",
       "\n",
       "    .dataframe thead th {\n",
       "        text-align: right;\n",
       "    }\n",
       "</style>\n",
       "<table border=\"1\" class=\"dataframe\">\n",
       "  <thead>\n",
       "    <tr style=\"text-align: right;\">\n",
       "      <th></th>\n",
       "      <th>beta</th>\n",
       "      <th>exponential</th>\n",
       "      <th>normal_p</th>\n",
       "      <th>normal_l</th>\n",
       "      <th>bimodal</th>\n",
       "    </tr>\n",
       "  </thead>\n",
       "  <tbody>\n",
       "    <tr>\n",
       "      <th>count</th>\n",
       "      <td>1000.000000</td>\n",
       "      <td>1000.000000</td>\n",
       "      <td>1000.000000</td>\n",
       "      <td>1000.000000</td>\n",
       "      <td>1000.000000</td>\n",
       "    </tr>\n",
       "    <tr>\n",
       "      <th>mean</th>\n",
       "      <td>49.742374</td>\n",
       "      <td>10.450494</td>\n",
       "      <td>10.037134</td>\n",
       "      <td>9.978639</td>\n",
       "      <td>0.043335</td>\n",
       "    </tr>\n",
       "    <tr>\n",
       "      <th>std</th>\n",
       "      <td>8.643416</td>\n",
       "      <td>10.268677</td>\n",
       "      <td>2.027074</td>\n",
       "      <td>9.722102</td>\n",
       "      <td>20.291614</td>\n",
       "    </tr>\n",
       "    <tr>\n",
       "      <th>min</th>\n",
       "      <td>19.863729</td>\n",
       "      <td>0.008833</td>\n",
       "      <td>3.040323</td>\n",
       "      <td>-19.019841</td>\n",
       "      <td>-27.437751</td>\n",
       "    </tr>\n",
       "    <tr>\n",
       "      <th>25%</th>\n",
       "      <td>44.845175</td>\n",
       "      <td>3.236926</td>\n",
       "      <td>8.674320</td>\n",
       "      <td>3.281367</td>\n",
       "      <td>-20.076382</td>\n",
       "    </tr>\n",
       "    <tr>\n",
       "      <th>50%</th>\n",
       "      <td>52.151243</td>\n",
       "      <td>7.621605</td>\n",
       "      <td>10.096279</td>\n",
       "      <td>10.161416</td>\n",
       "      <td>0.730531</td>\n",
       "    </tr>\n",
       "    <tr>\n",
       "      <th>75%</th>\n",
       "      <td>56.636165</td>\n",
       "      <td>14.159413</td>\n",
       "      <td>11.357330</td>\n",
       "      <td>16.612315</td>\n",
       "      <td>20.202124</td>\n",
       "    </tr>\n",
       "    <tr>\n",
       "      <th>max</th>\n",
       "      <td>59.975777</td>\n",
       "      <td>92.202173</td>\n",
       "      <td>16.366818</td>\n",
       "      <td>38.591215</td>\n",
       "      <td>27.811148</td>\n",
       "    </tr>\n",
       "  </tbody>\n",
       "</table>\n",
       "</div>"
      ],
      "text/plain": [
       "              beta  exponential     normal_p     normal_l      bimodal\n",
       "count  1000.000000  1000.000000  1000.000000  1000.000000  1000.000000\n",
       "mean     49.742374    10.450494    10.037134     9.978639     0.043335\n",
       "std       8.643416    10.268677     2.027074     9.722102    20.291614\n",
       "min      19.863729     0.008833     3.040323   -19.019841   -27.437751\n",
       "25%      44.845175     3.236926     8.674320     3.281367   -20.076382\n",
       "50%      52.151243     7.621605    10.096279    10.161416     0.730531\n",
       "75%      56.636165    14.159413    11.357330    16.612315    20.202124\n",
       "max      59.975777    92.202173    16.366818    38.591215    27.811148"
      ]
     },
     "execution_count": 7,
     "metadata": {},
     "output_type": "execute_result"
    }
   ],
   "source": [
    "# Thống kê về dữ liệu sinh ra\n",
    "df.describe()"
   ]
  },
  {
   "cell_type": "markdown",
   "id": "7e079f9b",
   "metadata": {},
   "source": [
    "### Thêm một đặc trưng với giá trị lớn hơn nhiều"
   ]
  },
  {
   "cell_type": "code",
   "execution_count": 9,
   "id": "11f6a255",
   "metadata": {},
   "outputs": [
    {
     "data": {
      "text/plain": [
       "<AxesSubplot:ylabel='Density'>"
      ]
     },
     "execution_count": 9,
     "metadata": {},
     "output_type": "execute_result"
    },
    {
     "data": {
      "image/png": "[encoded data removed]",
      "text/plain": [
       "<Figure size 432x288 with 1 Axes>"
      ]
     },
     "metadata": {
      "needs_background": "light"
     },
     "output_type": "display_data"
    }
   ],
   "source": [
    "normal_big = np.random.normal(1000000, 10000, (1000, 1))\n",
    "\n",
    "df[\"normal_big\"] = normal_big\n",
    "\n",
    "sns.kdeplot(data = df)"
   ]
  },
  {
   "cell_type": "code",
   "execution_count": 10,
   "id": "77a2bddd",
   "metadata": {},
   "outputs": [
    {
     "data": {
      "text/plain": [
       "<AxesSubplot:>"
      ]
     },
     "execution_count": 10,
     "metadata": {},
     "output_type": "execute_result"
    },
    {
     "data": {
      "image/png": "[encoded data removed]",
      "text/plain": [
       "<Figure size 432x288 with 1 Axes>"
      ]
     },
     "metadata": {
      "needs_background": "light"
     },
     "output_type": "display_data"
    }
   ],
   "source": [
    "# Trực quan hóa dữ liệu bằng biểu đồ box plot\n",
    "df.boxplot()"
   ]
  },
  {
   "cell_type": "markdown",
   "id": "9340df26",
   "metadata": {},
   "source": [
    "### Chuẩn hóa với Robust Scaling"
   ]
  },
  {
   "cell_type": "code",
   "execution_count": 11,
   "id": "c601c391",
   "metadata": {},
   "outputs": [],
   "source": [
    "# Khai báo đối tượng\n",
    "scaler = RobustScaler()"
   ]
  },
  {
   "cell_type": "code",
   "execution_count": 15,
   "id": "2fc68897",
   "metadata": {},
   "outputs": [
    {
     "data": {
      "text/html": [
       "<div>\n",
       "<style scoped>\n",
       "    .dataframe tbody tr th:only-of-type {\n",
       "        vertical-align: middle;\n",
       "    }\n",
       "\n",
       "    .dataframe tbody tr th {\n",
       "        vertical-align: top;\n",
       "    }\n",
       "\n",
       "    .dataframe thead th {\n",
       "        text-align: right;\n",
       "    }\n",
       "</style>\n",
       "<table border=\"1\" class=\"dataframe\">\n",
       "  <thead>\n",
       "    <tr style=\"text-align: right;\">\n",
       "      <th></th>\n",
       "      <th>beta</th>\n",
       "      <th>exponential</th>\n",
       "      <th>normal_p</th>\n",
       "      <th>normal_l</th>\n",
       "      <th>bimodal</th>\n",
       "      <th>normal_big</th>\n",
       "    </tr>\n",
       "  </thead>\n",
       "  <tbody>\n",
       "    <tr>\n",
       "      <th>0</th>\n",
       "      <td>0.573007</td>\n",
       "      <td>-0.367386</td>\n",
       "      <td>-0.275629</td>\n",
       "      <td>-0.534256</td>\n",
       "      <td>0.529173</td>\n",
       "      <td>0.635251</td>\n",
       "    </tr>\n",
       "    <tr>\n",
       "      <th>1</th>\n",
       "      <td>-0.499453</td>\n",
       "      <td>-0.069781</td>\n",
       "      <td>0.740882</td>\n",
       "      <td>1.144877</td>\n",
       "      <td>0.480453</td>\n",
       "      <td>-1.320564</td>\n",
       "    </tr>\n",
       "    <tr>\n",
       "      <th>2</th>\n",
       "      <td>-1.112693</td>\n",
       "      <td>-0.211072</td>\n",
       "      <td>-0.416525</td>\n",
       "      <td>1.027223</td>\n",
       "      <td>0.509790</td>\n",
       "      <td>0.760269</td>\n",
       "    </tr>\n",
       "    <tr>\n",
       "      <th>3</th>\n",
       "      <td>-0.787361</td>\n",
       "      <td>0.917788</td>\n",
       "      <td>-0.734072</td>\n",
       "      <td>0.743955</td>\n",
       "      <td>0.461142</td>\n",
       "      <td>1.083780</td>\n",
       "    </tr>\n",
       "    <tr>\n",
       "      <th>4</th>\n",
       "      <td>0.010040</td>\n",
       "      <td>1.741792</td>\n",
       "      <td>-0.435944</td>\n",
       "      <td>-0.078732</td>\n",
       "      <td>0.458201</td>\n",
       "      <td>-0.323590</td>\n",
       "    </tr>\n",
       "  </tbody>\n",
       "</table>\n",
       "</div>"
      ],
      "text/plain": [
       "       beta  exponential  normal_p  normal_l   bimodal  normal_big\n",
       "0  0.573007    -0.367386 -0.275629 -0.534256  0.529173    0.635251\n",
       "1 -0.499453    -0.069781  0.740882  1.144877  0.480453   -1.320564\n",
       "2 -1.112693    -0.211072 -0.416525  1.027223  0.509790    0.760269\n",
       "3 -0.787361     0.917788 -0.734072  0.743955  0.461142    1.083780\n",
       "4  0.010040     1.741792 -0.435944 -0.078732  0.458201   -0.323590"
      ]
     },
     "execution_count": 15,
     "metadata": {},
     "output_type": "execute_result"
    }
   ],
   "source": [
    "# Chuẩn hóa dữ liệu trong df với StandardScaler\n",
    "df_s = scaler.fit_transform(df)\n",
    "\n",
    "# Lấy danh sách cột\n",
    "col_names = list(df.columns)\n",
    "\n",
    "# Truyền về DataFrame, gắn các cột của df cho dữ liệu đã được chuẩn hóa\n",
    "df_s = pd.DataFrame(df_s, columns = col_names)\n",
    "\n",
    "df_s.head()"
   ]
  },
  {
   "cell_type": "code",
   "execution_count": 16,
   "id": "c930d100",
   "metadata": {},
   "outputs": [
    {
     "data": {
      "text/plain": [
       "<AxesSubplot:ylabel='Density'>"
      ]
     },
     "execution_count": 16,
     "metadata": {},
     "output_type": "execute_result"
    },
    {
     "data": {
      "image/png": "[encoded data removed]",
      "text/plain": [
       "<Figure size 432x288 with 1 Axes>"
      ]
     },
     "metadata": {
      "needs_background": "light"
     },
     "output_type": "display_data"
    }
   ],
   "source": [
    "# Biểu diễn dữ liệu đã được chuẩn hóa\n",
    "sns.kdeplot(data = df_s)"
   ]
  },
  {
   "cell_type": "code",
   "execution_count": 17,
   "id": "af058917",
   "metadata": {},
   "outputs": [
    {
     "data": {
      "text/html": [
       "<div>\n",
       "<style scoped>\n",
       "    .dataframe tbody tr th:only-of-type {\n",
       "        vertical-align: middle;\n",
       "    }\n",
       "\n",
       "    .dataframe tbody tr th {\n",
       "        vertical-align: top;\n",
       "    }\n",
       "\n",
       "    .dataframe thead th {\n",
       "        text-align: right;\n",
       "    }\n",
       "</style>\n",
       "<table border=\"1\" class=\"dataframe\">\n",
       "  <thead>\n",
       "    <tr style=\"text-align: right;\">\n",
       "      <th></th>\n",
       "      <th>beta</th>\n",
       "      <th>exponential</th>\n",
       "      <th>normal_p</th>\n",
       "      <th>normal_l</th>\n",
       "      <th>bimodal</th>\n",
       "      <th>normal_big</th>\n",
       "    </tr>\n",
       "  </thead>\n",
       "  <tbody>\n",
       "    <tr>\n",
       "      <th>count</th>\n",
       "      <td>1.000000e+03</td>\n",
       "      <td>1.000000e+03</td>\n",
       "      <td>1000.000000</td>\n",
       "      <td>1000.000000</td>\n",
       "      <td>1000.000000</td>\n",
       "      <td>1.000000e+03</td>\n",
       "    </tr>\n",
       "    <tr>\n",
       "      <th>mean</th>\n",
       "      <td>-2.042974e-01</td>\n",
       "      <td>2.589969e-01</td>\n",
       "      <td>-0.022044</td>\n",
       "      <td>-0.013711</td>\n",
       "      <td>-0.017061</td>\n",
       "      <td>3.936152e-03</td>\n",
       "    </tr>\n",
       "    <tr>\n",
       "      <th>std</th>\n",
       "      <td>7.330526e-01</td>\n",
       "      <td>9.401410e-01</td>\n",
       "      <td>0.755522</td>\n",
       "      <td>0.729288</td>\n",
       "      <td>0.503783</td>\n",
       "      <td>7.607441e-01</td>\n",
       "    </tr>\n",
       "    <tr>\n",
       "      <th>min</th>\n",
       "      <td>-2.738321e+00</td>\n",
       "      <td>-6.969815e-01</td>\n",
       "      <td>-2.629866</td>\n",
       "      <td>-2.188986</td>\n",
       "      <td>-0.699338</td>\n",
       "      <td>-2.527155e+00</td>\n",
       "    </tr>\n",
       "    <tr>\n",
       "      <th>25%</th>\n",
       "      <td>-6.196314e-01</td>\n",
       "      <td>-4.014359e-01</td>\n",
       "      <td>-0.529987</td>\n",
       "      <td>-0.516096</td>\n",
       "      <td>-0.516576</td>\n",
       "      <td>-4.724934e-01</td>\n",
       "    </tr>\n",
       "    <tr>\n",
       "      <th>50%</th>\n",
       "      <td>-3.012998e-16</td>\n",
       "      <td>-4.076600e-17</td>\n",
       "      <td>0.000000</td>\n",
       "      <td>0.000000</td>\n",
       "      <td>0.000000</td>\n",
       "      <td>-4.306126e-15</td>\n",
       "    </tr>\n",
       "    <tr>\n",
       "      <th>75%</th>\n",
       "      <td>3.803686e-01</td>\n",
       "      <td>5.985641e-01</td>\n",
       "      <td>0.470013</td>\n",
       "      <td>0.483904</td>\n",
       "      <td>0.483424</td>\n",
       "      <td>5.275066e-01</td>\n",
       "    </tr>\n",
       "    <tr>\n",
       "      <th>max</th>\n",
       "      <td>6.636028e-01</td>\n",
       "      <td>7.743710e+00</td>\n",
       "      <td>2.337129</td>\n",
       "      <td>2.132617</td>\n",
       "      <td>0.672334</td>\n",
       "      <td>2.079016e+00</td>\n",
       "    </tr>\n",
       "  </tbody>\n",
       "</table>\n",
       "</div>"
      ],
      "text/plain": [
       "               beta   exponential     normal_p     normal_l      bimodal  \\\n",
       "count  1.000000e+03  1.000000e+03  1000.000000  1000.000000  1000.000000   \n",
       "mean  -2.042974e-01  2.589969e-01    -0.022044    -0.013711    -0.017061   \n",
       "std    7.330526e-01  9.401410e-01     0.755522     0.729288     0.503783   \n",
       "min   -2.738321e+00 -6.969815e-01    -2.629866    -2.188986    -0.699338   \n",
       "25%   -6.196314e-01 -4.014359e-01    -0.529987    -0.516096    -0.516576   \n",
       "50%   -3.012998e-16 -4.076600e-17     0.000000     0.000000     0.000000   \n",
       "75%    3.803686e-01  5.985641e-01     0.470013     0.483904     0.483424   \n",
       "max    6.636028e-01  7.743710e+00     2.337129     2.132617     0.672334   \n",
       "\n",
       "         normal_big  \n",
       "count  1.000000e+03  \n",
       "mean   3.936152e-03  \n",
       "std    7.607441e-01  \n",
       "min   -2.527155e+00  \n",
       "25%   -4.724934e-01  \n",
       "50%   -4.306126e-15  \n",
       "75%    5.275066e-01  \n",
       "max    2.079016e+00  "
      ]
     },
     "execution_count": 17,
     "metadata": {},
     "output_type": "execute_result"
    }
   ],
   "source": [
    "# Thống kê về dữ liệu được sinh ra\n",
    "df_s.describe()"
   ]
  },
  {
   "cell_type": "code",
   "execution_count": 18,
   "id": "df2b5329",
   "metadata": {},
   "outputs": [
    {
     "data": {
      "text/plain": [
       "<AxesSubplot:>"
      ]
     },
     "execution_count": 18,
     "metadata": {},
     "output_type": "execute_result"
    },
    {
     "data": {
      "image/png": "[encoded data removed]",
      "text/plain": [
       "<Figure size 432x288 with 1 Axes>"
      ]
     },
     "metadata": {
      "needs_background": "light"
     },
     "output_type": "display_data"
    }
   ],
   "source": [
    "df_s.boxplot()"
   ]
  },
  {
   "cell_type": "code",
   "execution_count": 19,
   "id": "c781f130",
   "metadata": {
    "scrolled": true
   },
   "outputs": [
    {
     "data": {
      "text/plain": [
       "[-2.738320800508122,\n",
       " -0.6969815419720208,\n",
       " -2.6298655965014883,\n",
       " -2.188985986539955,\n",
       " -0.6993377981765199,\n",
       " -2.527155061272505]"
      ]
     },
     "execution_count": 19,
     "metadata": {},
     "output_type": "execute_result"
    }
   ],
   "source": [
    "# Lấy các giá trị min ở mỗi cột\n",
    "mins = [df_s[col].min() for col in df_s.columns]\n",
    "mins"
   ]
  },
  {
   "cell_type": "code",
   "execution_count": 20,
   "id": "7a55fbce",
   "metadata": {},
   "outputs": [
    {
     "data": {
      "text/plain": [
       "[0.663602787503605,\n",
       " 7.743710188732886,\n",
       " 2.33712861091877,\n",
       " 2.1326165500399665,\n",
       " 0.6723342114584236,\n",
       " 2.079016277227929]"
      ]
     },
     "execution_count": 20,
     "metadata": {},
     "output_type": "execute_result"
    }
   ],
   "source": [
    "# Lấy giá trị max ở mỗi cột\n",
    "maxs = [df_s[col].max() for col in df_s.columns]\n",
    "maxs"
   ]
  },
  {
   "cell_type": "code",
   "execution_count": 23,
   "id": "9a5d5123",
   "metadata": {},
   "outputs": [
    {
     "data": {
      "text/plain": [
       "array([5.21512434e+01, 7.62160455e+00, 1.00962788e+01, 1.01614157e+01,\n",
       "       7.30530610e-01, 1.00019181e+06])"
      ]
     },
     "execution_count": 23,
     "metadata": {},
     "output_type": "execute_result"
    }
   ],
   "source": [
    "# Giá trị trung vị của các đặc trưng của tập dữ liệu gốc\n",
    "scaler.center_"
   ]
  }
 ],
 "metadata": {
  "kernelspec": {
   "display_name": "Python 3 (ipykernel)",
   "language": "python",
   "name": "python3"
  },
  "language_info": {
   "codemirror_mode": {
    "name": "ipython",
    "version": 3
   },
   "file_extension": ".py",
   "mimetype": "text/x-python",
   "name": "python",
   "nbconvert_exporter": "python",
   "pygments_lexer": "ipython3",
   "version": "3.9.6"
  }
 },
 "nbformat": 4,
 "nbformat_minor": 5
}
