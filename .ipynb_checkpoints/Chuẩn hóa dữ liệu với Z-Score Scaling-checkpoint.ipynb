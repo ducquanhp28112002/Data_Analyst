{
 "cells": [
  {
   "cell_type": "code",
   "execution_count": 7,
   "id": "da116048",
   "metadata": {},
   "outputs": [],
   "source": [
    "import pandas as pd\n",
    "import numpy as np\n",
    "import matplotlib.pyplot as plt\n",
    "import seaborn as sns\n",
    "from sklearn.preprocessing import StandardScaler"
   ]
  },
  {
   "cell_type": "markdown",
   "id": "dd4717f2",
   "metadata": {},
   "source": [
    "### Khởi tạo dữ liệu"
   ]
  },
  {
   "cell_type": "code",
   "execution_count": 8,
   "id": "0cd84cad",
   "metadata": {
    "scrolled": true
   },
   "outputs": [
    {
     "data": {
      "text/html": [
       "<div>\n",
       "<style scoped>\n",
       "    .dataframe tbody tr th:only-of-type {\n",
       "        vertical-align: middle;\n",
       "    }\n",
       "\n",
       "    .dataframe tbody tr th {\n",
       "        vertical-align: top;\n",
       "    }\n",
       "\n",
       "    .dataframe thead th {\n",
       "        text-align: right;\n",
       "    }\n",
       "</style>\n",
       "<table border=\"1\" class=\"dataframe\">\n",
       "  <thead>\n",
       "    <tr style=\"text-align: right;\">\n",
       "      <th></th>\n",
       "      <th>beta</th>\n",
       "      <th>exponential</th>\n",
       "      <th>normal_p</th>\n",
       "      <th>normal_l</th>\n",
       "    </tr>\n",
       "  </thead>\n",
       "  <tbody>\n",
       "    <tr>\n",
       "      <th>0</th>\n",
       "      <td>40.063465</td>\n",
       "      <td>10.822609</td>\n",
       "      <td>8.774766</td>\n",
       "      <td>13.084682</td>\n",
       "    </tr>\n",
       "    <tr>\n",
       "      <th>1</th>\n",
       "      <td>54.618732</td>\n",
       "      <td>8.499455</td>\n",
       "      <td>8.142325</td>\n",
       "      <td>7.415997</td>\n",
       "    </tr>\n",
       "    <tr>\n",
       "      <th>2</th>\n",
       "      <td>59.709560</td>\n",
       "      <td>10.643620</td>\n",
       "      <td>10.000620</td>\n",
       "      <td>0.012309</td>\n",
       "    </tr>\n",
       "    <tr>\n",
       "      <th>3</th>\n",
       "      <td>54.756138</td>\n",
       "      <td>7.175043</td>\n",
       "      <td>10.487487</td>\n",
       "      <td>0.068904</td>\n",
       "    </tr>\n",
       "    <tr>\n",
       "      <th>4</th>\n",
       "      <td>53.681512</td>\n",
       "      <td>0.866740</td>\n",
       "      <td>10.599192</td>\n",
       "      <td>4.006960</td>\n",
       "    </tr>\n",
       "    <tr>\n",
       "      <th>5</th>\n",
       "      <td>34.562927</td>\n",
       "      <td>4.847397</td>\n",
       "      <td>7.625764</td>\n",
       "      <td>25.118902</td>\n",
       "    </tr>\n",
       "    <tr>\n",
       "      <th>6</th>\n",
       "      <td>42.916711</td>\n",
       "      <td>9.213690</td>\n",
       "      <td>10.990347</td>\n",
       "      <td>7.585131</td>\n",
       "    </tr>\n",
       "    <tr>\n",
       "      <th>7</th>\n",
       "      <td>46.764899</td>\n",
       "      <td>21.052185</td>\n",
       "      <td>8.793945</td>\n",
       "      <td>21.073171</td>\n",
       "    </tr>\n",
       "    <tr>\n",
       "      <th>8</th>\n",
       "      <td>57.920685</td>\n",
       "      <td>5.560108</td>\n",
       "      <td>12.012838</td>\n",
       "      <td>10.308673</td>\n",
       "    </tr>\n",
       "    <tr>\n",
       "      <th>9</th>\n",
       "      <td>41.290041</td>\n",
       "      <td>14.122331</td>\n",
       "      <td>13.255564</td>\n",
       "      <td>8.448612</td>\n",
       "    </tr>\n",
       "  </tbody>\n",
       "</table>\n",
       "</div>"
      ],
      "text/plain": [
       "        beta  exponential   normal_p   normal_l\n",
       "0  40.063465    10.822609   8.774766  13.084682\n",
       "1  54.618732     8.499455   8.142325   7.415997\n",
       "2  59.709560    10.643620  10.000620   0.012309\n",
       "3  54.756138     7.175043  10.487487   0.068904\n",
       "4  53.681512     0.866740  10.599192   4.006960\n",
       "5  34.562927     4.847397   7.625764  25.118902\n",
       "6  42.916711     9.213690  10.990347   7.585131\n",
       "7  46.764899    21.052185   8.793945  21.073171\n",
       "8  57.920685     5.560108  12.012838  10.308673\n",
       "9  41.290041    14.122331  13.255564   8.448612"
      ]
     },
     "execution_count": 8,
     "metadata": {},
     "output_type": "execute_result"
    }
   ],
   "source": [
    "# Tạo các cột theo các phân phối khác nhau\n",
    "df = pd.DataFrame({\"beta\": np.random.beta(5, 1, 1000) * 60,\n",
    "                  \"exponential\": np.random.exponential(10, 1000),\n",
    "                  \"normal_p\": np.random.normal(10, 2, 1000),\n",
    "                  \"normal_l\": np.random.normal(10, 10, 1000),})\n",
    "df.head(10)"
   ]
  },
  {
   "cell_type": "code",
   "execution_count": 9,
   "id": "7a18e5b5",
   "metadata": {
    "scrolled": true
   },
   "outputs": [
    {
     "data": {
      "text/html": [
       "<div>\n",
       "<style scoped>\n",
       "    .dataframe tbody tr th:only-of-type {\n",
       "        vertical-align: middle;\n",
       "    }\n",
       "\n",
       "    .dataframe tbody tr th {\n",
       "        vertical-align: top;\n",
       "    }\n",
       "\n",
       "    .dataframe thead th {\n",
       "        text-align: right;\n",
       "    }\n",
       "</style>\n",
       "<table border=\"1\" class=\"dataframe\">\n",
       "  <thead>\n",
       "    <tr style=\"text-align: right;\">\n",
       "      <th></th>\n",
       "      <th>beta</th>\n",
       "      <th>exponential</th>\n",
       "      <th>normal_p</th>\n",
       "      <th>normal_l</th>\n",
       "      <th>bimodal</th>\n",
       "    </tr>\n",
       "  </thead>\n",
       "  <tbody>\n",
       "    <tr>\n",
       "      <th>0</th>\n",
       "      <td>40.063465</td>\n",
       "      <td>10.822609</td>\n",
       "      <td>8.774766</td>\n",
       "      <td>13.084682</td>\n",
       "      <td>19.712020</td>\n",
       "    </tr>\n",
       "    <tr>\n",
       "      <th>1</th>\n",
       "      <td>54.618732</td>\n",
       "      <td>8.499455</td>\n",
       "      <td>8.142325</td>\n",
       "      <td>7.415997</td>\n",
       "      <td>19.954729</td>\n",
       "    </tr>\n",
       "    <tr>\n",
       "      <th>2</th>\n",
       "      <td>59.709560</td>\n",
       "      <td>10.643620</td>\n",
       "      <td>10.000620</td>\n",
       "      <td>0.012309</td>\n",
       "      <td>25.912950</td>\n",
       "    </tr>\n",
       "    <tr>\n",
       "      <th>3</th>\n",
       "      <td>54.756138</td>\n",
       "      <td>7.175043</td>\n",
       "      <td>10.487487</td>\n",
       "      <td>0.068904</td>\n",
       "      <td>16.290172</td>\n",
       "    </tr>\n",
       "    <tr>\n",
       "      <th>4</th>\n",
       "      <td>53.681512</td>\n",
       "      <td>0.866740</td>\n",
       "      <td>10.599192</td>\n",
       "      <td>4.006960</td>\n",
       "      <td>22.963968</td>\n",
       "    </tr>\n",
       "  </tbody>\n",
       "</table>\n",
       "</div>"
      ],
      "text/plain": [
       "        beta  exponential   normal_p   normal_l    bimodal\n",
       "0  40.063465    10.822609   8.774766  13.084682  19.712020\n",
       "1  54.618732     8.499455   8.142325   7.415997  19.954729\n",
       "2  59.709560    10.643620  10.000620   0.012309  25.912950\n",
       "3  54.756138     7.175043  10.487487   0.068904  16.290172\n",
       "4  53.681512     0.866740  10.599192   4.006960  22.963968"
      ]
     },
     "execution_count": 9,
     "metadata": {},
     "output_type": "execute_result"
    }
   ],
   "source": [
    "# Thêm dữ liệu được tạo theo phân phối nhị thức\n",
    "first_half = np.random.normal(20, 3, 500)\n",
    "second_half = np.random.normal(-20, 3, 500)\n",
    "bimodal = np.concatenate([first_half, second_half])\n",
    "\n",
    "df[\"bimodal\"] = bimodal\n",
    "\n",
    "df.head()"
   ]
  },
  {
   "cell_type": "markdown",
   "id": "37d997d3",
   "metadata": {},
   "source": [
    "### Trực quan hóa dữ liệu"
   ]
  },
  {
   "cell_type": "code",
   "execution_count": 10,
   "id": "3c155ecf",
   "metadata": {
    "scrolled": true
   },
   "outputs": [
    {
     "data": {
      "text/plain": [
       "<AxesSubplot:ylabel='Density'>"
      ]
     },
     "execution_count": 10,
     "metadata": {},
     "output_type": "execute_result"
    },
    {
     "data": {
      "image/png": "[encoded data removed]",
      "text/plain": [
       "<Figure size 432x288 with 1 Axes>"
      ]
     },
     "metadata": {
      "needs_background": "light"
     },
     "output_type": "display_data"
    }
   ],
   "source": [
    "sns.kdeplot(data = df)"
   ]
  },
  {
   "cell_type": "markdown",
   "id": "dcb2c4ac",
   "metadata": {},
   "source": [
    "### Hiển thị thống kê về dữ liệu sinh ra"
   ]
  },
  {
   "cell_type": "code",
   "execution_count": 11,
   "id": "6fa2c845",
   "metadata": {},
   "outputs": [
    {
     "data": {
      "text/html": [
       "<div>\n",
       "<style scoped>\n",
       "    .dataframe tbody tr th:only-of-type {\n",
       "        vertical-align: middle;\n",
       "    }\n",
       "\n",
       "    .dataframe tbody tr th {\n",
       "        vertical-align: top;\n",
       "    }\n",
       "\n",
       "    .dataframe thead th {\n",
       "        text-align: right;\n",
       "    }\n",
       "</style>\n",
       "<table border=\"1\" class=\"dataframe\">\n",
       "  <thead>\n",
       "    <tr style=\"text-align: right;\">\n",
       "      <th></th>\n",
       "      <th>beta</th>\n",
       "      <th>exponential</th>\n",
       "      <th>normal_p</th>\n",
       "      <th>normal_l</th>\n",
       "      <th>bimodal</th>\n",
       "    </tr>\n",
       "  </thead>\n",
       "  <tbody>\n",
       "    <tr>\n",
       "      <th>count</th>\n",
       "      <td>1000.000000</td>\n",
       "      <td>1000.000000</td>\n",
       "      <td>1000.000000</td>\n",
       "      <td>1000.000000</td>\n",
       "      <td>1000.000000</td>\n",
       "    </tr>\n",
       "    <tr>\n",
       "      <th>mean</th>\n",
       "      <td>49.793152</td>\n",
       "      <td>10.098572</td>\n",
       "      <td>10.109886</td>\n",
       "      <td>10.151251</td>\n",
       "      <td>-0.131515</td>\n",
       "    </tr>\n",
       "    <tr>\n",
       "      <th>std</th>\n",
       "      <td>8.570288</td>\n",
       "      <td>9.810940</td>\n",
       "      <td>2.016284</td>\n",
       "      <td>10.204429</td>\n",
       "      <td>20.205383</td>\n",
       "    </tr>\n",
       "    <tr>\n",
       "      <th>min</th>\n",
       "      <td>7.251676</td>\n",
       "      <td>0.014714</td>\n",
       "      <td>3.115712</td>\n",
       "      <td>-18.619875</td>\n",
       "      <td>-28.761442</td>\n",
       "    </tr>\n",
       "    <tr>\n",
       "      <th>25%</th>\n",
       "      <td>45.311099</td>\n",
       "      <td>2.790336</td>\n",
       "      <td>8.794144</td>\n",
       "      <td>3.094017</td>\n",
       "      <td>-20.137531</td>\n",
       "    </tr>\n",
       "    <tr>\n",
       "      <th>50%</th>\n",
       "      <td>52.158740</td>\n",
       "      <td>7.032852</td>\n",
       "      <td>10.043328</td>\n",
       "      <td>10.044284</td>\n",
       "      <td>-1.698478</td>\n",
       "    </tr>\n",
       "    <tr>\n",
       "      <th>75%</th>\n",
       "      <td>56.410875</td>\n",
       "      <td>14.580859</td>\n",
       "      <td>11.373543</td>\n",
       "      <td>17.005131</td>\n",
       "      <td>19.794371</td>\n",
       "    </tr>\n",
       "    <tr>\n",
       "      <th>max</th>\n",
       "      <td>59.986959</td>\n",
       "      <td>70.224006</td>\n",
       "      <td>18.064362</td>\n",
       "      <td>49.132841</td>\n",
       "      <td>29.491614</td>\n",
       "    </tr>\n",
       "  </tbody>\n",
       "</table>\n",
       "</div>"
      ],
      "text/plain": [
       "              beta  exponential     normal_p     normal_l      bimodal\n",
       "count  1000.000000  1000.000000  1000.000000  1000.000000  1000.000000\n",
       "mean     49.793152    10.098572    10.109886    10.151251    -0.131515\n",
       "std       8.570288     9.810940     2.016284    10.204429    20.205383\n",
       "min       7.251676     0.014714     3.115712   -18.619875   -28.761442\n",
       "25%      45.311099     2.790336     8.794144     3.094017   -20.137531\n",
       "50%      52.158740     7.032852    10.043328    10.044284    -1.698478\n",
       "75%      56.410875    14.580859    11.373543    17.005131    19.794371\n",
       "max      59.986959    70.224006    18.064362    49.132841    29.491614"
      ]
     },
     "execution_count": 11,
     "metadata": {},
     "output_type": "execute_result"
    }
   ],
   "source": [
    "df.describe()"
   ]
  },
  {
   "cell_type": "markdown",
   "id": "390421b1",
   "metadata": {},
   "source": [
    "### Thêm một đặc trưng với giá trị lớn hơn nhiều"
   ]
  },
  {
   "cell_type": "code",
   "execution_count": 12,
   "id": "3bc927c3",
   "metadata": {},
   "outputs": [
    {
     "data": {
      "text/plain": [
       "<AxesSubplot:ylabel='Density'>"
      ]
     },
     "execution_count": 12,
     "metadata": {},
     "output_type": "execute_result"
    },
    {
     "data": {
      "image/png": "[encoded data removed]",
      "text/plain": [
       "<Figure size 432x288 with 1 Axes>"
      ]
     },
     "metadata": {
      "needs_background": "light"
     },
     "output_type": "display_data"
    }
   ],
   "source": [
    "normal_big = np.random.normal(100000, 10000, (1000, 1))\n",
    "\n",
    "df[\"normal_big\"] = normal_big\n",
    "sns.kdeplot(data = df)"
   ]
  },
  {
   "cell_type": "code",
   "execution_count": 13,
   "id": "47e23b29",
   "metadata": {},
   "outputs": [
    {
     "data": {
      "text/plain": [
       "<AxesSubplot:>"
      ]
     },
     "execution_count": 13,
     "metadata": {},
     "output_type": "execute_result"
    },
    {
     "data": {
      "image/png": "[encoded data removed]",
      "text/plain": [
       "<Figure size 432x288 with 1 Axes>"
      ]
     },
     "metadata": {
      "needs_background": "light"
     },
     "output_type": "display_data"
    }
   ],
   "source": [
    "# Trực quan hóa bằng biểu đồ box plot\n",
    "df.boxplot()"
   ]
  },
  {
   "cell_type": "markdown",
   "id": "5e3e9c42",
   "metadata": {},
   "source": [
    "### Chuẩn hóa với StandardScaler (Z-Score scaling)"
   ]
  },
  {
   "cell_type": "code",
   "execution_count": 14,
   "id": "e593301a",
   "metadata": {},
   "outputs": [],
   "source": [
    "# Khai báo đối tượng StandardScaler\n",
    "s_scaler = StandardScaler()"
   ]
  },
  {
   "cell_type": "code",
   "execution_count": 15,
   "id": "bfcdf26b",
   "metadata": {
    "scrolled": true
   },
   "outputs": [
    {
     "data": {
      "text/html": [
       "<div>\n",
       "<style scoped>\n",
       "    .dataframe tbody tr th:only-of-type {\n",
       "        vertical-align: middle;\n",
       "    }\n",
       "\n",
       "    .dataframe tbody tr th {\n",
       "        vertical-align: top;\n",
       "    }\n",
       "\n",
       "    .dataframe thead th {\n",
       "        text-align: right;\n",
       "    }\n",
       "</style>\n",
       "<table border=\"1\" class=\"dataframe\">\n",
       "  <thead>\n",
       "    <tr style=\"text-align: right;\">\n",
       "      <th></th>\n",
       "      <th>beta</th>\n",
       "      <th>exponential</th>\n",
       "      <th>normal_p</th>\n",
       "      <th>normal_l</th>\n",
       "      <th>bimodal</th>\n",
       "      <th>normal_big</th>\n",
       "    </tr>\n",
       "  </thead>\n",
       "  <tbody>\n",
       "    <tr>\n",
       "      <th>0</th>\n",
       "      <td>-1.135849</td>\n",
       "      <td>0.073836</td>\n",
       "      <td>-0.662500</td>\n",
       "      <td>0.287610</td>\n",
       "      <td>0.982583</td>\n",
       "      <td>-0.905475</td>\n",
       "    </tr>\n",
       "    <tr>\n",
       "      <th>1</th>\n",
       "      <td>0.563341</td>\n",
       "      <td>-0.163075</td>\n",
       "      <td>-0.976323</td>\n",
       "      <td>-0.268180</td>\n",
       "      <td>0.994601</td>\n",
       "      <td>0.673124</td>\n",
       "    </tr>\n",
       "    <tr>\n",
       "      <th>2</th>\n",
       "      <td>1.157647</td>\n",
       "      <td>0.055583</td>\n",
       "      <td>-0.054219</td>\n",
       "      <td>-0.994080</td>\n",
       "      <td>1.289631</td>\n",
       "      <td>-0.163641</td>\n",
       "    </tr>\n",
       "    <tr>\n",
       "      <th>3</th>\n",
       "      <td>0.579382</td>\n",
       "      <td>-0.298136</td>\n",
       "      <td>0.187370</td>\n",
       "      <td>-0.988531</td>\n",
       "      <td>0.813145</td>\n",
       "      <td>-0.333013</td>\n",
       "    </tr>\n",
       "    <tr>\n",
       "      <th>4</th>\n",
       "      <td>0.453929</td>\n",
       "      <td>-0.941444</td>\n",
       "      <td>0.242799</td>\n",
       "      <td>-0.602421</td>\n",
       "      <td>1.143608</td>\n",
       "      <td>-0.620985</td>\n",
       "    </tr>\n",
       "  </tbody>\n",
       "</table>\n",
       "</div>"
      ],
      "text/plain": [
       "       beta  exponential  normal_p  normal_l   bimodal  normal_big\n",
       "0 -1.135849     0.073836 -0.662500  0.287610  0.982583   -0.905475\n",
       "1  0.563341    -0.163075 -0.976323 -0.268180  0.994601    0.673124\n",
       "2  1.157647     0.055583 -0.054219 -0.994080  1.289631   -0.163641\n",
       "3  0.579382    -0.298136  0.187370 -0.988531  0.813145   -0.333013\n",
       "4  0.453929    -0.941444  0.242799 -0.602421  1.143608   -0.620985"
      ]
     },
     "execution_count": 15,
     "metadata": {},
     "output_type": "execute_result"
    }
   ],
   "source": [
    "# Chuẩn hóa dữ liệu trong df với StandardScaler\n",
    "df_s = s_scaler.fit_transform(df)\n",
    "\n",
    "# Lấy danh sách cho cột\n",
    "col_names = list(df.columns)\n",
    "\n",
    "# Truyền về DataFrame, gắn các cột df cho dữ liệu đã được chuẩn hóa\n",
    "df_s = pd.DataFrame(df_s, columns = col_names)\n",
    "\n",
    "df_s.head()"
   ]
  },
  {
   "cell_type": "code",
   "execution_count": 16,
   "id": "4c691526",
   "metadata": {
    "scrolled": true
   },
   "outputs": [
    {
     "data": {
      "text/plain": [
       "<AxesSubplot:ylabel='Density'>"
      ]
     },
     "execution_count": 16,
     "metadata": {},
     "output_type": "execute_result"
    },
    {
     "data": {
      "image/png": "[encoded data removed]",
      "text/plain": [
       "<Figure size 432x288 with 1 Axes>"
      ]
     },
     "metadata": {
      "needs_background": "light"
     },
     "output_type": "display_data"
    }
   ],
   "source": [
    "# Biểu diễn dữ liệu đã được chuẩn hóa\n",
    "sns.kdeplot(data = df_s)"
   ]
  },
  {
   "cell_type": "code",
   "execution_count": 17,
   "id": "8688d315",
   "metadata": {},
   "outputs": [
    {
     "data": {
      "text/html": [
       "<div>\n",
       "<style scoped>\n",
       "    .dataframe tbody tr th:only-of-type {\n",
       "        vertical-align: middle;\n",
       "    }\n",
       "\n",
       "    .dataframe tbody tr th {\n",
       "        vertical-align: top;\n",
       "    }\n",
       "\n",
       "    .dataframe thead th {\n",
       "        text-align: right;\n",
       "    }\n",
       "</style>\n",
       "<table border=\"1\" class=\"dataframe\">\n",
       "  <thead>\n",
       "    <tr style=\"text-align: right;\">\n",
       "      <th></th>\n",
       "      <th>beta</th>\n",
       "      <th>exponential</th>\n",
       "      <th>normal_p</th>\n",
       "      <th>normal_l</th>\n",
       "      <th>bimodal</th>\n",
       "      <th>normal_big</th>\n",
       "    </tr>\n",
       "  </thead>\n",
       "  <tbody>\n",
       "    <tr>\n",
       "      <th>count</th>\n",
       "      <td>1.000000e+03</td>\n",
       "      <td>1.000000e+03</td>\n",
       "      <td>1.000000e+03</td>\n",
       "      <td>1.000000e+03</td>\n",
       "      <td>1000.000000</td>\n",
       "      <td>1.000000e+03</td>\n",
       "    </tr>\n",
       "    <tr>\n",
       "      <th>mean</th>\n",
       "      <td>-8.011369e-16</td>\n",
       "      <td>-1.314504e-16</td>\n",
       "      <td>-7.887024e-16</td>\n",
       "      <td>-9.325873e-17</td>\n",
       "      <td>0.000000</td>\n",
       "      <td>1.374012e-15</td>\n",
       "    </tr>\n",
       "    <tr>\n",
       "      <th>std</th>\n",
       "      <td>1.000500e+00</td>\n",
       "      <td>1.000500e+00</td>\n",
       "      <td>1.000500e+00</td>\n",
       "      <td>1.000500e+00</td>\n",
       "      <td>1.000500</td>\n",
       "      <td>1.000500e+00</td>\n",
       "    </tr>\n",
       "    <tr>\n",
       "      <th>min</th>\n",
       "      <td>-4.966316e+00</td>\n",
       "      <td>-1.028332e+00</td>\n",
       "      <td>-3.470580e+00</td>\n",
       "      <td>-2.820885e+00</td>\n",
       "      <td>-1.417655</td>\n",
       "      <td>-3.246539e+00</td>\n",
       "    </tr>\n",
       "    <tr>\n",
       "      <th>25%</th>\n",
       "      <td>-5.232373e-01</td>\n",
       "      <td>-7.452795e-01</td>\n",
       "      <td>-6.528846e-01</td>\n",
       "      <td>-6.919313e-01</td>\n",
       "      <td>-0.990628</td>\n",
       "      <td>-6.742009e-01</td>\n",
       "    </tr>\n",
       "    <tr>\n",
       "      <th>50%</th>\n",
       "      <td>2.761602e-01</td>\n",
       "      <td>-3.126360e-01</td>\n",
       "      <td>-3.302656e-02</td>\n",
       "      <td>-1.048762e-02</td>\n",
       "      <td>-0.077591</td>\n",
       "      <td>-3.297879e-02</td>\n",
       "    </tr>\n",
       "    <tr>\n",
       "      <th>75%</th>\n",
       "      <td>7.725568e-01</td>\n",
       "      <td>4.570948e-01</td>\n",
       "      <td>6.270395e-01</td>\n",
       "      <td>6.719935e-01</td>\n",
       "      <td>0.986661</td>\n",
       "      <td>6.755355e-01</td>\n",
       "    </tr>\n",
       "    <tr>\n",
       "      <th>max</th>\n",
       "      <td>1.190031e+00</td>\n",
       "      <td>6.131473e+00</td>\n",
       "      <td>3.947091e+00</td>\n",
       "      <td>3.821977e+00</td>\n",
       "      <td>1.466834</td>\n",
       "      <td>3.303609e+00</td>\n",
       "    </tr>\n",
       "  </tbody>\n",
       "</table>\n",
       "</div>"
      ],
      "text/plain": [
       "               beta   exponential      normal_p      normal_l      bimodal  \\\n",
       "count  1.000000e+03  1.000000e+03  1.000000e+03  1.000000e+03  1000.000000   \n",
       "mean  -8.011369e-16 -1.314504e-16 -7.887024e-16 -9.325873e-17     0.000000   \n",
       "std    1.000500e+00  1.000500e+00  1.000500e+00  1.000500e+00     1.000500   \n",
       "min   -4.966316e+00 -1.028332e+00 -3.470580e+00 -2.820885e+00    -1.417655   \n",
       "25%   -5.232373e-01 -7.452795e-01 -6.528846e-01 -6.919313e-01    -0.990628   \n",
       "50%    2.761602e-01 -3.126360e-01 -3.302656e-02 -1.048762e-02    -0.077591   \n",
       "75%    7.725568e-01  4.570948e-01  6.270395e-01  6.719935e-01     0.986661   \n",
       "max    1.190031e+00  6.131473e+00  3.947091e+00  3.821977e+00     1.466834   \n",
       "\n",
       "         normal_big  \n",
       "count  1.000000e+03  \n",
       "mean   1.374012e-15  \n",
       "std    1.000500e+00  \n",
       "min   -3.246539e+00  \n",
       "25%   -6.742009e-01  \n",
       "50%   -3.297879e-02  \n",
       "75%    6.755355e-01  \n",
       "max    3.303609e+00  "
      ]
     },
     "execution_count": 17,
     "metadata": {},
     "output_type": "execute_result"
    }
   ],
   "source": [
    "# Thống kê về dữ liệu được sinh ra\n",
    "df_s.describe()"
   ]
  },
  {
   "cell_type": "code",
   "execution_count": 18,
   "id": "e2faa407",
   "metadata": {},
   "outputs": [
    {
     "data": {
      "text/plain": [
       "<AxesSubplot:>"
      ]
     },
     "execution_count": 18,
     "metadata": {},
     "output_type": "execute_result"
    },
    {
     "data": {
      "image/png": "[encoded data removed]",
      "text/plain": [
       "<Figure size 432x288 with 1 Axes>"
      ]
     },
     "metadata": {
      "needs_background": "light"
     },
     "output_type": "display_data"
    }
   ],
   "source": [
    "# Trực quan hóa bằng biểu đồ box plot\n",
    "df_s.boxplot()"
   ]
  }
 ],
 "metadata": {
  "kernelspec": {
   "display_name": "Python 3 (ipykernel)",
   "language": "python",
   "name": "python3"
  },
  "language_info": {
   "codemirror_mode": {
    "name": "ipython",
    "version": 3
   },
   "file_extension": ".py",
   "mimetype": "text/x-python",
   "name": "python",
   "nbconvert_exporter": "python",
   "pygments_lexer": "ipython3",
   "version": "3.9.6"
  }
 },
 "nbformat": 4,
 "nbformat_minor": 5
}
