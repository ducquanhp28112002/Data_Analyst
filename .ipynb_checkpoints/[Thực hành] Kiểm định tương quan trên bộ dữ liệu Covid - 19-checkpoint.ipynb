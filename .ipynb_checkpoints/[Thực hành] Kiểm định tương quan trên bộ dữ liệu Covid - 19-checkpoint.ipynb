{
 "cells": [
  {
   "cell_type": "code",
   "execution_count": 1,
   "id": "3a131426",
   "metadata": {},
   "outputs": [],
   "source": [
    "import pandas as pd\n",
    "from scipy import stats"
   ]
  },
  {
   "cell_type": "code",
   "execution_count": 3,
   "id": "59cc9797",
   "metadata": {
    "scrolled": true
   },
   "outputs": [
    {
     "data": {
      "text/html": [
       "<div>\n",
       "<style scoped>\n",
       "    .dataframe tbody tr th:only-of-type {\n",
       "        vertical-align: middle;\n",
       "    }\n",
       "\n",
       "    .dataframe tbody tr th {\n",
       "        vertical-align: top;\n",
       "    }\n",
       "\n",
       "    .dataframe thead th {\n",
       "        text-align: right;\n",
       "    }\n",
       "</style>\n",
       "<table border=\"1\" class=\"dataframe\">\n",
       "  <thead>\n",
       "    <tr style=\"text-align: right;\">\n",
       "      <th></th>\n",
       "      <th>country</th>\n",
       "      <th>continent</th>\n",
       "      <th>date</th>\n",
       "      <th>day</th>\n",
       "      <th>month</th>\n",
       "      <th>year</th>\n",
       "      <th>cases</th>\n",
       "      <th>deaths</th>\n",
       "      <th>country_code</th>\n",
       "      <th>population</th>\n",
       "    </tr>\n",
       "  </thead>\n",
       "  <tbody>\n",
       "    <tr>\n",
       "      <th>0</th>\n",
       "      <td>Afghanistan</td>\n",
       "      <td>Asia</td>\n",
       "      <td>2020-04-12</td>\n",
       "      <td>12</td>\n",
       "      <td>4</td>\n",
       "      <td>2020</td>\n",
       "      <td>34</td>\n",
       "      <td>3</td>\n",
       "      <td>AFG</td>\n",
       "      <td>37172386.0</td>\n",
       "    </tr>\n",
       "    <tr>\n",
       "      <th>1</th>\n",
       "      <td>Albania</td>\n",
       "      <td>Europe</td>\n",
       "      <td>2020-04-12</td>\n",
       "      <td>12</td>\n",
       "      <td>4</td>\n",
       "      <td>2020</td>\n",
       "      <td>17</td>\n",
       "      <td>0</td>\n",
       "      <td>ALB</td>\n",
       "      <td>2866376.0</td>\n",
       "    </tr>\n",
       "    <tr>\n",
       "      <th>2</th>\n",
       "      <td>Algeria</td>\n",
       "      <td>Africa</td>\n",
       "      <td>2020-04-12</td>\n",
       "      <td>12</td>\n",
       "      <td>4</td>\n",
       "      <td>2020</td>\n",
       "      <td>64</td>\n",
       "      <td>19</td>\n",
       "      <td>DZA</td>\n",
       "      <td>42228429.0</td>\n",
       "    </tr>\n",
       "    <tr>\n",
       "      <th>3</th>\n",
       "      <td>Andorra</td>\n",
       "      <td>Europe</td>\n",
       "      <td>2020-04-12</td>\n",
       "      <td>12</td>\n",
       "      <td>4</td>\n",
       "      <td>2020</td>\n",
       "      <td>21</td>\n",
       "      <td>2</td>\n",
       "      <td>AND</td>\n",
       "      <td>77006.0</td>\n",
       "    </tr>\n",
       "    <tr>\n",
       "      <th>4</th>\n",
       "      <td>Angola</td>\n",
       "      <td>Africa</td>\n",
       "      <td>2020-04-12</td>\n",
       "      <td>12</td>\n",
       "      <td>4</td>\n",
       "      <td>2020</td>\n",
       "      <td>0</td>\n",
       "      <td>0</td>\n",
       "      <td>AGO</td>\n",
       "      <td>30809762.0</td>\n",
       "    </tr>\n",
       "  </tbody>\n",
       "</table>\n",
       "</div>"
      ],
      "text/plain": [
       "       country continent        date  day  month  year  cases  deaths  \\\n",
       "0  Afghanistan      Asia  2020-04-12   12      4  2020     34       3   \n",
       "1      Albania    Europe  2020-04-12   12      4  2020     17       0   \n",
       "2      Algeria    Africa  2020-04-12   12      4  2020     64      19   \n",
       "3      Andorra    Europe  2020-04-12   12      4  2020     21       2   \n",
       "4       Angola    Africa  2020-04-12   12      4  2020      0       0   \n",
       "\n",
       "  country_code  population  \n",
       "0          AFG  37172386.0  \n",
       "1          ALB   2866376.0  \n",
       "2          DZA  42228429.0  \n",
       "3          AND     77006.0  \n",
       "4          AGO  30809762.0  "
      ]
     },
     "execution_count": 3,
     "metadata": {},
     "output_type": "execute_result"
    }
   ],
   "source": [
    "# Đọc dữ liệu\n",
    "df = pd.read_csv(\"subset-covid-data.csv\")\n",
    "df.head()"
   ]
  },
  {
   "cell_type": "code",
   "execution_count": 4,
   "id": "fdefc306",
   "metadata": {},
   "outputs": [
    {
     "name": "stdout",
     "output_type": "stream",
     "text": [
      "<class 'pandas.core.frame.DataFrame'>\n",
      "RangeIndex: 206 entries, 0 to 205\n",
      "Data columns (total 10 columns):\n",
      " #   Column        Non-Null Count  Dtype  \n",
      "---  ------        --------------  -----  \n",
      " 0   country       206 non-null    object \n",
      " 1   continent     206 non-null    object \n",
      " 2   date          206 non-null    object \n",
      " 3   day           206 non-null    int64  \n",
      " 4   month         206 non-null    int64  \n",
      " 5   year          206 non-null    int64  \n",
      " 6   cases         206 non-null    int64  \n",
      " 7   deaths        206 non-null    int64  \n",
      " 8   country_code  202 non-null    object \n",
      " 9   population    202 non-null    float64\n",
      "dtypes: float64(1), int64(5), object(4)\n",
      "memory usage: 16.2+ KB\n"
     ]
    }
   ],
   "source": [
    "# Thông tin bộ dữ liệu\n",
    "df.info()"
   ]
  },
  {
   "cell_type": "code",
   "execution_count": 5,
   "id": "88785824",
   "metadata": {},
   "outputs": [
    {
     "data": {
      "text/html": [
       "<div>\n",
       "<style scoped>\n",
       "    .dataframe tbody tr th:only-of-type {\n",
       "        vertical-align: middle;\n",
       "    }\n",
       "\n",
       "    .dataframe tbody tr th {\n",
       "        vertical-align: top;\n",
       "    }\n",
       "\n",
       "    .dataframe thead th {\n",
       "        text-align: right;\n",
       "    }\n",
       "</style>\n",
       "<table border=\"1\" class=\"dataframe\">\n",
       "  <thead>\n",
       "    <tr style=\"text-align: right;\">\n",
       "      <th></th>\n",
       "      <th>day</th>\n",
       "      <th>month</th>\n",
       "      <th>year</th>\n",
       "      <th>cases</th>\n",
       "      <th>deaths</th>\n",
       "      <th>population</th>\n",
       "    </tr>\n",
       "  </thead>\n",
       "  <tbody>\n",
       "    <tr>\n",
       "      <th>count</th>\n",
       "      <td>206.000000</td>\n",
       "      <td>206.000000</td>\n",
       "      <td>206.0</td>\n",
       "      <td>206.000000</td>\n",
       "      <td>206.000000</td>\n",
       "      <td>2.020000e+02</td>\n",
       "    </tr>\n",
       "    <tr>\n",
       "      <th>mean</th>\n",
       "      <td>12.024272</td>\n",
       "      <td>3.985437</td>\n",
       "      <td>2020.0</td>\n",
       "      <td>395.247573</td>\n",
       "      <td>29.713592</td>\n",
       "      <td>3.731716e+07</td>\n",
       "    </tr>\n",
       "    <tr>\n",
       "      <th>std</th>\n",
       "      <td>0.424141</td>\n",
       "      <td>0.209020</td>\n",
       "      <td>0.0</td>\n",
       "      <td>2160.176439</td>\n",
       "      <td>159.533131</td>\n",
       "      <td>1.413776e+08</td>\n",
       "    </tr>\n",
       "    <tr>\n",
       "      <th>min</th>\n",
       "      <td>11.000000</td>\n",
       "      <td>1.000000</td>\n",
       "      <td>2020.0</td>\n",
       "      <td>0.000000</td>\n",
       "      <td>0.000000</td>\n",
       "      <td>1.000000e+03</td>\n",
       "    </tr>\n",
       "    <tr>\n",
       "      <th>25%</th>\n",
       "      <td>12.000000</td>\n",
       "      <td>4.000000</td>\n",
       "      <td>2020.0</td>\n",
       "      <td>0.000000</td>\n",
       "      <td>0.000000</td>\n",
       "      <td>1.278222e+06</td>\n",
       "    </tr>\n",
       "    <tr>\n",
       "      <th>50%</th>\n",
       "      <td>12.000000</td>\n",
       "      <td>4.000000</td>\n",
       "      <td>2020.0</td>\n",
       "      <td>11.500000</td>\n",
       "      <td>0.000000</td>\n",
       "      <td>7.042862e+06</td>\n",
       "    </tr>\n",
       "    <tr>\n",
       "      <th>75%</th>\n",
       "      <td>12.000000</td>\n",
       "      <td>4.000000</td>\n",
       "      <td>2020.0</td>\n",
       "      <td>88.750000</td>\n",
       "      <td>3.000000</td>\n",
       "      <td>2.600084e+07</td>\n",
       "    </tr>\n",
       "    <tr>\n",
       "      <th>max</th>\n",
       "      <td>18.000000</td>\n",
       "      <td>4.000000</td>\n",
       "      <td>2020.0</td>\n",
       "      <td>28391.000000</td>\n",
       "      <td>1831.000000</td>\n",
       "      <td>1.392730e+09</td>\n",
       "    </tr>\n",
       "  </tbody>\n",
       "</table>\n",
       "</div>"
      ],
      "text/plain": [
       "              day       month    year         cases       deaths    population\n",
       "count  206.000000  206.000000   206.0    206.000000   206.000000  2.020000e+02\n",
       "mean    12.024272    3.985437  2020.0    395.247573    29.713592  3.731716e+07\n",
       "std      0.424141    0.209020     0.0   2160.176439   159.533131  1.413776e+08\n",
       "min     11.000000    1.000000  2020.0      0.000000     0.000000  1.000000e+03\n",
       "25%     12.000000    4.000000  2020.0      0.000000     0.000000  1.278222e+06\n",
       "50%     12.000000    4.000000  2020.0     11.500000     0.000000  7.042862e+06\n",
       "75%     12.000000    4.000000  2020.0     88.750000     3.000000  2.600084e+07\n",
       "max     18.000000    4.000000  2020.0  28391.000000  1831.000000  1.392730e+09"
      ]
     },
     "execution_count": 5,
     "metadata": {},
     "output_type": "execute_result"
    }
   ],
   "source": [
    "# Mô tả bộ dữ liệu\n",
    "df.describe()"
   ]
  },
  {
   "cell_type": "markdown",
   "id": "6e70deb4",
   "metadata": {},
   "source": [
    "##### Có mối tương quan nào giữa số ca mắc và dân số ở các quốc gia hay không?\n",
    "Do số ca nhiễm (cases) và dân số (population) đều là thuộc tính định lượng nên sử dụng kiểm định pearson.\n",
    "- Giả thuyết không: không có mối tương quan tuyến tính giữa hai biến.\n",
    "- Giả thuyết đối: không có mối tương quan tuyến tính giữa hai biến."
   ]
  },
  {
   "cell_type": "code",
   "execution_count": 14,
   "id": "014c9c16",
   "metadata": {},
   "outputs": [
    {
     "data": {
      "text/html": [
       "<div>\n",
       "<style scoped>\n",
       "    .dataframe tbody tr th:only-of-type {\n",
       "        vertical-align: middle;\n",
       "    }\n",
       "\n",
       "    .dataframe tbody tr th {\n",
       "        vertical-align: top;\n",
       "    }\n",
       "\n",
       "    .dataframe thead th {\n",
       "        text-align: right;\n",
       "    }\n",
       "</style>\n",
       "<table border=\"1\" class=\"dataframe\">\n",
       "  <thead>\n",
       "    <tr style=\"text-align: right;\">\n",
       "      <th></th>\n",
       "      <th>cases</th>\n",
       "      <th>population</th>\n",
       "    </tr>\n",
       "  </thead>\n",
       "  <tbody>\n",
       "    <tr>\n",
       "      <th>0</th>\n",
       "      <td>34</td>\n",
       "      <td>37172386.0</td>\n",
       "    </tr>\n",
       "    <tr>\n",
       "      <th>1</th>\n",
       "      <td>17</td>\n",
       "      <td>2866376.0</td>\n",
       "    </tr>\n",
       "    <tr>\n",
       "      <th>2</th>\n",
       "      <td>64</td>\n",
       "      <td>42228429.0</td>\n",
       "    </tr>\n",
       "    <tr>\n",
       "      <th>3</th>\n",
       "      <td>21</td>\n",
       "      <td>77006.0</td>\n",
       "    </tr>\n",
       "    <tr>\n",
       "      <th>4</th>\n",
       "      <td>0</td>\n",
       "      <td>30809762.0</td>\n",
       "    </tr>\n",
       "  </tbody>\n",
       "</table>\n",
       "</div>"
      ],
      "text/plain": [
       "   cases  population\n",
       "0     34  37172386.0\n",
       "1     17   2866376.0\n",
       "2     64  42228429.0\n",
       "3     21     77006.0\n",
       "4      0  30809762.0"
      ]
     },
     "execution_count": 14,
     "metadata": {},
     "output_type": "execute_result"
    }
   ],
   "source": [
    "# Lọc dữ liệu\n",
    "df_1 = df.filter([\"cases\", \"population\"])\n",
    "df_1.head()"
   ]
  },
  {
   "cell_type": "code",
   "execution_count": 11,
   "id": "b6d017b2",
   "metadata": {},
   "outputs": [],
   "source": [
    "# Xóa bỏ dữ liệu khuyết thiếu\n",
    "df_1 = df_1.dropna()"
   ]
  },
  {
   "cell_type": "code",
   "execution_count": 12,
   "id": "2d183317",
   "metadata": {},
   "outputs": [
    {
     "name": "stdout",
     "output_type": "stream",
     "text": [
      "r: 0.17553926594294006, pvalue: 0.01246031070420893\n"
     ]
    }
   ],
   "source": [
    "r, pvalue = stats.pearsonr(df_1[\"cases\"], df_1[\"population\"])\n",
    "print(f\"r: {r}, pvalue: {pvalue}\")"
   ]
  },
  {
   "cell_type": "markdown",
   "id": "34415d0d",
   "metadata": {},
   "source": [
    "- Nhận xét: do pvalue < 5% nên với mức ý nghĩa 5% bác bỏ giả thuyết không, chấp nhận giat thuyết đối.\n",
    "- Kết luận: giữa dân số và số ca mắc có tương quan tuyến tính yếu với nhau."
   ]
  },
  {
   "cell_type": "markdown",
   "id": "17582587",
   "metadata": {},
   "source": [
    "##### Có mối tương quan nào giữa số ca mắc (cases) và số ca tử vong (deaths) hay không?\n",
    "Do số ca nhiễm (cases) và số ca tử vong (deaths) đều là thuộc tính định lượng nên sử dụng kiểm định pearson.\n",
    "- Giả thuyết không: không có mối tương quan tuyến tính giữa hai biến.\n",
    "- Giả thuyết đối: không có mối tương quan tuyến tính giữa hai biến."
   ]
  },
  {
   "cell_type": "code",
   "execution_count": 15,
   "id": "5a3220a3",
   "metadata": {},
   "outputs": [
    {
     "data": {
      "text/html": [
       "<div>\n",
       "<style scoped>\n",
       "    .dataframe tbody tr th:only-of-type {\n",
       "        vertical-align: middle;\n",
       "    }\n",
       "\n",
       "    .dataframe tbody tr th {\n",
       "        vertical-align: top;\n",
       "    }\n",
       "\n",
       "    .dataframe thead th {\n",
       "        text-align: right;\n",
       "    }\n",
       "</style>\n",
       "<table border=\"1\" class=\"dataframe\">\n",
       "  <thead>\n",
       "    <tr style=\"text-align: right;\">\n",
       "      <th></th>\n",
       "      <th>cases</th>\n",
       "      <th>deaths</th>\n",
       "    </tr>\n",
       "  </thead>\n",
       "  <tbody>\n",
       "    <tr>\n",
       "      <th>0</th>\n",
       "      <td>34</td>\n",
       "      <td>3</td>\n",
       "    </tr>\n",
       "    <tr>\n",
       "      <th>1</th>\n",
       "      <td>17</td>\n",
       "      <td>0</td>\n",
       "    </tr>\n",
       "    <tr>\n",
       "      <th>2</th>\n",
       "      <td>64</td>\n",
       "      <td>19</td>\n",
       "    </tr>\n",
       "    <tr>\n",
       "      <th>3</th>\n",
       "      <td>21</td>\n",
       "      <td>2</td>\n",
       "    </tr>\n",
       "    <tr>\n",
       "      <th>4</th>\n",
       "      <td>0</td>\n",
       "      <td>0</td>\n",
       "    </tr>\n",
       "  </tbody>\n",
       "</table>\n",
       "</div>"
      ],
      "text/plain": [
       "   cases  deaths\n",
       "0     34       3\n",
       "1     17       0\n",
       "2     64      19\n",
       "3     21       2\n",
       "4      0       0"
      ]
     },
     "execution_count": 15,
     "metadata": {},
     "output_type": "execute_result"
    }
   ],
   "source": [
    "# Lọc dữ liệu\n",
    "df_2 = df.filter([\"cases\", \"deaths\"])\n",
    "df_2.head()"
   ]
  },
  {
   "cell_type": "code",
   "execution_count": 17,
   "id": "2579aaea",
   "metadata": {},
   "outputs": [],
   "source": [
    "# Xóa bỏ dữ liệu khuyết thiếu\n",
    "df_2 = df_2.dropna()"
   ]
  },
  {
   "cell_type": "code",
   "execution_count": 18,
   "id": "152c9f68",
   "metadata": {},
   "outputs": [
    {
     "name": "stdout",
     "output_type": "stream",
     "text": [
      "r: 0.9432201374746727, pvalue: 1.3451948745846463e-99\n"
     ]
    }
   ],
   "source": [
    "r, pvalue = stats.pearsonr(df_2[\"cases\"], df_2[\"deaths\"])\n",
    "print(f\"r: {r}, pvalue: {pvalue}\")"
   ]
  },
  {
   "cell_type": "markdown",
   "id": "a40962e7",
   "metadata": {},
   "source": [
    "- Nhận xét: do pvalue ~ 0, nên với mức ý nghĩa 5% bác bỏ giả thuyết không, chấp nhận giả thuyết đối.\n",
    "- Kết luận: giữa số ca mắc và số ca tử vong có sự tương quan tuyến tính mạnh với nhau."
   ]
  },
  {
   "cell_type": "markdown",
   "id": "404c1198",
   "metadata": {},
   "source": [
    "##### Biến đổi lại thuộc tính population về dạng thứ bậc thực hiện kiểm định tương quan giữa biến này với số ca nhiễm."
   ]
  },
  {
   "cell_type": "code",
   "execution_count": 19,
   "id": "9d7d999b",
   "metadata": {},
   "outputs": [],
   "source": [
    "# Tiến hành tính các khoảng tứ phân vị của population\n",
    "q1, q2, q3 = df_1[\"population\"].quantile(0.25), df_1[\"population\"].quantile(0.5), df_1[\"population\"].quantile(0.75)"
   ]
  },
  {
   "cell_type": "code",
   "execution_count": 20,
   "id": "e0c94f35",
   "metadata": {},
   "outputs": [
    {
     "data": {
      "text/html": [
       "<div>\n",
       "<style scoped>\n",
       "    .dataframe tbody tr th:only-of-type {\n",
       "        vertical-align: middle;\n",
       "    }\n",
       "\n",
       "    .dataframe tbody tr th {\n",
       "        vertical-align: top;\n",
       "    }\n",
       "\n",
       "    .dataframe thead th {\n",
       "        text-align: right;\n",
       "    }\n",
       "</style>\n",
       "<table border=\"1\" class=\"dataframe\">\n",
       "  <thead>\n",
       "    <tr style=\"text-align: right;\">\n",
       "      <th></th>\n",
       "      <th>cases</th>\n",
       "      <th>population</th>\n",
       "      <th>population_ordinal</th>\n",
       "    </tr>\n",
       "  </thead>\n",
       "  <tbody>\n",
       "    <tr>\n",
       "      <th>0</th>\n",
       "      <td>34</td>\n",
       "      <td>37172386.0</td>\n",
       "      <td>4</td>\n",
       "    </tr>\n",
       "    <tr>\n",
       "      <th>1</th>\n",
       "      <td>17</td>\n",
       "      <td>2866376.0</td>\n",
       "      <td>2</td>\n",
       "    </tr>\n",
       "    <tr>\n",
       "      <th>2</th>\n",
       "      <td>64</td>\n",
       "      <td>42228429.0</td>\n",
       "      <td>4</td>\n",
       "    </tr>\n",
       "    <tr>\n",
       "      <th>3</th>\n",
       "      <td>21</td>\n",
       "      <td>77006.0</td>\n",
       "      <td>1</td>\n",
       "    </tr>\n",
       "    <tr>\n",
       "      <th>4</th>\n",
       "      <td>0</td>\n",
       "      <td>30809762.0</td>\n",
       "      <td>4</td>\n",
       "    </tr>\n",
       "  </tbody>\n",
       "</table>\n",
       "</div>"
      ],
      "text/plain": [
       "   cases  population  population_ordinal\n",
       "0     34  37172386.0                   4\n",
       "1     17   2866376.0                   2\n",
       "2     64  42228429.0                   4\n",
       "3     21     77006.0                   1\n",
       "4      0  30809762.0                   4"
      ]
     },
     "execution_count": 20,
     "metadata": {},
     "output_type": "execute_result"
    }
   ],
   "source": [
    "# Tiến hành biến đổi population\n",
    "def population_order(population):\n",
    "    if population < q1:\n",
    "        return 1\n",
    "    elif population >= q1 and population < q2:\n",
    "        return 2\n",
    "    elif population >= q2 and population < q3:\n",
    "        return 3\n",
    "    else:\n",
    "        return 4\n",
    "    \n",
    "df_1[\"population_ordinal\"] = df_1[\"population\"].apply(population_order)\n",
    "df_1.head()"
   ]
  },
  {
   "cell_type": "markdown",
   "id": "81947322",
   "metadata": {},
   "source": [
    "Tiến hành kiểm định: Do population_ordinal là dữ liệu kiểu thứ bậc nên sử dụng kiểm định spearman để kiểm định tương quan giưa population_ordinal và cases.\n",
    "- Giả thuyết không: giữa population_ordinal và cases không có tương quan.\n",
    "- Giả thuyết đối: giữa population_ordinal và cases có tương quan."
   ]
  },
  {
   "cell_type": "code",
   "execution_count": 21,
   "id": "fe73c664",
   "metadata": {},
   "outputs": [
    {
     "name": "stdout",
     "output_type": "stream",
     "text": [
      "r: 0.4437319255689447, pvalue: 2.3870927472609878e-11\n"
     ]
    }
   ],
   "source": [
    "r, pvalue = stats.spearmanr(df_1[\"cases\"], df_1[\"population_ordinal\"])\n",
    "print(f\"r: {r}, pvalue: {pvalue}\")"
   ]
  },
  {
   "cell_type": "markdown",
   "id": "70acfe39",
   "metadata": {},
   "source": [
    "pvalue ~ 0 và r ~ 0.5 chứng tỏ giữa thuộc tính population_ordinal và cases có tương quan với nhau. Như vậy có thể thấy, việc biến đổi dữ liệu thành các khoảng có thể làm nổi bật thông tin tương quan giữa các thuộc tính."
   ]
  }
 ],
 "metadata": {
  "kernelspec": {
   "display_name": "Python 3 (ipykernel)",
   "language": "python",
   "name": "python3"
  },
  "language_info": {
   "codemirror_mode": {
    "name": "ipython",
    "version": 3
   },
   "file_extension": ".py",
   "mimetype": "text/x-python",
   "name": "python",
   "nbconvert_exporter": "python",
   "pygments_lexer": "ipython3",
   "version": "3.9.6"
  }
 },
 "nbformat": 4,
 "nbformat_minor": 5
}
