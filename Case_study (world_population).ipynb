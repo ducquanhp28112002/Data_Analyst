{
 "cells": [
  {
   "cell_type": "code",
   "execution_count": 40,
   "id": "b12c7a08",
   "metadata": {},
   "outputs": [],
   "source": [
    "import pandas as pd\n",
    "import numpy as np\n",
    "import matplotlib.pyplot as plt\n",
    "import seaborn as sns"
   ]
  },
  {
   "cell_type": "code",
   "execution_count": 41,
   "id": "defa1f9e",
   "metadata": {},
   "outputs": [
    {
     "data": {
      "text/html": [
       "<div>\n",
       "<style scoped>\n",
       "    .dataframe tbody tr th:only-of-type {\n",
       "        vertical-align: middle;\n",
       "    }\n",
       "\n",
       "    .dataframe tbody tr th {\n",
       "        vertical-align: top;\n",
       "    }\n",
       "\n",
       "    .dataframe thead th {\n",
       "        text-align: right;\n",
       "    }\n",
       "</style>\n",
       "<table border=\"1\" class=\"dataframe\">\n",
       "  <thead>\n",
       "    <tr style=\"text-align: right;\">\n",
       "      <th></th>\n",
       "      <th>Country/Other</th>\n",
       "      <th>Population (2020)</th>\n",
       "      <th>Yearly Change</th>\n",
       "      <th>Net Change</th>\n",
       "      <th>Density (P/Km²)</th>\n",
       "      <th>Land Area (Km²)</th>\n",
       "      <th>Migrants (net)</th>\n",
       "      <th>Fert. Rate</th>\n",
       "      <th>Med. Age</th>\n",
       "      <th>Urban Pop %</th>\n",
       "      <th>World Share</th>\n",
       "    </tr>\n",
       "  </thead>\n",
       "  <tbody>\n",
       "    <tr>\n",
       "      <th>0</th>\n",
       "      <td>Afghanistan</td>\n",
       "      <td>38928346</td>\n",
       "      <td>2.33</td>\n",
       "      <td>886592</td>\n",
       "      <td>60</td>\n",
       "      <td>652860</td>\n",
       "      <td>-62920</td>\n",
       "      <td>4.6</td>\n",
       "      <td>18</td>\n",
       "      <td>25.0</td>\n",
       "      <td>0.50</td>\n",
       "    </tr>\n",
       "    <tr>\n",
       "      <th>1</th>\n",
       "      <td>Albania</td>\n",
       "      <td>2877797</td>\n",
       "      <td>-0.11</td>\n",
       "      <td>-3120</td>\n",
       "      <td>105</td>\n",
       "      <td>27400</td>\n",
       "      <td>-14000</td>\n",
       "      <td>1.6</td>\n",
       "      <td>36</td>\n",
       "      <td>63.0</td>\n",
       "      <td>0.04</td>\n",
       "    </tr>\n",
       "    <tr>\n",
       "      <th>2</th>\n",
       "      <td>Algeria</td>\n",
       "      <td>43851044</td>\n",
       "      <td>1.85</td>\n",
       "      <td>797990</td>\n",
       "      <td>18</td>\n",
       "      <td>2381740</td>\n",
       "      <td>-10000</td>\n",
       "      <td>3.1</td>\n",
       "      <td>29</td>\n",
       "      <td>73.0</td>\n",
       "      <td>0.56</td>\n",
       "    </tr>\n",
       "    <tr>\n",
       "      <th>3</th>\n",
       "      <td>Angola</td>\n",
       "      <td>32866272</td>\n",
       "      <td>3.27</td>\n",
       "      <td>1040977</td>\n",
       "      <td>26</td>\n",
       "      <td>1246700</td>\n",
       "      <td>6413</td>\n",
       "      <td>5.6</td>\n",
       "      <td>17</td>\n",
       "      <td>67.0</td>\n",
       "      <td>0.42</td>\n",
       "    </tr>\n",
       "    <tr>\n",
       "      <th>4</th>\n",
       "      <td>Antigua and Barbuda</td>\n",
       "      <td>97929</td>\n",
       "      <td>0.84</td>\n",
       "      <td>811</td>\n",
       "      <td>223</td>\n",
       "      <td>440</td>\n",
       "      <td>0</td>\n",
       "      <td>2.0</td>\n",
       "      <td>34</td>\n",
       "      <td>26.0</td>\n",
       "      <td>0.00</td>\n",
       "    </tr>\n",
       "  </tbody>\n",
       "</table>\n",
       "</div>"
      ],
      "text/plain": [
       "         Country/Other  Population (2020)  Yearly Change  Net Change  \\\n",
       "0          Afghanistan           38928346           2.33      886592   \n",
       "1              Albania            2877797          -0.11       -3120   \n",
       "2              Algeria           43851044           1.85      797990   \n",
       "3               Angola           32866272           3.27     1040977   \n",
       "4  Antigua and Barbuda              97929           0.84         811   \n",
       "\n",
       "   Density (P/Km²)  Land Area (Km²)  Migrants (net)  Fert. Rate  Med. Age  \\\n",
       "0               60           652860          -62920         4.6        18   \n",
       "1              105            27400          -14000         1.6        36   \n",
       "2               18          2381740          -10000         3.1        29   \n",
       "3               26          1246700            6413         5.6        17   \n",
       "4              223              440               0         2.0        34   \n",
       "\n",
       "   Urban Pop %  World Share  \n",
       "0         25.0         0.50  \n",
       "1         63.0         0.04  \n",
       "2         73.0         0.56  \n",
       "3         67.0         0.42  \n",
       "4         26.0         0.00  "
      ]
     },
     "execution_count": 41,
     "metadata": {},
     "output_type": "execute_result"
    }
   ],
   "source": [
    "# Đọc dữ liệu\n",
    "df = pd.read_csv(\"world_population.csv\")\n",
    "df.head()"
   ]
  },
  {
   "cell_type": "code",
   "execution_count": 42,
   "id": "a66bf13e",
   "metadata": {},
   "outputs": [
    {
     "data": {
      "text/plain": [
       "(201, 11)"
      ]
     },
     "execution_count": 42,
     "metadata": {},
     "output_type": "execute_result"
    }
   ],
   "source": [
    "# Kích thước bộ dữ liệu\n",
    "df.shape"
   ]
  },
  {
   "cell_type": "code",
   "execution_count": 43,
   "id": "876a5d8c",
   "metadata": {},
   "outputs": [
    {
     "name": "stdout",
     "output_type": "stream",
     "text": [
      "<class 'pandas.core.frame.DataFrame'>\n",
      "RangeIndex: 201 entries, 0 to 200\n",
      "Data columns (total 11 columns):\n",
      " #   Column             Non-Null Count  Dtype  \n",
      "---  ------             --------------  -----  \n",
      " 0   Country/Other      201 non-null    object \n",
      " 1   Population (2020)  201 non-null    int64  \n",
      " 2   Yearly Change      201 non-null    float64\n",
      " 3   Net Change         201 non-null    int64  \n",
      " 4   Density (P/Km²)    201 non-null    int64  \n",
      " 5   Land Area (Km²)    201 non-null    int64  \n",
      " 6   Migrants (net)     201 non-null    int64  \n",
      " 7   Fert. Rate         201 non-null    float64\n",
      " 8   Med. Age           201 non-null    int64  \n",
      " 9   Urban Pop %        194 non-null    float64\n",
      " 10  World Share        201 non-null    float64\n",
      "dtypes: float64(4), int64(6), object(1)\n",
      "memory usage: 17.4+ KB\n"
     ]
    }
   ],
   "source": [
    "# Thông tin bộ dữ liệu\n",
    "df.info()"
   ]
  },
  {
   "cell_type": "code",
   "execution_count": 44,
   "id": "fed12662",
   "metadata": {
    "scrolled": true
   },
   "outputs": [
    {
     "data": {
      "text/html": [
       "<div>\n",
       "<style scoped>\n",
       "    .dataframe tbody tr th:only-of-type {\n",
       "        vertical-align: middle;\n",
       "    }\n",
       "\n",
       "    .dataframe tbody tr th {\n",
       "        vertical-align: top;\n",
       "    }\n",
       "\n",
       "    .dataframe thead th {\n",
       "        text-align: right;\n",
       "    }\n",
       "</style>\n",
       "<table border=\"1\" class=\"dataframe\">\n",
       "  <thead>\n",
       "    <tr style=\"text-align: right;\">\n",
       "      <th></th>\n",
       "      <th>Population (2020)</th>\n",
       "      <th>Yearly Change</th>\n",
       "      <th>Net Change</th>\n",
       "      <th>Density (P/Km²)</th>\n",
       "      <th>Land Area (Km²)</th>\n",
       "      <th>Migrants (net)</th>\n",
       "      <th>Fert. Rate</th>\n",
       "      <th>Med. Age</th>\n",
       "      <th>Urban Pop %</th>\n",
       "      <th>World Share</th>\n",
       "    </tr>\n",
       "  </thead>\n",
       "  <tbody>\n",
       "    <tr>\n",
       "      <th>count</th>\n",
       "      <td>2.010000e+02</td>\n",
       "      <td>201.000000</td>\n",
       "      <td>2.010000e+02</td>\n",
       "      <td>201.000000</td>\n",
       "      <td>2.010000e+02</td>\n",
       "      <td>201.000000</td>\n",
       "      <td>201.000000</td>\n",
       "      <td>201.000000</td>\n",
       "      <td>194.000000</td>\n",
       "      <td>201.000000</td>\n",
       "    </tr>\n",
       "    <tr>\n",
       "      <th>mean</th>\n",
       "      <td>3.877661e+07</td>\n",
       "      <td>1.200299</td>\n",
       "      <td>4.046234e+05</td>\n",
       "      <td>361.711443</td>\n",
       "      <td>6.450903e+05</td>\n",
       "      <td>-5.442786</td>\n",
       "      <td>2.692040</td>\n",
       "      <td>30.621891</td>\n",
       "      <td>59.634021</td>\n",
       "      <td>0.497463</td>\n",
       "    </tr>\n",
       "    <tr>\n",
       "      <th>std</th>\n",
       "      <td>1.454245e+08</td>\n",
       "      <td>1.091574</td>\n",
       "      <td>1.210610e+06</td>\n",
       "      <td>1710.321831</td>\n",
       "      <td>1.809408e+06</td>\n",
       "      <td>123292.057588</td>\n",
       "      <td>1.264253</td>\n",
       "      <td>9.119557</td>\n",
       "      <td>22.226695</td>\n",
       "      <td>1.865678</td>\n",
       "    </tr>\n",
       "    <tr>\n",
       "      <th>min</th>\n",
       "      <td>9.792900e+04</td>\n",
       "      <td>-2.470000</td>\n",
       "      <td>-3.838400e+05</td>\n",
       "      <td>2.000000</td>\n",
       "      <td>3.000000e+01</td>\n",
       "      <td>-653249.000000</td>\n",
       "      <td>1.100000</td>\n",
       "      <td>15.000000</td>\n",
       "      <td>13.000000</td>\n",
       "      <td>0.000000</td>\n",
       "    </tr>\n",
       "    <tr>\n",
       "      <th>25%</th>\n",
       "      <td>1.886198e+06</td>\n",
       "      <td>0.420000</td>\n",
       "      <td>4.103000e+03</td>\n",
       "      <td>34.000000</td>\n",
       "      <td>2.164000e+04</td>\n",
       "      <td>-10047.000000</td>\n",
       "      <td>1.700000</td>\n",
       "      <td>22.000000</td>\n",
       "      <td>43.000000</td>\n",
       "      <td>0.020000</td>\n",
       "    </tr>\n",
       "    <tr>\n",
       "      <th>50%</th>\n",
       "      <td>8.654622e+06</td>\n",
       "      <td>1.080000</td>\n",
       "      <td>6.040300e+04</td>\n",
       "      <td>89.000000</td>\n",
       "      <td>1.085600e+05</td>\n",
       "      <td>-960.000000</td>\n",
       "      <td>2.300000</td>\n",
       "      <td>30.000000</td>\n",
       "      <td>60.000000</td>\n",
       "      <td>0.110000</td>\n",
       "    </tr>\n",
       "    <tr>\n",
       "      <th>75%</th>\n",
       "      <td>2.769102e+07</td>\n",
       "      <td>1.960000</td>\n",
       "      <td>3.602040e+05</td>\n",
       "      <td>228.000000</td>\n",
       "      <td>4.988000e+05</td>\n",
       "      <td>9741.000000</td>\n",
       "      <td>3.600000</td>\n",
       "      <td>39.000000</td>\n",
       "      <td>78.750000</td>\n",
       "      <td>0.360000</td>\n",
       "    </tr>\n",
       "    <tr>\n",
       "      <th>max</th>\n",
       "      <td>1.439324e+09</td>\n",
       "      <td>3.840000</td>\n",
       "      <td>1.358663e+07</td>\n",
       "      <td>21645.000000</td>\n",
       "      <td>1.637687e+07</td>\n",
       "      <td>954806.000000</td>\n",
       "      <td>7.000000</td>\n",
       "      <td>48.000000</td>\n",
       "      <td>100.000000</td>\n",
       "      <td>18.470000</td>\n",
       "    </tr>\n",
       "  </tbody>\n",
       "</table>\n",
       "</div>"
      ],
      "text/plain": [
       "       Population (2020)  Yearly Change    Net Change  Density (P/Km²)  \\\n",
       "count       2.010000e+02     201.000000  2.010000e+02       201.000000   \n",
       "mean        3.877661e+07       1.200299  4.046234e+05       361.711443   \n",
       "std         1.454245e+08       1.091574  1.210610e+06      1710.321831   \n",
       "min         9.792900e+04      -2.470000 -3.838400e+05         2.000000   \n",
       "25%         1.886198e+06       0.420000  4.103000e+03        34.000000   \n",
       "50%         8.654622e+06       1.080000  6.040300e+04        89.000000   \n",
       "75%         2.769102e+07       1.960000  3.602040e+05       228.000000   \n",
       "max         1.439324e+09       3.840000  1.358663e+07     21645.000000   \n",
       "\n",
       "       Land Area (Km²)  Migrants (net)  Fert. Rate    Med. Age  Urban Pop %  \\\n",
       "count     2.010000e+02      201.000000  201.000000  201.000000   194.000000   \n",
       "mean      6.450903e+05       -5.442786    2.692040   30.621891    59.634021   \n",
       "std       1.809408e+06   123292.057588    1.264253    9.119557    22.226695   \n",
       "min       3.000000e+01  -653249.000000    1.100000   15.000000    13.000000   \n",
       "25%       2.164000e+04   -10047.000000    1.700000   22.000000    43.000000   \n",
       "50%       1.085600e+05     -960.000000    2.300000   30.000000    60.000000   \n",
       "75%       4.988000e+05     9741.000000    3.600000   39.000000    78.750000   \n",
       "max       1.637687e+07   954806.000000    7.000000   48.000000   100.000000   \n",
       "\n",
       "       World Share  \n",
       "count   201.000000  \n",
       "mean      0.497463  \n",
       "std       1.865678  \n",
       "min       0.000000  \n",
       "25%       0.020000  \n",
       "50%       0.110000  \n",
       "75%       0.360000  \n",
       "max      18.470000  "
      ]
     },
     "execution_count": 44,
     "metadata": {},
     "output_type": "execute_result"
    }
   ],
   "source": [
    "# Mô tả bộ dữ liệu\n",
    "df.describe()"
   ]
  },
  {
   "cell_type": "code",
   "execution_count": 45,
   "id": "1e3bde14",
   "metadata": {},
   "outputs": [
    {
     "data": {
      "text/plain": [
       "Country/Other        0\n",
       "Population (2020)    0\n",
       "Yearly Change        0\n",
       "Net Change           0\n",
       "Density (P/Km²)      0\n",
       "Land Area (Km²)      0\n",
       "Migrants (net)       0\n",
       "Fert. Rate           0\n",
       "Med. Age             0\n",
       "Urban Pop %          7\n",
       "World Share          0\n",
       "dtype: int64"
      ]
     },
     "execution_count": 45,
     "metadata": {},
     "output_type": "execute_result"
    }
   ],
   "source": [
    "# Kiểm tra dữ liệu bị khuyết thiếu\n",
    "df.isnull().sum()"
   ]
  },
  {
   "cell_type": "markdown",
   "id": "44c57158",
   "metadata": {},
   "source": [
    "- Dữ liệu khuyết thiếu chỉ có trên cột Urban Pop %."
   ]
  },
  {
   "cell_type": "code",
   "execution_count": 46,
   "id": "d7646396",
   "metadata": {},
   "outputs": [
    {
     "data": {
      "text/html": [
       "<div>\n",
       "<style scoped>\n",
       "    .dataframe tbody tr th:only-of-type {\n",
       "        vertical-align: middle;\n",
       "    }\n",
       "\n",
       "    .dataframe tbody tr th {\n",
       "        vertical-align: top;\n",
       "    }\n",
       "\n",
       "    .dataframe thead th {\n",
       "        text-align: right;\n",
       "    }\n",
       "</style>\n",
       "<table border=\"1\" class=\"dataframe\">\n",
       "  <thead>\n",
       "    <tr style=\"text-align: right;\">\n",
       "      <th></th>\n",
       "      <th>Country/Other</th>\n",
       "      <th>Population (2020)</th>\n",
       "      <th>Yearly Change</th>\n",
       "      <th>Net Change</th>\n",
       "      <th>Density (P/Km²)</th>\n",
       "      <th>Land Area (Km²)</th>\n",
       "      <th>Migrants (net)</th>\n",
       "      <th>Fert. Rate</th>\n",
       "      <th>Med. Age</th>\n",
       "      <th>Urban Pop %</th>\n",
       "      <th>World Share</th>\n",
       "    </tr>\n",
       "  </thead>\n",
       "  <tbody>\n",
       "    <tr>\n",
       "      <th>0</th>\n",
       "      <td>Afghanistan</td>\n",
       "      <td>38928346</td>\n",
       "      <td>2.33</td>\n",
       "      <td>886592</td>\n",
       "      <td>60</td>\n",
       "      <td>652860</td>\n",
       "      <td>-62920</td>\n",
       "      <td>4.6</td>\n",
       "      <td>18</td>\n",
       "      <td>25.0</td>\n",
       "      <td>0.50</td>\n",
       "    </tr>\n",
       "    <tr>\n",
       "      <th>1</th>\n",
       "      <td>Albania</td>\n",
       "      <td>2877797</td>\n",
       "      <td>-0.11</td>\n",
       "      <td>-3120</td>\n",
       "      <td>105</td>\n",
       "      <td>27400</td>\n",
       "      <td>-14000</td>\n",
       "      <td>1.6</td>\n",
       "      <td>36</td>\n",
       "      <td>63.0</td>\n",
       "      <td>0.04</td>\n",
       "    </tr>\n",
       "    <tr>\n",
       "      <th>2</th>\n",
       "      <td>Algeria</td>\n",
       "      <td>43851044</td>\n",
       "      <td>1.85</td>\n",
       "      <td>797990</td>\n",
       "      <td>18</td>\n",
       "      <td>2381740</td>\n",
       "      <td>-10000</td>\n",
       "      <td>3.1</td>\n",
       "      <td>29</td>\n",
       "      <td>73.0</td>\n",
       "      <td>0.56</td>\n",
       "    </tr>\n",
       "    <tr>\n",
       "      <th>3</th>\n",
       "      <td>Angola</td>\n",
       "      <td>32866272</td>\n",
       "      <td>3.27</td>\n",
       "      <td>1040977</td>\n",
       "      <td>26</td>\n",
       "      <td>1246700</td>\n",
       "      <td>6413</td>\n",
       "      <td>5.6</td>\n",
       "      <td>17</td>\n",
       "      <td>67.0</td>\n",
       "      <td>0.42</td>\n",
       "    </tr>\n",
       "    <tr>\n",
       "      <th>4</th>\n",
       "      <td>Antigua and Barbuda</td>\n",
       "      <td>97929</td>\n",
       "      <td>0.84</td>\n",
       "      <td>811</td>\n",
       "      <td>223</td>\n",
       "      <td>440</td>\n",
       "      <td>0</td>\n",
       "      <td>2.0</td>\n",
       "      <td>34</td>\n",
       "      <td>26.0</td>\n",
       "      <td>0.00</td>\n",
       "    </tr>\n",
       "    <tr>\n",
       "      <th>...</th>\n",
       "      <td>...</td>\n",
       "      <td>...</td>\n",
       "      <td>...</td>\n",
       "      <td>...</td>\n",
       "      <td>...</td>\n",
       "      <td>...</td>\n",
       "      <td>...</td>\n",
       "      <td>...</td>\n",
       "      <td>...</td>\n",
       "      <td>...</td>\n",
       "      <td>...</td>\n",
       "    </tr>\n",
       "    <tr>\n",
       "      <th>196</th>\n",
       "      <td>Vietnam</td>\n",
       "      <td>97338579</td>\n",
       "      <td>0.91</td>\n",
       "      <td>876473</td>\n",
       "      <td>314</td>\n",
       "      <td>310070</td>\n",
       "      <td>-80000</td>\n",
       "      <td>2.1</td>\n",
       "      <td>32</td>\n",
       "      <td>38.0</td>\n",
       "      <td>1.25</td>\n",
       "    </tr>\n",
       "    <tr>\n",
       "      <th>197</th>\n",
       "      <td>Western Sahara</td>\n",
       "      <td>597339</td>\n",
       "      <td>2.55</td>\n",
       "      <td>14876</td>\n",
       "      <td>2</td>\n",
       "      <td>266000</td>\n",
       "      <td>5582</td>\n",
       "      <td>2.4</td>\n",
       "      <td>28</td>\n",
       "      <td>87.0</td>\n",
       "      <td>0.01</td>\n",
       "    </tr>\n",
       "    <tr>\n",
       "      <th>198</th>\n",
       "      <td>Yemen</td>\n",
       "      <td>29825964</td>\n",
       "      <td>2.28</td>\n",
       "      <td>664042</td>\n",
       "      <td>56</td>\n",
       "      <td>527970</td>\n",
       "      <td>-30000</td>\n",
       "      <td>3.8</td>\n",
       "      <td>20</td>\n",
       "      <td>38.0</td>\n",
       "      <td>0.38</td>\n",
       "    </tr>\n",
       "    <tr>\n",
       "      <th>199</th>\n",
       "      <td>Zambia</td>\n",
       "      <td>18383955</td>\n",
       "      <td>2.93</td>\n",
       "      <td>522925</td>\n",
       "      <td>25</td>\n",
       "      <td>743390</td>\n",
       "      <td>-8000</td>\n",
       "      <td>4.7</td>\n",
       "      <td>18</td>\n",
       "      <td>45.0</td>\n",
       "      <td>0.24</td>\n",
       "    </tr>\n",
       "    <tr>\n",
       "      <th>200</th>\n",
       "      <td>Zimbabwe</td>\n",
       "      <td>14862924</td>\n",
       "      <td>1.48</td>\n",
       "      <td>217456</td>\n",
       "      <td>38</td>\n",
       "      <td>386850</td>\n",
       "      <td>-116858</td>\n",
       "      <td>3.6</td>\n",
       "      <td>19</td>\n",
       "      <td>38.0</td>\n",
       "      <td>0.19</td>\n",
       "    </tr>\n",
       "  </tbody>\n",
       "</table>\n",
       "<p>201 rows × 11 columns</p>\n",
       "</div>"
      ],
      "text/plain": [
       "           Country/Other  Population (2020)  Yearly Change  Net Change  \\\n",
       "0            Afghanistan           38928346           2.33      886592   \n",
       "1                Albania            2877797          -0.11       -3120   \n",
       "2                Algeria           43851044           1.85      797990   \n",
       "3                 Angola           32866272           3.27     1040977   \n",
       "4    Antigua and Barbuda              97929           0.84         811   \n",
       "..                   ...                ...            ...         ...   \n",
       "196              Vietnam           97338579           0.91      876473   \n",
       "197       Western Sahara             597339           2.55       14876   \n",
       "198                Yemen           29825964           2.28      664042   \n",
       "199               Zambia           18383955           2.93      522925   \n",
       "200             Zimbabwe           14862924           1.48      217456   \n",
       "\n",
       "     Density (P/Km²)  Land Area (Km²)  Migrants (net)  Fert. Rate  Med. Age  \\\n",
       "0                 60           652860          -62920         4.6        18   \n",
       "1                105            27400          -14000         1.6        36   \n",
       "2                 18          2381740          -10000         3.1        29   \n",
       "3                 26          1246700            6413         5.6        17   \n",
       "4                223              440               0         2.0        34   \n",
       "..               ...              ...             ...         ...       ...   \n",
       "196              314           310070          -80000         2.1        32   \n",
       "197                2           266000            5582         2.4        28   \n",
       "198               56           527970          -30000         3.8        20   \n",
       "199               25           743390           -8000         4.7        18   \n",
       "200               38           386850         -116858         3.6        19   \n",
       "\n",
       "     Urban Pop %  World Share  \n",
       "0           25.0         0.50  \n",
       "1           63.0         0.04  \n",
       "2           73.0         0.56  \n",
       "3           67.0         0.42  \n",
       "4           26.0         0.00  \n",
       "..           ...          ...  \n",
       "196         38.0         1.25  \n",
       "197         87.0         0.01  \n",
       "198         38.0         0.38  \n",
       "199         45.0         0.24  \n",
       "200         38.0         0.19  \n",
       "\n",
       "[201 rows x 11 columns]"
      ]
     },
     "execution_count": 46,
     "metadata": {},
     "output_type": "execute_result"
    }
   ],
   "source": [
    "# Thay thế giá trị khuyết thiếu trên cột Urban Pop % bằng giá trị mean của cột này\n",
    "values = {\"Urban Pop %\": df[\"Urban Pop %\"].mean()}\n",
    "new_df = df.fillna(value = values)\n",
    "new_df"
   ]
  },
  {
   "cell_type": "code",
   "execution_count": 47,
   "id": "daaa132a",
   "metadata": {},
   "outputs": [
    {
     "name": "stdout",
     "output_type": "stream",
     "text": [
      "<class 'pandas.core.frame.DataFrame'>\n",
      "RangeIndex: 201 entries, 0 to 200\n",
      "Data columns (total 11 columns):\n",
      " #   Column             Non-Null Count  Dtype  \n",
      "---  ------             --------------  -----  \n",
      " 0   Country/Other      201 non-null    object \n",
      " 1   Population (2020)  201 non-null    int64  \n",
      " 2   Yearly Change      201 non-null    float64\n",
      " 3   Net Change         201 non-null    int64  \n",
      " 4   Density (P/Km²)    201 non-null    int64  \n",
      " 5   Land Area (Km²)    201 non-null    int64  \n",
      " 6   Migrants (net)     201 non-null    int64  \n",
      " 7   Fert. Rate         201 non-null    float64\n",
      " 8   Med. Age           201 non-null    int64  \n",
      " 9   Urban Pop %        201 non-null    float64\n",
      " 10  World Share        201 non-null    float64\n",
      "dtypes: float64(4), int64(6), object(1)\n",
      "memory usage: 17.4+ KB\n"
     ]
    }
   ],
   "source": [
    "# Kiểm tra lại thông tin bộ dữ liệu mới\n",
    "new_df.info()"
   ]
  },
  {
   "cell_type": "code",
   "execution_count": 48,
   "id": "4956ea18",
   "metadata": {},
   "outputs": [
    {
     "data": {
      "text/plain": [
       "<AxesSubplot:xlabel='Population (2020)'>"
      ]
     },
     "execution_count": 48,
     "metadata": {},
     "output_type": "execute_result"
    },
    {
     "data": {
      "image/png": "[encoded data removed]",
      "text/plain": [
       "<Figure size 432x288 with 1 Axes>"
      ]
     },
     "metadata": {
      "needs_background": "light"
     },
     "output_type": "display_data"
    }
   ],
   "source": [
    "# Xác định dữ liệu ngoại lai của cột Population (2020)\n",
    "sns.boxplot(x = new_df[\"Population (2020)\"])"
   ]
  },
  {
   "cell_type": "markdown",
   "id": "311be4e2",
   "metadata": {},
   "source": [
    "- Ta có thể thấy dân số thế giới năm 2020 chủ yếu dưới 500,000,000 dân. Đặc biệt, có 2 nước có số dân trên 1.3 tỷ. Và theo kiến thức thực tế ta có thể dễ dàng biết đó là Trung Quốc và Ấn Độ."
   ]
  },
  {
   "cell_type": "code",
   "execution_count": 49,
   "id": "c35ca8f3",
   "metadata": {
    "scrolled": true
   },
   "outputs": [
    {
     "data": {
      "text/html": [
       "<div>\n",
       "<style scoped>\n",
       "    .dataframe tbody tr th:only-of-type {\n",
       "        vertical-align: middle;\n",
       "    }\n",
       "\n",
       "    .dataframe tbody tr th {\n",
       "        vertical-align: top;\n",
       "    }\n",
       "\n",
       "    .dataframe thead th {\n",
       "        text-align: right;\n",
       "    }\n",
       "</style>\n",
       "<table border=\"1\" class=\"dataframe\">\n",
       "  <thead>\n",
       "    <tr style=\"text-align: right;\">\n",
       "      <th></th>\n",
       "      <th>Country/Other</th>\n",
       "      <th>Population (2020)</th>\n",
       "      <th>Yearly Change</th>\n",
       "      <th>Net Change</th>\n",
       "      <th>Density (P/Km²)</th>\n",
       "      <th>Land Area (Km²)</th>\n",
       "      <th>Migrants (net)</th>\n",
       "      <th>Fert. Rate</th>\n",
       "      <th>Med. Age</th>\n",
       "      <th>Urban Pop %</th>\n",
       "      <th>World Share</th>\n",
       "    </tr>\n",
       "  </thead>\n",
       "  <tbody>\n",
       "    <tr>\n",
       "      <th>196</th>\n",
       "      <td>Vietnam</td>\n",
       "      <td>97338579</td>\n",
       "      <td>0.91</td>\n",
       "      <td>876473</td>\n",
       "      <td>314</td>\n",
       "      <td>310070</td>\n",
       "      <td>-80000</td>\n",
       "      <td>2.1</td>\n",
       "      <td>32</td>\n",
       "      <td>38.0</td>\n",
       "      <td>1.25</td>\n",
       "    </tr>\n",
       "  </tbody>\n",
       "</table>\n",
       "</div>"
      ],
      "text/plain": [
       "    Country/Other  Population (2020)  Yearly Change  Net Change  \\\n",
       "196       Vietnam           97338579           0.91      876473   \n",
       "\n",
       "     Density (P/Km²)  Land Area (Km²)  Migrants (net)  Fert. Rate  Med. Age  \\\n",
       "196              314           310070          -80000         2.1        32   \n",
       "\n",
       "     Urban Pop %  World Share  \n",
       "196         38.0         1.25  "
      ]
     },
     "execution_count": 49,
     "metadata": {},
     "output_type": "execute_result"
    }
   ],
   "source": [
    "# Truy cập tới nước Vietnam\n",
    "vn = new_df.loc[new_df[\"Country/Other\"] == \"Vietnam\"]\n",
    "vn"
   ]
  },
  {
   "cell_type": "markdown",
   "id": "852d168d",
   "metadata": {},
   "source": [
    "##### Phân bố dân tại Vietnam"
   ]
  },
  {
   "cell_type": "code",
   "execution_count": 76,
   "id": "98029071",
   "metadata": {},
   "outputs": [
    {
     "data": {
      "image/png": "[encoded data removed]",
      "text/plain": [
       "<Figure size 432x288 with 1 Axes>"
      ]
     },
     "metadata": {},
     "output_type": "display_data"
    }
   ],
   "source": [
    "sizes = [38, 62]\n",
    "labels = [\"Dân thành thị\", \"Dân nông thôn\"]\n",
    "\n",
    "plt.pie(sizes, labels = labels, autopct = \"%1.2f%%\")\n",
    "plt.title(\"Phân bố dân tại Vietnam\", fontsize = 16)\n",
    "plt.show()"
   ]
  },
  {
   "cell_type": "code",
   "execution_count": 50,
   "id": "7585162a",
   "metadata": {},
   "outputs": [
    {
     "name": "stdout",
     "output_type": "stream",
     "text": [
      "5 nước có dân số đông nhất thế giới năm 2020\n"
     ]
    },
    {
     "data": {
      "text/html": [
       "<div>\n",
       "<style scoped>\n",
       "    .dataframe tbody tr th:only-of-type {\n",
       "        vertical-align: middle;\n",
       "    }\n",
       "\n",
       "    .dataframe tbody tr th {\n",
       "        vertical-align: top;\n",
       "    }\n",
       "\n",
       "    .dataframe thead th {\n",
       "        text-align: right;\n",
       "    }\n",
       "</style>\n",
       "<table border=\"1\" class=\"dataframe\">\n",
       "  <thead>\n",
       "    <tr style=\"text-align: right;\">\n",
       "      <th></th>\n",
       "      <th>Country/Other</th>\n",
       "      <th>Population (2020)</th>\n",
       "      <th>Yearly Change</th>\n",
       "      <th>Net Change</th>\n",
       "      <th>Density (P/Km²)</th>\n",
       "      <th>Land Area (Km²)</th>\n",
       "      <th>Migrants (net)</th>\n",
       "      <th>Fert. Rate</th>\n",
       "      <th>Med. Age</th>\n",
       "      <th>Urban Pop %</th>\n",
       "      <th>World Share</th>\n",
       "    </tr>\n",
       "  </thead>\n",
       "  <tbody>\n",
       "    <tr>\n",
       "      <th>36</th>\n",
       "      <td>China</td>\n",
       "      <td>1439323776</td>\n",
       "      <td>0.39</td>\n",
       "      <td>5540090</td>\n",
       "      <td>153</td>\n",
       "      <td>9388211</td>\n",
       "      <td>-348399</td>\n",
       "      <td>1.7</td>\n",
       "      <td>38</td>\n",
       "      <td>61.0</td>\n",
       "      <td>18.47</td>\n",
       "    </tr>\n",
       "    <tr>\n",
       "      <th>82</th>\n",
       "      <td>India</td>\n",
       "      <td>1380004385</td>\n",
       "      <td>0.99</td>\n",
       "      <td>13586631</td>\n",
       "      <td>464</td>\n",
       "      <td>2973190</td>\n",
       "      <td>-532687</td>\n",
       "      <td>2.2</td>\n",
       "      <td>28</td>\n",
       "      <td>35.0</td>\n",
       "      <td>17.70</td>\n",
       "    </tr>\n",
       "    <tr>\n",
       "      <th>191</th>\n",
       "      <td>United States</td>\n",
       "      <td>331002651</td>\n",
       "      <td>0.59</td>\n",
       "      <td>1937734</td>\n",
       "      <td>36</td>\n",
       "      <td>9147420</td>\n",
       "      <td>954806</td>\n",
       "      <td>1.8</td>\n",
       "      <td>38</td>\n",
       "      <td>83.0</td>\n",
       "      <td>4.25</td>\n",
       "    </tr>\n",
       "    <tr>\n",
       "      <th>83</th>\n",
       "      <td>Indonesia</td>\n",
       "      <td>273523615</td>\n",
       "      <td>1.07</td>\n",
       "      <td>2898047</td>\n",
       "      <td>151</td>\n",
       "      <td>1811570</td>\n",
       "      <td>-98955</td>\n",
       "      <td>2.3</td>\n",
       "      <td>30</td>\n",
       "      <td>56.0</td>\n",
       "      <td>3.51</td>\n",
       "    </tr>\n",
       "    <tr>\n",
       "      <th>136</th>\n",
       "      <td>Pakistan</td>\n",
       "      <td>220892340</td>\n",
       "      <td>2.00</td>\n",
       "      <td>4327022</td>\n",
       "      <td>287</td>\n",
       "      <td>770880</td>\n",
       "      <td>-233379</td>\n",
       "      <td>3.6</td>\n",
       "      <td>23</td>\n",
       "      <td>35.0</td>\n",
       "      <td>2.83</td>\n",
       "    </tr>\n",
       "  </tbody>\n",
       "</table>\n",
       "</div>"
      ],
      "text/plain": [
       "     Country/Other  Population (2020)  Yearly Change  Net Change  \\\n",
       "36           China         1439323776           0.39     5540090   \n",
       "82           India         1380004385           0.99    13586631   \n",
       "191  United States          331002651           0.59     1937734   \n",
       "83       Indonesia          273523615           1.07     2898047   \n",
       "136       Pakistan          220892340           2.00     4327022   \n",
       "\n",
       "     Density (P/Km²)  Land Area (Km²)  Migrants (net)  Fert. Rate  Med. Age  \\\n",
       "36               153          9388211         -348399         1.7        38   \n",
       "82               464          2973190         -532687         2.2        28   \n",
       "191               36          9147420          954806         1.8        38   \n",
       "83               151          1811570          -98955         2.3        30   \n",
       "136              287           770880         -233379         3.6        23   \n",
       "\n",
       "     Urban Pop %  World Share  \n",
       "36          61.0        18.47  \n",
       "82          35.0        17.70  \n",
       "191         83.0         4.25  \n",
       "83          56.0         3.51  \n",
       "136         35.0         2.83  "
      ]
     },
     "execution_count": 50,
     "metadata": {},
     "output_type": "execute_result"
    }
   ],
   "source": [
    "# Top 5 nước có dân số đông nhất thế giới năm 2020\n",
    "print(\"5 nước có dân số đông nhất thế giới năm 2020\")\n",
    "df_1 = new_df.sort_values(\"Population (2020)\", ascending = False)\n",
    "df_1.head(5)"
   ]
  },
  {
   "cell_type": "code",
   "execution_count": 51,
   "id": "33146c96",
   "metadata": {},
   "outputs": [
    {
     "name": "stdout",
     "output_type": "stream",
     "text": [
      "5 nước có dân số thấp nhất thế giới năm 2020\n"
     ]
    },
    {
     "data": {
      "text/html": [
       "<div>\n",
       "<style scoped>\n",
       "    .dataframe tbody tr th:only-of-type {\n",
       "        vertical-align: middle;\n",
       "    }\n",
       "\n",
       "    .dataframe tbody tr th {\n",
       "        vertical-align: top;\n",
       "    }\n",
       "\n",
       "    .dataframe thead th {\n",
       "        text-align: right;\n",
       "    }\n",
       "</style>\n",
       "<table border=\"1\" class=\"dataframe\">\n",
       "  <thead>\n",
       "    <tr style=\"text-align: right;\">\n",
       "      <th></th>\n",
       "      <th>Country/Other</th>\n",
       "      <th>Population (2020)</th>\n",
       "      <th>Yearly Change</th>\n",
       "      <th>Net Change</th>\n",
       "      <th>Density (P/Km²)</th>\n",
       "      <th>Land Area (Km²)</th>\n",
       "      <th>Migrants (net)</th>\n",
       "      <th>Fert. Rate</th>\n",
       "      <th>Med. Age</th>\n",
       "      <th>Urban Pop %</th>\n",
       "      <th>World Share</th>\n",
       "    </tr>\n",
       "  </thead>\n",
       "  <tbody>\n",
       "    <tr>\n",
       "      <th>4</th>\n",
       "      <td>Antigua and Barbuda</td>\n",
       "      <td>97929</td>\n",
       "      <td>0.84</td>\n",
       "      <td>811</td>\n",
       "      <td>223</td>\n",
       "      <td>440</td>\n",
       "      <td>0</td>\n",
       "      <td>2.0</td>\n",
       "      <td>34</td>\n",
       "      <td>26.0</td>\n",
       "      <td>0.0</td>\n",
       "    </tr>\n",
       "    <tr>\n",
       "      <th>156</th>\n",
       "      <td>Seychelles</td>\n",
       "      <td>98347</td>\n",
       "      <td>0.62</td>\n",
       "      <td>608</td>\n",
       "      <td>214</td>\n",
       "      <td>460</td>\n",
       "      <td>-200</td>\n",
       "      <td>2.5</td>\n",
       "      <td>34</td>\n",
       "      <td>56.0</td>\n",
       "      <td>0.0</td>\n",
       "    </tr>\n",
       "    <tr>\n",
       "      <th>186</th>\n",
       "      <td>U.S. Virgin Islands</td>\n",
       "      <td>104425</td>\n",
       "      <td>-0.15</td>\n",
       "      <td>-153</td>\n",
       "      <td>298</td>\n",
       "      <td>350</td>\n",
       "      <td>-451</td>\n",
       "      <td>2.0</td>\n",
       "      <td>43</td>\n",
       "      <td>96.0</td>\n",
       "      <td>0.0</td>\n",
       "    </tr>\n",
       "    <tr>\n",
       "      <th>181</th>\n",
       "      <td>Tonga</td>\n",
       "      <td>105695</td>\n",
       "      <td>1.15</td>\n",
       "      <td>1201</td>\n",
       "      <td>147</td>\n",
       "      <td>720</td>\n",
       "      <td>-800</td>\n",
       "      <td>3.6</td>\n",
       "      <td>22</td>\n",
       "      <td>24.0</td>\n",
       "      <td>0.0</td>\n",
       "    </tr>\n",
       "    <tr>\n",
       "      <th>7</th>\n",
       "      <td>Aruba</td>\n",
       "      <td>106766</td>\n",
       "      <td>0.43</td>\n",
       "      <td>452</td>\n",
       "      <td>593</td>\n",
       "      <td>180</td>\n",
       "      <td>201</td>\n",
       "      <td>1.9</td>\n",
       "      <td>41</td>\n",
       "      <td>44.0</td>\n",
       "      <td>0.0</td>\n",
       "    </tr>\n",
       "  </tbody>\n",
       "</table>\n",
       "</div>"
      ],
      "text/plain": [
       "           Country/Other  Population (2020)  Yearly Change  Net Change  \\\n",
       "4    Antigua and Barbuda              97929           0.84         811   \n",
       "156           Seychelles              98347           0.62         608   \n",
       "186  U.S. Virgin Islands             104425          -0.15        -153   \n",
       "181                Tonga             105695           1.15        1201   \n",
       "7                  Aruba             106766           0.43         452   \n",
       "\n",
       "     Density (P/Km²)  Land Area (Km²)  Migrants (net)  Fert. Rate  Med. Age  \\\n",
       "4                223              440               0         2.0        34   \n",
       "156              214              460            -200         2.5        34   \n",
       "186              298              350            -451         2.0        43   \n",
       "181              147              720            -800         3.6        22   \n",
       "7                593              180             201         1.9        41   \n",
       "\n",
       "     Urban Pop %  World Share  \n",
       "4           26.0          0.0  \n",
       "156         56.0          0.0  \n",
       "186         96.0          0.0  \n",
       "181         24.0          0.0  \n",
       "7           44.0          0.0  "
      ]
     },
     "execution_count": 51,
     "metadata": {},
     "output_type": "execute_result"
    }
   ],
   "source": [
    "# Top 5 nước có dân số thấp nhất thế giới năm 2020\n",
    "print(\"5 nước có dân số thấp nhất thế giới năm 2020\")\n",
    "df_2 = new_df.sort_values(\"Population (2020)\", ascending = True)\n",
    "df_2.head(5)"
   ]
  },
  {
   "cell_type": "code",
   "execution_count": 52,
   "id": "d24cf088",
   "metadata": {},
   "outputs": [
    {
     "name": "stdout",
     "output_type": "stream",
     "text": [
      "5 nước có diện tích lớn nhất thế giới năm 2020\n"
     ]
    },
    {
     "data": {
      "text/html": [
       "<div>\n",
       "<style scoped>\n",
       "    .dataframe tbody tr th:only-of-type {\n",
       "        vertical-align: middle;\n",
       "    }\n",
       "\n",
       "    .dataframe tbody tr th {\n",
       "        vertical-align: top;\n",
       "    }\n",
       "\n",
       "    .dataframe thead th {\n",
       "        text-align: right;\n",
       "    }\n",
       "</style>\n",
       "<table border=\"1\" class=\"dataframe\">\n",
       "  <thead>\n",
       "    <tr style=\"text-align: right;\">\n",
       "      <th></th>\n",
       "      <th>Country/Other</th>\n",
       "      <th>Population (2020)</th>\n",
       "      <th>Yearly Change</th>\n",
       "      <th>Net Change</th>\n",
       "      <th>Density (P/Km²)</th>\n",
       "      <th>Land Area (Km²)</th>\n",
       "      <th>Migrants (net)</th>\n",
       "      <th>Fert. Rate</th>\n",
       "      <th>Med. Age</th>\n",
       "      <th>Urban Pop %</th>\n",
       "      <th>World Share</th>\n",
       "    </tr>\n",
       "  </thead>\n",
       "  <tbody>\n",
       "    <tr>\n",
       "      <th>147</th>\n",
       "      <td>Russia</td>\n",
       "      <td>145934462</td>\n",
       "      <td>0.04</td>\n",
       "      <td>62206</td>\n",
       "      <td>9</td>\n",
       "      <td>16376870</td>\n",
       "      <td>182456</td>\n",
       "      <td>1.8</td>\n",
       "      <td>40</td>\n",
       "      <td>74.0</td>\n",
       "      <td>1.87</td>\n",
       "    </tr>\n",
       "    <tr>\n",
       "      <th>36</th>\n",
       "      <td>China</td>\n",
       "      <td>1439323776</td>\n",
       "      <td>0.39</td>\n",
       "      <td>5540090</td>\n",
       "      <td>153</td>\n",
       "      <td>9388211</td>\n",
       "      <td>-348399</td>\n",
       "      <td>1.7</td>\n",
       "      <td>38</td>\n",
       "      <td>61.0</td>\n",
       "      <td>18.47</td>\n",
       "    </tr>\n",
       "    <tr>\n",
       "      <th>191</th>\n",
       "      <td>United States</td>\n",
       "      <td>331002651</td>\n",
       "      <td>0.59</td>\n",
       "      <td>1937734</td>\n",
       "      <td>36</td>\n",
       "      <td>9147420</td>\n",
       "      <td>954806</td>\n",
       "      <td>1.8</td>\n",
       "      <td>38</td>\n",
       "      <td>83.0</td>\n",
       "      <td>4.25</td>\n",
       "    </tr>\n",
       "    <tr>\n",
       "      <th>31</th>\n",
       "      <td>Canada</td>\n",
       "      <td>37742154</td>\n",
       "      <td>0.89</td>\n",
       "      <td>331107</td>\n",
       "      <td>4</td>\n",
       "      <td>9093510</td>\n",
       "      <td>242032</td>\n",
       "      <td>1.5</td>\n",
       "      <td>41</td>\n",
       "      <td>81.0</td>\n",
       "      <td>0.48</td>\n",
       "    </tr>\n",
       "    <tr>\n",
       "      <th>23</th>\n",
       "      <td>Brazil</td>\n",
       "      <td>212559417</td>\n",
       "      <td>0.72</td>\n",
       "      <td>1509890</td>\n",
       "      <td>25</td>\n",
       "      <td>8358140</td>\n",
       "      <td>21200</td>\n",
       "      <td>1.7</td>\n",
       "      <td>33</td>\n",
       "      <td>88.0</td>\n",
       "      <td>2.73</td>\n",
       "    </tr>\n",
       "  </tbody>\n",
       "</table>\n",
       "</div>"
      ],
      "text/plain": [
       "     Country/Other  Population (2020)  Yearly Change  Net Change  \\\n",
       "147         Russia          145934462           0.04       62206   \n",
       "36           China         1439323776           0.39     5540090   \n",
       "191  United States          331002651           0.59     1937734   \n",
       "31          Canada           37742154           0.89      331107   \n",
       "23          Brazil          212559417           0.72     1509890   \n",
       "\n",
       "     Density (P/Km²)  Land Area (Km²)  Migrants (net)  Fert. Rate  Med. Age  \\\n",
       "147                9         16376870          182456         1.8        40   \n",
       "36               153          9388211         -348399         1.7        38   \n",
       "191               36          9147420          954806         1.8        38   \n",
       "31                 4          9093510          242032         1.5        41   \n",
       "23                25          8358140           21200         1.7        33   \n",
       "\n",
       "     Urban Pop %  World Share  \n",
       "147         74.0         1.87  \n",
       "36          61.0        18.47  \n",
       "191         83.0         4.25  \n",
       "31          81.0         0.48  \n",
       "23          88.0         2.73  "
      ]
     },
     "execution_count": 52,
     "metadata": {},
     "output_type": "execute_result"
    }
   ],
   "source": [
    "# Top 5 nước có diện tích lớn nhất thế giới năm 2020\n",
    "print(\"5 nước có diện tích lớn nhất thế giới năm 2020\")\n",
    "df_3 = new_df.sort_values(\"Land Area (Km²)\", ascending = False)\n",
    "df_3.head(5)"
   ]
  },
  {
   "cell_type": "markdown",
   "id": "1b8b6d70",
   "metadata": {},
   "source": [
    "### Create a choropleth map with Plotly"
   ]
  },
  {
   "cell_type": "code",
   "execution_count": 53,
   "id": "b2574d68",
   "metadata": {},
   "outputs": [],
   "source": [
    "# Thư viện cần thiết\n",
    "import plotly.graph_objs as go\n",
    "from plotly.offline import iplot"
   ]
  },
  {
   "cell_type": "code",
   "execution_count": 54,
   "id": "e180d9c9",
   "metadata": {},
   "outputs": [],
   "source": [
    "data = dict(type = \"choropleth\",\n",
    "            locations = new_df[\"Country/Other\"],\n",
    "            locationmode = \"country names\",\n",
    "            z = new_df[\"Population (2020)\"],\n",
    "            text = new_df['Country/Other'],\n",
    "            colorbar = {\"title\": \"Population\"},\n",
    "            colorscale = [[0, \"rgb(225,255,255)\"],\n",
    "                          [0.01, \"rgb(166,206,227)\"], [0.02, \"rgb(31,125,180)\"],\n",
    "                          [0.03, \"rgb(178,223,138)\"], [0.10, \"rgb(51,160,44)\"],\n",
    "                          [0.30, \"rgb(251,144,143)\"], [0.70, \"rgb(255,255,20)\"],\n",
    "                          [1, \"rgb(210,26,28)\"]],\n",
    "            reversescale = False)"
   ]
  },
  {
   "cell_type": "code",
   "execution_count": 55,
   "id": "de15caf8",
   "metadata": {},
   "outputs": [],
   "source": [
    "layout = dict(title = \"World Population 2020\",\n",
    "              autosize = False,\n",
    "              width = 800,\n",
    "              height = 800,\n",
    "              geo = dict(showframe = True, projection = {\"type\": \"van der grinten\"}))"
   ]
  },
  {
   "cell_type": "code",
   "execution_count": 56,
   "id": "2f812819",
   "metadata": {},
   "outputs": [
    {
     "data": {
      "application/vnd.plotly.v1+json": {
       "config": {
        "linkText": "Export to plot.ly",
        "plotlyServerURL": "https://plot.ly",
        "showLink": false
       },
       "data": [
        {
         "colorbar": {
          "title": {
           "text": "Population"
          }
         },
         "colorscale": [
          [
           0,
           "rgb(225,255,255)"
          ],
          [
           0.01,
           "rgb(166,206,227)"
          ],
          [
           0.02,
           "rgb(31,125,180)"
          ],
          [
           0.03,
           "rgb(178,223,138)"
          ],
          [
           0.1,
           "rgb(51,160,44)"
          ],
          [
           0.3,
           "rgb(251,144,143)"
          ],
          [
           0.7,
           "rgb(255,255,20)"
          ],
          [
           1,
           "rgb(210,26,28)"
          ]
         ],
         "locationmode": "country names",
         "locations": [
          "Afghanistan",
          "Albania",
          "Algeria",
          "Angola",
          "Antigua and Barbuda",
          "Argentina",
          "Armenia",
          "Aruba",
          "Australia",
          "Austria",
          "Azerbaijan",
          "Bahamas",
          "Bahrain",
          "Bangladesh",
          "Barbados",
          "Belarus",
          "Belgium",
          "Belize",
          "Benin",
          "Bhutan",
          "Bolivia",
          "Bosnia and Herzegovina",
          "Botswana",
          "Brazil",
          "Brunei",
          "Bulgaria",
          "Burkina Faso",
          "Burundi",
          "Cabo Verde",
          "Cambodia",
          "Cameroon",
          "Canada",
          "Central African Republic",
          "Chad",
          "Channel Islands",
          "Chile",
          "China",
          "Colombia",
          "Comoros",
          "Congo",
          "Costa Rica",
          "Croatia",
          "Cuba",
          "Curaçao",
          "Cyprus",
          "Czech Republic (Czechia)",
          "Côte d'Ivoire",
          "DR Congo",
          "Denmark",
          "Djibouti",
          "Dominican Republic",
          "Ecuador",
          "Egypt",
          "El Salvador",
          "Equatorial Guinea",
          "Eritrea",
          "Estonia",
          "Eswatini",
          "Ethiopia",
          "Fiji",
          "Finland",
          "France",
          "French Guiana",
          "French Polynesia",
          "Gabon",
          "Gambia",
          "Georgia",
          "Germany",
          "Ghana",
          "Greece",
          "Grenada",
          "Guadeloupe",
          "Guam",
          "Guatemala",
          "Guinea",
          "Guinea-Bissau",
          "Guyana",
          "Haiti",
          "Honduras",
          "Hong Kong",
          "Hungary",
          "Iceland",
          "India",
          "Indonesia",
          "Iran",
          "Iraq",
          "Ireland",
          "Israel",
          "Italy",
          "Jamaica",
          "Japan",
          "Jordan",
          "Kazakhstan",
          "Kenya",
          "Kiribati",
          "Kuwait",
          "Kyrgyzstan",
          "Laos",
          "Latvia",
          "Lebanon",
          "Lesotho",
          "Liberia",
          "Libya",
          "Lithuania",
          "Luxembourg",
          "Macao",
          "Madagascar",
          "Malawi",
          "Malaysia",
          "Maldives",
          "Mali",
          "Malta",
          "Martinique",
          "Mauritania",
          "Mauritius",
          "Mayotte",
          "Mexico",
          "Micronesia",
          "Moldova",
          "Mongolia",
          "Montenegro",
          "Morocco",
          "Mozambique",
          "Myanmar",
          "Namibia",
          "Nepal",
          "Netherlands",
          "New Caledonia",
          "New Zealand",
          "Nicaragua",
          "Niger",
          "Nigeria",
          "North Korea",
          "North Macedonia",
          "Norway",
          "Oman",
          "Pakistan",
          "Panama",
          "Papua New Guinea",
          "Paraguay",
          "Peru",
          "Philippines",
          "Poland",
          "Portugal",
          "Puerto Rico",
          "Qatar",
          "Romania",
          "Russia",
          "Rwanda",
          "Réunion",
          "Saint Lucia",
          "Samoa",
          "Sao Tome & Principe",
          "Saudi Arabia",
          "Senegal",
          "Serbia",
          "Seychelles",
          "Sierra Leone",
          "Singapore",
          "Slovakia",
          "Slovenia",
          "Solomon Islands",
          "Somalia",
          "South Africa",
          "South Korea",
          "South Sudan",
          "Spain",
          "Sri Lanka",
          "St. Vincent & Grenadines",
          "State of Palestine",
          "Sudan",
          "Suriname",
          "Sweden",
          "Switzerland",
          "Syria",
          "Taiwan",
          "Tajikistan",
          "Tanzania",
          "Thailand",
          "Timor-Leste",
          "Togo",
          "Tonga",
          "Trinidad and Tobago",
          "Tunisia",
          "Turkey",
          "Turkmenistan",
          "U.S. Virgin Islands",
          "Uganda",
          "Ukraine",
          "United Arab Emirates",
          "United Kingdom",
          "United States",
          "Uruguay",
          "Uzbekistan",
          "Vanuatu",
          "Venezuela",
          "Vietnam",
          "Western Sahara",
          "Yemen",
          "Zambia",
          "Zimbabwe"
         ],
         "reversescale": false,
         "text": [
          "Afghanistan",
          "Albania",
          "Algeria",
          "Angola",
          "Antigua and Barbuda",
          "Argentina",
          "Armenia",
          "Aruba",
          "Australia",
          "Austria",
          "Azerbaijan",
          "Bahamas",
          "Bahrain",
          "Bangladesh",
          "Barbados",
          "Belarus",
          "Belgium",
          "Belize",
          "Benin",
          "Bhutan",
          "Bolivia",
          "Bosnia and Herzegovina",
          "Botswana",
          "Brazil",
          "Brunei",
          "Bulgaria",
          "Burkina Faso",
          "Burundi",
          "Cabo Verde",
          "Cambodia",
          "Cameroon",
          "Canada",
          "Central African Republic",
          "Chad",
          "Channel Islands",
          "Chile",
          "China",
          "Colombia",
          "Comoros",
          "Congo",
          "Costa Rica",
          "Croatia",
          "Cuba",
          "Curaçao",
          "Cyprus",
          "Czech Republic (Czechia)",
          "Côte d'Ivoire",
          "DR Congo",
          "Denmark",
          "Djibouti",
          "Dominican Republic",
          "Ecuador",
          "Egypt",
          "El Salvador",
          "Equatorial Guinea",
          "Eritrea",
          "Estonia",
          "Eswatini",
          "Ethiopia",
          "Fiji",
          "Finland",
          "France",
          "French Guiana",
          "French Polynesia",
          "Gabon",
          "Gambia",
          "Georgia",
          "Germany",
          "Ghana",
          "Greece",
          "Grenada",
          "Guadeloupe",
          "Guam",
          "Guatemala",
          "Guinea",
          "Guinea-Bissau",
          "Guyana",
          "Haiti",
          "Honduras",
          "Hong Kong",
          "Hungary",
          "Iceland",
          "India",
          "Indonesia",
          "Iran",
          "Iraq",
          "Ireland",
          "Israel",
          "Italy",
          "Jamaica",
          "Japan",
          "Jordan",
          "Kazakhstan",
          "Kenya",
          "Kiribati",
          "Kuwait",
          "Kyrgyzstan",
          "Laos",
          "Latvia",
          "Lebanon",
          "Lesotho",
          "Liberia",
          "Libya",
          "Lithuania",
          "Luxembourg",
          "Macao",
          "Madagascar",
          "Malawi",
          "Malaysia",
          "Maldives",
          "Mali",
          "Malta",
          "Martinique",
          "Mauritania",
          "Mauritius",
          "Mayotte",
          "Mexico",
          "Micronesia",
          "Moldova",
          "Mongolia",
          "Montenegro",
          "Morocco",
          "Mozambique",
          "Myanmar",
          "Namibia",
          "Nepal",
          "Netherlands",
          "New Caledonia",
          "New Zealand",
          "Nicaragua",
          "Niger",
          "Nigeria",
          "North Korea",
          "North Macedonia",
          "Norway",
          "Oman",
          "Pakistan",
          "Panama",
          "Papua New Guinea",
          "Paraguay",
          "Peru",
          "Philippines",
          "Poland",
          "Portugal",
          "Puerto Rico",
          "Qatar",
          "Romania",
          "Russia",
          "Rwanda",
          "Réunion",
          "Saint Lucia",
          "Samoa",
          "Sao Tome & Principe",
          "Saudi Arabia",
          "Senegal",
          "Serbia",
          "Seychelles",
          "Sierra Leone",
          "Singapore",
          "Slovakia",
          "Slovenia",
          "Solomon Islands",
          "Somalia",
          "South Africa",
          "South Korea",
          "South Sudan",
          "Spain",
          "Sri Lanka",
          "St. Vincent & Grenadines",
          "State of Palestine",
          "Sudan",
          "Suriname",
          "Sweden",
          "Switzerland",
          "Syria",
          "Taiwan",
          "Tajikistan",
          "Tanzania",
          "Thailand",
          "Timor-Leste",
          "Togo",
          "Tonga",
          "Trinidad and Tobago",
          "Tunisia",
          "Turkey",
          "Turkmenistan",
          "U.S. Virgin Islands",
          "Uganda",
          "Ukraine",
          "United Arab Emirates",
          "United Kingdom",
          "United States",
          "Uruguay",
          "Uzbekistan",
          "Vanuatu",
          "Venezuela",
          "Vietnam",
          "Western Sahara",
          "Yemen",
          "Zambia",
          "Zimbabwe"
         ],
         "type": "choropleth",
         "z": [
          38928346,
          2877797,
          43851044,
          32866272,
          97929,
          45195774,
          2963243,
          106766,
          25499884,
          9006398,
          10139177,
          393244,
          1701575,
          164689383,
          287375,
          9449323,
          11589623,
          397628,
          12123200,
          771608,
          11673021,
          3280819,
          2351627,
          212559417,
          437479,
          6948445,
          20903273,
          11890784,
          555987,
          16718965,
          26545863,
          37742154,
          4829767,
          16425864,
          173863,
          19116201,
          1439323776,
          50882891,
          869601,
          5518087,
          5094118,
          4105267,
          11326616,
          164093,
          1207359,
          10708981,
          26378274,
          89561403,
          5792202,
          988000,
          10847910,
          17643054,
          102334404,
          6486205,
          1402985,
          3546421,
          1326535,
          1160164,
          114963588,
          896445,
          5540720,
          65273511,
          298682,
          280908,
          2225734,
          2416668,
          3989167,
          83783942,
          31072940,
          10423054,
          112523,
          400124,
          168775,
          17915568,
          13132795,
          1968001,
          786552,
          11402528,
          9904607,
          7496981,
          9660351,
          341243,
          1380004385,
          273523615,
          83992949,
          40222493,
          4937786,
          8655535,
          60461826,
          2961167,
          126476461,
          10203134,
          18776707,
          53771296,
          119449,
          4270571,
          6524195,
          7275560,
          1886198,
          6825445,
          2142249,
          5057681,
          6871292,
          2722289,
          625978,
          649335,
          27691018,
          19129952,
          32365999,
          540544,
          20250833,
          441543,
          375265,
          4649658,
          1271768,
          272815,
          128932753,
          548914,
          4033963,
          3278290,
          628066,
          36910560,
          31255435,
          54409800,
          2540905,
          29136808,
          17134872,
          285498,
          4822233,
          6624554,
          24206644,
          206139589,
          25778816,
          2083374,
          5421241,
          5106626,
          220892340,
          4314767,
          8947024,
          7132538,
          32971854,
          109581078,
          37846611,
          10196709,
          2860853,
          2881053,
          19237691,
          145934462,
          12952218,
          895312,
          183627,
          198414,
          219159,
          34813871,
          16743927,
          8737371,
          98347,
          7976983,
          5850342,
          5459642,
          2078938,
          686884,
          15893222,
          59308690,
          51269185,
          11193725,
          46754778,
          21413249,
          110940,
          5101414,
          43849260,
          586632,
          10099265,
          8654622,
          17500658,
          23816775,
          9537645,
          59734218,
          69799978,
          1318445,
          8278724,
          105695,
          1399488,
          11818619,
          84339067,
          6031200,
          104425,
          45741007,
          43733762,
          9890402,
          67886011,
          331002651,
          3473730,
          33469203,
          307145,
          28435940,
          97338579,
          597339,
          29825964,
          18383955,
          14862924
         ]
        }
       ],
       "layout": {
        "autosize": false,
        "geo": {
         "projection": {
          "type": "van der grinten"
         },
         "showframe": true
        },
        "height": 800,
        "template": {
         "data": {
          "bar": [
           {
            "error_x": {
             "color": "#2a3f5f"
            },
            "error_y": {
             "color": "#2a3f5f"
            },
            "marker": {
             "line": {
              "color": "#E5ECF6",
              "width": 0.5
             },
             "pattern": {
              "fillmode": "overlay",
              "size": 10,
              "solidity": 0.2
             }
            },
            "type": "bar"
           }
          ],
          "barpolar": [
           {
            "marker": {
             "line": {
              "color": "#E5ECF6",
              "width": 0.5
             },
             "pattern": {
              "fillmode": "overlay",
              "size": 10,
              "solidity": 0.2
             }
            },
            "type": "barpolar"
           }
          ],
          "carpet": [
           {
            "aaxis": {
             "endlinecolor": "#2a3f5f",
             "gridcolor": "white",
             "linecolor": "white",
             "minorgridcolor": "white",
             "startlinecolor": "#2a3f5f"
            },
            "baxis": {
             "endlinecolor": "#2a3f5f",
             "gridcolor": "white",
             "linecolor": "white",
             "minorgridcolor": "white",
             "startlinecolor": "#2a3f5f"
            },
            "type": "carpet"
           }
          ],
          "choropleth": [
           {
            "colorbar": {
             "outlinewidth": 0,
             "ticks": ""
            },
            "type": "choropleth"
           }
          ],
          "contour": [
           {
            "colorbar": {
             "outlinewidth": 0,
             "ticks": ""
            },
            "colorscale": [
             [
              0,
              "#0d0887"
             ],
             [
              0.1111111111111111,
              "#46039f"
             ],
             [
              0.2222222222222222,
              "#7201a8"
             ],
             [
              0.3333333333333333,
              "#9c179e"
             ],
             [
              0.4444444444444444,
              "#bd3786"
             ],
             [
              0.5555555555555556,
              "#d8576b"
             ],
             [
              0.6666666666666666,
              "#ed7953"
             ],
             [
              0.7777777777777778,
              "#fb9f3a"
             ],
             [
              0.8888888888888888,
              "#fdca26"
             ],
             [
              1,
              "#f0f921"
             ]
            ],
            "type": "contour"
           }
          ],
          "contourcarpet": [
           {
            "colorbar": {
             "outlinewidth": 0,
             "ticks": ""
            },
            "type": "contourcarpet"
           }
          ],
          "heatmap": [
           {
            "colorbar": {
             "outlinewidth": 0,
             "ticks": ""
            },
            "colorscale": [
             [
              0,
              "#0d0887"
             ],
             [
              0.1111111111111111,
              "#46039f"
             ],
             [
              0.2222222222222222,
              "#7201a8"
             ],
             [
              0.3333333333333333,
              "#9c179e"
             ],
             [
              0.4444444444444444,
              "#bd3786"
             ],
             [
              0.5555555555555556,
              "#d8576b"
             ],
             [
              0.6666666666666666,
              "#ed7953"
             ],
             [
              0.7777777777777778,
              "#fb9f3a"
             ],
             [
              0.8888888888888888,
              "#fdca26"
             ],
             [
              1,
              "#f0f921"
             ]
            ],
            "type": "heatmap"
           }
          ],
          "heatmapgl": [
           {
            "colorbar": {
             "outlinewidth": 0,
             "ticks": ""
            },
            "colorscale": [
             [
              0,
              "#0d0887"
             ],
             [
              0.1111111111111111,
              "#46039f"
             ],
             [
              0.2222222222222222,
              "#7201a8"
             ],
             [
              0.3333333333333333,
              "#9c179e"
             ],
             [
              0.4444444444444444,
              "#bd3786"
             ],
             [
              0.5555555555555556,
              "#d8576b"
             ],
             [
              0.6666666666666666,
              "#ed7953"
             ],
             [
              0.7777777777777778,
              "#fb9f3a"
             ],
             [
              0.8888888888888888,
              "#fdca26"
             ],
             [
              1,
              "#f0f921"
             ]
            ],
            "type": "heatmapgl"
           }
          ],
          "histogram": [
           {
            "marker": {
             "pattern": {
              "fillmode": "overlay",
              "size": 10,
              "solidity": 0.2
             }
            },
            "type": "histogram"
           }
          ],
          "histogram2d": [
           {
            "colorbar": {
             "outlinewidth": 0,
             "ticks": ""
            },
            "colorscale": [
             [
              0,
              "#0d0887"
             ],
             [
              0.1111111111111111,
              "#46039f"
             ],
             [
              0.2222222222222222,
              "#7201a8"
             ],
             [
              0.3333333333333333,
              "#9c179e"
             ],
             [
              0.4444444444444444,
              "#bd3786"
             ],
             [
              0.5555555555555556,
              "#d8576b"
             ],
             [
              0.6666666666666666,
              "#ed7953"
             ],
             [
              0.7777777777777778,
              "#fb9f3a"
             ],
             [
              0.8888888888888888,
              "#fdca26"
             ],
             [
              1,
              "#f0f921"
             ]
            ],
            "type": "histogram2d"
           }
          ],
          "histogram2dcontour": [
           {
            "colorbar": {
             "outlinewidth": 0,
             "ticks": ""
            },
            "colorscale": [
             [
              0,
              "#0d0887"
             ],
             [
              0.1111111111111111,
              "#46039f"
             ],
             [
              0.2222222222222222,
              "#7201a8"
             ],
             [
              0.3333333333333333,
              "#9c179e"
             ],
             [
              0.4444444444444444,
              "#bd3786"
             ],
             [
              0.5555555555555556,
              "#d8576b"
             ],
             [
              0.6666666666666666,
              "#ed7953"
             ],
             [
              0.7777777777777778,
              "#fb9f3a"
             ],
             [
              0.8888888888888888,
              "#fdca26"
             ],
             [
              1,
              "#f0f921"
             ]
            ],
            "type": "histogram2dcontour"
           }
          ],
          "mesh3d": [
           {
            "colorbar": {
             "outlinewidth": 0,
             "ticks": ""
            },
            "type": "mesh3d"
           }
          ],
          "parcoords": [
           {
            "line": {
             "colorbar": {
              "outlinewidth": 0,
              "ticks": ""
             }
            },
            "type": "parcoords"
           }
          ],
          "pie": [
           {
            "automargin": true,
            "type": "pie"
           }
          ],
          "scatter": [
           {
            "marker": {
             "colorbar": {
              "outlinewidth": 0,
              "ticks": ""
             }
            },
            "type": "scatter"
           }
          ],
          "scatter3d": [
           {
            "line": {
             "colorbar": {
              "outlinewidth": 0,
              "ticks": ""
             }
            },
            "marker": {
             "colorbar": {
              "outlinewidth": 0,
              "ticks": ""
             }
            },
            "type": "scatter3d"
           }
          ],
          "scattercarpet": [
           {
            "marker": {
             "colorbar": {
              "outlinewidth": 0,
              "ticks": ""
             }
            },
            "type": "scattercarpet"
           }
          ],
          "scattergeo": [
           {
            "marker": {
             "colorbar": {
              "outlinewidth": 0,
              "ticks": ""
             }
            },
            "type": "scattergeo"
           }
          ],
          "scattergl": [
           {
            "marker": {
             "colorbar": {
              "outlinewidth": 0,
              "ticks": ""
             }
            },
            "type": "scattergl"
           }
          ],
          "scattermapbox": [
           {
            "marker": {
             "colorbar": {
              "outlinewidth": 0,
              "ticks": ""
             }
            },
            "type": "scattermapbox"
           }
          ],
          "scatterpolar": [
           {
            "marker": {
             "colorbar": {
              "outlinewidth": 0,
              "ticks": ""
             }
            },
            "type": "scatterpolar"
           }
          ],
          "scatterpolargl": [
           {
            "marker": {
             "colorbar": {
              "outlinewidth": 0,
              "ticks": ""
             }
            },
            "type": "scatterpolargl"
           }
          ],
          "scatterternary": [
           {
            "marker": {
             "colorbar": {
              "outlinewidth": 0,
              "ticks": ""
             }
            },
            "type": "scatterternary"
           }
          ],
          "surface": [
           {
            "colorbar": {
             "outlinewidth": 0,
             "ticks": ""
            },
            "colorscale": [
             [
              0,
              "#0d0887"
             ],
             [
              0.1111111111111111,
              "#46039f"
             ],
             [
              0.2222222222222222,
              "#7201a8"
             ],
             [
              0.3333333333333333,
              "#9c179e"
             ],
             [
              0.4444444444444444,
              "#bd3786"
             ],
             [
              0.5555555555555556,
              "#d8576b"
             ],
             [
              0.6666666666666666,
              "#ed7953"
             ],
             [
              0.7777777777777778,
              "#fb9f3a"
             ],
             [
              0.8888888888888888,
              "#fdca26"
             ],
             [
              1,
              "#f0f921"
             ]
            ],
            "type": "surface"
           }
          ],
          "table": [
           {
            "cells": {
             "fill": {
              "color": "#EBF0F8"
             },
             "line": {
              "color": "white"
             }
            },
            "header": {
             "fill": {
              "color": "#C8D4E3"
             },
             "line": {
              "color": "white"
             }
            },
            "type": "table"
           }
          ]
         },
         "layout": {
          "annotationdefaults": {
           "arrowcolor": "#2a3f5f",
           "arrowhead": 0,
           "arrowwidth": 1
          },
          "autotypenumbers": "strict",
          "coloraxis": {
           "colorbar": {
            "outlinewidth": 0,
            "ticks": ""
           }
          },
          "colorscale": {
           "diverging": [
            [
             0,
             "#8e0152"
            ],
            [
             0.1,
             "#c51b7d"
            ],
            [
             0.2,
             "#de77ae"
            ],
            [
             0.3,
             "#f1b6da"
            ],
            [
             0.4,
             "#fde0ef"
            ],
            [
             0.5,
             "#f7f7f7"
            ],
            [
             0.6,
             "#e6f5d0"
            ],
            [
             0.7,
             "#b8e186"
            ],
            [
             0.8,
             "#7fbc41"
            ],
            [
             0.9,
             "#4d9221"
            ],
            [
             1,
             "#276419"
            ]
           ],
           "sequential": [
            [
             0,
             "#0d0887"
            ],
            [
             0.1111111111111111,
             "#46039f"
            ],
            [
             0.2222222222222222,
             "#7201a8"
            ],
            [
             0.3333333333333333,
             "#9c179e"
            ],
            [
             0.4444444444444444,
             "#bd3786"
            ],
            [
             0.5555555555555556,
             "#d8576b"
            ],
            [
             0.6666666666666666,
             "#ed7953"
            ],
            [
             0.7777777777777778,
             "#fb9f3a"
            ],
            [
             0.8888888888888888,
             "#fdca26"
            ],
            [
             1,
             "#f0f921"
            ]
           ],
           "sequentialminus": [
            [
             0,
             "#0d0887"
            ],
            [
             0.1111111111111111,
             "#46039f"
            ],
            [
             0.2222222222222222,
             "#7201a8"
            ],
            [
             0.3333333333333333,
             "#9c179e"
            ],
            [
             0.4444444444444444,
             "#bd3786"
            ],
            [
             0.5555555555555556,
             "#d8576b"
            ],
            [
             0.6666666666666666,
             "#ed7953"
            ],
            [
             0.7777777777777778,
             "#fb9f3a"
            ],
            [
             0.8888888888888888,
             "#fdca26"
            ],
            [
             1,
             "#f0f921"
            ]
           ]
          },
          "colorway": [
           "#636efa",
           "#EF553B",
           "#00cc96",
           "#ab63fa",
           "#FFA15A",
           "#19d3f3",
           "#FF6692",
           "#B6E880",
           "#FF97FF",
           "#FECB52"
          ],
          "font": {
           "color": "#2a3f5f"
          },
          "geo": {
           "bgcolor": "white",
           "lakecolor": "white",
           "landcolor": "#E5ECF6",
           "showlakes": true,
           "showland": true,
           "subunitcolor": "white"
          },
          "hoverlabel": {
           "align": "left"
          },
          "hovermode": "closest",
          "mapbox": {
           "style": "light"
          },
          "paper_bgcolor": "white",
          "plot_bgcolor": "#E5ECF6",
          "polar": {
           "angularaxis": {
            "gridcolor": "white",
            "linecolor": "white",
            "ticks": ""
           },
           "bgcolor": "#E5ECF6",
           "radialaxis": {
            "gridcolor": "white",
            "linecolor": "white",
            "ticks": ""
           }
          },
          "scene": {
           "xaxis": {
            "backgroundcolor": "#E5ECF6",
            "gridcolor": "white",
            "gridwidth": 2,
            "linecolor": "white",
            "showbackground": true,
            "ticks": "",
            "zerolinecolor": "white"
           },
           "yaxis": {
            "backgroundcolor": "#E5ECF6",
            "gridcolor": "white",
            "gridwidth": 2,
            "linecolor": "white",
            "showbackground": true,
            "ticks": "",
            "zerolinecolor": "white"
           },
           "zaxis": {
            "backgroundcolor": "#E5ECF6",
            "gridcolor": "white",
            "gridwidth": 2,
            "linecolor": "white",
            "showbackground": true,
            "ticks": "",
            "zerolinecolor": "white"
           }
          },
          "shapedefaults": {
           "line": {
            "color": "#2a3f5f"
           }
          },
          "ternary": {
           "aaxis": {
            "gridcolor": "white",
            "linecolor": "white",
            "ticks": ""
           },
           "baxis": {
            "gridcolor": "white",
            "linecolor": "white",
            "ticks": ""
           },
           "bgcolor": "#E5ECF6",
           "caxis": {
            "gridcolor": "white",
            "linecolor": "white",
            "ticks": ""
           }
          },
          "title": {
           "x": 0.05
          },
          "xaxis": {
           "automargin": true,
           "gridcolor": "white",
           "linecolor": "white",
           "ticks": "",
           "title": {
            "standoff": 15
           },
           "zerolinecolor": "white",
           "zerolinewidth": 2
          },
          "yaxis": {
           "automargin": true,
           "gridcolor": "white",
           "linecolor": "white",
           "ticks": "",
           "title": {
            "standoff": 15
           },
           "zerolinecolor": "white",
           "zerolinewidth": 2
          }
         }
        },
        "title": {
         "text": "World Population 2020"
        },
        "width": 800
       }
      },
      "text/html": [
       "<div>                            <div id=\"c1a6fd1a-b598-4a81-ba92-e3488563813f\" class=\"plotly-graph-div\" style=\"height:800px; width:800px;\"></div>            <script type=\"text/javascript\">                require([\"plotly\"], function(Plotly) {                    window.PLOTLYENV=window.PLOTLYENV || {};                                    if (document.getElementById(\"c1a6fd1a-b598-4a81-ba92-e3488563813f\")) {                    Plotly.newPlot(                        \"c1a6fd1a-b598-4a81-ba92-e3488563813f\",                        [{\"colorbar\":{\"title\":{\"text\":\"Population\"}},\"colorscale\":[[0,\"rgb(225,255,255)\"],[0.01,\"rgb(166,206,227)\"],[0.02,\"rgb(31,125,180)\"],[0.03,\"rgb(178,223,138)\"],[0.1,\"rgb(51,160,44)\"],[0.3,\"rgb(251,144,143)\"],[0.7,\"rgb(255,255,20)\"],[1,\"rgb(210,26,28)\"]],\"locationmode\":\"country names\",\"locations\":[\"Afghanistan\",\"Albania\",\"Algeria\",\"Angola\",\"Antigua and Barbuda\",\"Argentina\",\"Armenia\",\"Aruba\",\"Australia\",\"Austria\",\"Azerbaijan\",\"Bahamas\",\"Bahrain\",\"Bangladesh\",\"Barbados\",\"Belarus\",\"Belgium\",\"Belize\",\"Benin\",\"Bhutan\",\"Bolivia\",\"Bosnia and Herzegovina\",\"Botswana\",\"Brazil\",\"Brunei\",\"Bulgaria\",\"Burkina Faso\",\"Burundi\",\"Cabo Verde\",\"Cambodia\",\"Cameroon\",\"Canada\",\"Central African Republic\",\"Chad\",\"Channel Islands\",\"Chile\",\"China\",\"Colombia\",\"Comoros\",\"Congo\",\"Costa Rica\",\"Croatia\",\"Cuba\",\"Cura\\u00e7ao\",\"Cyprus\",\"Czech Republic (Czechia)\",\"C\\u00f4te d'Ivoire\",\"DR Congo\",\"Denmark\",\"Djibouti\",\"Dominican Republic\",\"Ecuador\",\"Egypt\",\"El Salvador\",\"Equatorial Guinea\",\"Eritrea\",\"Estonia\",\"Eswatini\",\"Ethiopia\",\"Fiji\",\"Finland\",\"France\",\"French Guiana\",\"French Polynesia\",\"Gabon\",\"Gambia\",\"Georgia\",\"Germany\",\"Ghana\",\"Greece\",\"Grenada\",\"Guadeloupe\",\"Guam\",\"Guatemala\",\"Guinea\",\"Guinea-Bissau\",\"Guyana\",\"Haiti\",\"Honduras\",\"Hong Kong\",\"Hungary\",\"Iceland\",\"India\",\"Indonesia\",\"Iran\",\"Iraq\",\"Ireland\",\"Israel\",\"Italy\",\"Jamaica\",\"Japan\",\"Jordan\",\"Kazakhstan\",\"Kenya\",\"Kiribati\",\"Kuwait\",\"Kyrgyzstan\",\"Laos\",\"Latvia\",\"Lebanon\",\"Lesotho\",\"Liberia\",\"Libya\",\"Lithuania\",\"Luxembourg\",\"Macao\",\"Madagascar\",\"Malawi\",\"Malaysia\",\"Maldives\",\"Mali\",\"Malta\",\"Martinique\",\"Mauritania\",\"Mauritius\",\"Mayotte\",\"Mexico\",\"Micronesia\",\"Moldova\",\"Mongolia\",\"Montenegro\",\"Morocco\",\"Mozambique\",\"Myanmar\",\"Namibia\",\"Nepal\",\"Netherlands\",\"New Caledonia\",\"New Zealand\",\"Nicaragua\",\"Niger\",\"Nigeria\",\"North Korea\",\"North Macedonia\",\"Norway\",\"Oman\",\"Pakistan\",\"Panama\",\"Papua New Guinea\",\"Paraguay\",\"Peru\",\"Philippines\",\"Poland\",\"Portugal\",\"Puerto Rico\",\"Qatar\",\"Romania\",\"Russia\",\"Rwanda\",\"R\\u00e9union\",\"Saint Lucia\",\"Samoa\",\"Sao Tome & Principe\",\"Saudi Arabia\",\"Senegal\",\"Serbia\",\"Seychelles\",\"Sierra Leone\",\"Singapore\",\"Slovakia\",\"Slovenia\",\"Solomon Islands\",\"Somalia\",\"South Africa\",\"South Korea\",\"South Sudan\",\"Spain\",\"Sri Lanka\",\"St. Vincent & Grenadines\",\"State of Palestine\",\"Sudan\",\"Suriname\",\"Sweden\",\"Switzerland\",\"Syria\",\"Taiwan\",\"Tajikistan\",\"Tanzania\",\"Thailand\",\"Timor-Leste\",\"Togo\",\"Tonga\",\"Trinidad and Tobago\",\"Tunisia\",\"Turkey\",\"Turkmenistan\",\"U.S. Virgin Islands\",\"Uganda\",\"Ukraine\",\"United Arab Emirates\",\"United Kingdom\",\"United States\",\"Uruguay\",\"Uzbekistan\",\"Vanuatu\",\"Venezuela\",\"Vietnam\",\"Western Sahara\",\"Yemen\",\"Zambia\",\"Zimbabwe\"],\"reversescale\":false,\"text\":[\"Afghanistan\",\"Albania\",\"Algeria\",\"Angola\",\"Antigua and Barbuda\",\"Argentina\",\"Armenia\",\"Aruba\",\"Australia\",\"Austria\",\"Azerbaijan\",\"Bahamas\",\"Bahrain\",\"Bangladesh\",\"Barbados\",\"Belarus\",\"Belgium\",\"Belize\",\"Benin\",\"Bhutan\",\"Bolivia\",\"Bosnia and Herzegovina\",\"Botswana\",\"Brazil\",\"Brunei\",\"Bulgaria\",\"Burkina Faso\",\"Burundi\",\"Cabo Verde\",\"Cambodia\",\"Cameroon\",\"Canada\",\"Central African Republic\",\"Chad\",\"Channel Islands\",\"Chile\",\"China\",\"Colombia\",\"Comoros\",\"Congo\",\"Costa Rica\",\"Croatia\",\"Cuba\",\"Cura\\u00e7ao\",\"Cyprus\",\"Czech Republic (Czechia)\",\"C\\u00f4te d'Ivoire\",\"DR Congo\",\"Denmark\",\"Djibouti\",\"Dominican Republic\",\"Ecuador\",\"Egypt\",\"El Salvador\",\"Equatorial Guinea\",\"Eritrea\",\"Estonia\",\"Eswatini\",\"Ethiopia\",\"Fiji\",\"Finland\",\"France\",\"French Guiana\",\"French Polynesia\",\"Gabon\",\"Gambia\",\"Georgia\",\"Germany\",\"Ghana\",\"Greece\",\"Grenada\",\"Guadeloupe\",\"Guam\",\"Guatemala\",\"Guinea\",\"Guinea-Bissau\",\"Guyana\",\"Haiti\",\"Honduras\",\"Hong Kong\",\"Hungary\",\"Iceland\",\"India\",\"Indonesia\",\"Iran\",\"Iraq\",\"Ireland\",\"Israel\",\"Italy\",\"Jamaica\",\"Japan\",\"Jordan\",\"Kazakhstan\",\"Kenya\",\"Kiribati\",\"Kuwait\",\"Kyrgyzstan\",\"Laos\",\"Latvia\",\"Lebanon\",\"Lesotho\",\"Liberia\",\"Libya\",\"Lithuania\",\"Luxembourg\",\"Macao\",\"Madagascar\",\"Malawi\",\"Malaysia\",\"Maldives\",\"Mali\",\"Malta\",\"Martinique\",\"Mauritania\",\"Mauritius\",\"Mayotte\",\"Mexico\",\"Micronesia\",\"Moldova\",\"Mongolia\",\"Montenegro\",\"Morocco\",\"Mozambique\",\"Myanmar\",\"Namibia\",\"Nepal\",\"Netherlands\",\"New Caledonia\",\"New Zealand\",\"Nicaragua\",\"Niger\",\"Nigeria\",\"North Korea\",\"North Macedonia\",\"Norway\",\"Oman\",\"Pakistan\",\"Panama\",\"Papua New Guinea\",\"Paraguay\",\"Peru\",\"Philippines\",\"Poland\",\"Portugal\",\"Puerto Rico\",\"Qatar\",\"Romania\",\"Russia\",\"Rwanda\",\"R\\u00e9union\",\"Saint Lucia\",\"Samoa\",\"Sao Tome & Principe\",\"Saudi Arabia\",\"Senegal\",\"Serbia\",\"Seychelles\",\"Sierra Leone\",\"Singapore\",\"Slovakia\",\"Slovenia\",\"Solomon Islands\",\"Somalia\",\"South Africa\",\"South Korea\",\"South Sudan\",\"Spain\",\"Sri Lanka\",\"St. Vincent & Grenadines\",\"State of Palestine\",\"Sudan\",\"Suriname\",\"Sweden\",\"Switzerland\",\"Syria\",\"Taiwan\",\"Tajikistan\",\"Tanzania\",\"Thailand\",\"Timor-Leste\",\"Togo\",\"Tonga\",\"Trinidad and Tobago\",\"Tunisia\",\"Turkey\",\"Turkmenistan\",\"U.S. Virgin Islands\",\"Uganda\",\"Ukraine\",\"United Arab Emirates\",\"United Kingdom\",\"United States\",\"Uruguay\",\"Uzbekistan\",\"Vanuatu\",\"Venezuela\",\"Vietnam\",\"Western Sahara\",\"Yemen\",\"Zambia\",\"Zimbabwe\"],\"z\":[38928346,2877797,43851044,32866272,97929,45195774,2963243,106766,25499884,9006398,10139177,393244,1701575,164689383,287375,9449323,11589623,397628,12123200,771608,11673021,3280819,2351627,212559417,437479,6948445,20903273,11890784,555987,16718965,26545863,37742154,4829767,16425864,173863,19116201,1439323776,50882891,869601,5518087,5094118,4105267,11326616,164093,1207359,10708981,26378274,89561403,5792202,988000,10847910,17643054,102334404,6486205,1402985,3546421,1326535,1160164,114963588,896445,5540720,65273511,298682,280908,2225734,2416668,3989167,83783942,31072940,10423054,112523,400124,168775,17915568,13132795,1968001,786552,11402528,9904607,7496981,9660351,341243,1380004385,273523615,83992949,40222493,4937786,8655535,60461826,2961167,126476461,10203134,18776707,53771296,119449,4270571,6524195,7275560,1886198,6825445,2142249,5057681,6871292,2722289,625978,649335,27691018,19129952,32365999,540544,20250833,441543,375265,4649658,1271768,272815,128932753,548914,4033963,3278290,628066,36910560,31255435,54409800,2540905,29136808,17134872,285498,4822233,6624554,24206644,206139589,25778816,2083374,5421241,5106626,220892340,4314767,8947024,7132538,32971854,109581078,37846611,10196709,2860853,2881053,19237691,145934462,12952218,895312,183627,198414,219159,34813871,16743927,8737371,98347,7976983,5850342,5459642,2078938,686884,15893222,59308690,51269185,11193725,46754778,21413249,110940,5101414,43849260,586632,10099265,8654622,17500658,23816775,9537645,59734218,69799978,1318445,8278724,105695,1399488,11818619,84339067,6031200,104425,45741007,43733762,9890402,67886011,331002651,3473730,33469203,307145,28435940,97338579,597339,29825964,18383955,14862924],\"type\":\"choropleth\"}],                        {\"autosize\":false,\"geo\":{\"projection\":{\"type\":\"van der grinten\"},\"showframe\":true},\"height\":800,\"title\":{\"text\":\"World Population 2020\"},\"width\":800,\"template\":{\"data\":{\"bar\":[{\"error_x\":{\"color\":\"#2a3f5f\"},\"error_y\":{\"color\":\"#2a3f5f\"},\"marker\":{\"line\":{\"color\":\"#E5ECF6\",\"width\":0.5},\"pattern\":{\"fillmode\":\"overlay\",\"size\":10,\"solidity\":0.2}},\"type\":\"bar\"}],\"barpolar\":[{\"marker\":{\"line\":{\"color\":\"#E5ECF6\",\"width\":0.5},\"pattern\":{\"fillmode\":\"overlay\",\"size\":10,\"solidity\":0.2}},\"type\":\"barpolar\"}],\"carpet\":[{\"aaxis\":{\"endlinecolor\":\"#2a3f5f\",\"gridcolor\":\"white\",\"linecolor\":\"white\",\"minorgridcolor\":\"white\",\"startlinecolor\":\"#2a3f5f\"},\"baxis\":{\"endlinecolor\":\"#2a3f5f\",\"gridcolor\":\"white\",\"linecolor\":\"white\",\"minorgridcolor\":\"white\",\"startlinecolor\":\"#2a3f5f\"},\"type\":\"carpet\"}],\"choropleth\":[{\"colorbar\":{\"outlinewidth\":0,\"ticks\":\"\"},\"type\":\"choropleth\"}],\"contour\":[{\"colorbar\":{\"outlinewidth\":0,\"ticks\":\"\"},\"colorscale\":[[0.0,\"#0d0887\"],[0.1111111111111111,\"#46039f\"],[0.2222222222222222,\"#7201a8\"],[0.3333333333333333,\"#9c179e\"],[0.4444444444444444,\"#bd3786\"],[0.5555555555555556,\"#d8576b\"],[0.6666666666666666,\"#ed7953\"],[0.7777777777777778,\"#fb9f3a\"],[0.8888888888888888,\"#fdca26\"],[1.0,\"#f0f921\"]],\"type\":\"contour\"}],\"contourcarpet\":[{\"colorbar\":{\"outlinewidth\":0,\"ticks\":\"\"},\"type\":\"contourcarpet\"}],\"heatmap\":[{\"colorbar\":{\"outlinewidth\":0,\"ticks\":\"\"},\"colorscale\":[[0.0,\"#0d0887\"],[0.1111111111111111,\"#46039f\"],[0.2222222222222222,\"#7201a8\"],[0.3333333333333333,\"#9c179e\"],[0.4444444444444444,\"#bd3786\"],[0.5555555555555556,\"#d8576b\"],[0.6666666666666666,\"#ed7953\"],[0.7777777777777778,\"#fb9f3a\"],[0.8888888888888888,\"#fdca26\"],[1.0,\"#f0f921\"]],\"type\":\"heatmap\"}],\"heatmapgl\":[{\"colorbar\":{\"outlinewidth\":0,\"ticks\":\"\"},\"colorscale\":[[0.0,\"#0d0887\"],[0.1111111111111111,\"#46039f\"],[0.2222222222222222,\"#7201a8\"],[0.3333333333333333,\"#9c179e\"],[0.4444444444444444,\"#bd3786\"],[0.5555555555555556,\"#d8576b\"],[0.6666666666666666,\"#ed7953\"],[0.7777777777777778,\"#fb9f3a\"],[0.8888888888888888,\"#fdca26\"],[1.0,\"#f0f921\"]],\"type\":\"heatmapgl\"}],\"histogram\":[{\"marker\":{\"pattern\":{\"fillmode\":\"overlay\",\"size\":10,\"solidity\":0.2}},\"type\":\"histogram\"}],\"histogram2d\":[{\"colorbar\":{\"outlinewidth\":0,\"ticks\":\"\"},\"colorscale\":[[0.0,\"#0d0887\"],[0.1111111111111111,\"#46039f\"],[0.2222222222222222,\"#7201a8\"],[0.3333333333333333,\"#9c179e\"],[0.4444444444444444,\"#bd3786\"],[0.5555555555555556,\"#d8576b\"],[0.6666666666666666,\"#ed7953\"],[0.7777777777777778,\"#fb9f3a\"],[0.8888888888888888,\"#fdca26\"],[1.0,\"#f0f921\"]],\"type\":\"histogram2d\"}],\"histogram2dcontour\":[{\"colorbar\":{\"outlinewidth\":0,\"ticks\":\"\"},\"colorscale\":[[0.0,\"#0d0887\"],[0.1111111111111111,\"#46039f\"],[0.2222222222222222,\"#7201a8\"],[0.3333333333333333,\"#9c179e\"],[0.4444444444444444,\"#bd3786\"],[0.5555555555555556,\"#d8576b\"],[0.6666666666666666,\"#ed7953\"],[0.7777777777777778,\"#fb9f3a\"],[0.8888888888888888,\"#fdca26\"],[1.0,\"#f0f921\"]],\"type\":\"histogram2dcontour\"}],\"mesh3d\":[{\"colorbar\":{\"outlinewidth\":0,\"ticks\":\"\"},\"type\":\"mesh3d\"}],\"parcoords\":[{\"line\":{\"colorbar\":{\"outlinewidth\":0,\"ticks\":\"\"}},\"type\":\"parcoords\"}],\"pie\":[{\"automargin\":true,\"type\":\"pie\"}],\"scatter\":[{\"marker\":{\"colorbar\":{\"outlinewidth\":0,\"ticks\":\"\"}},\"type\":\"scatter\"}],\"scatter3d\":[{\"line\":{\"colorbar\":{\"outlinewidth\":0,\"ticks\":\"\"}},\"marker\":{\"colorbar\":{\"outlinewidth\":0,\"ticks\":\"\"}},\"type\":\"scatter3d\"}],\"scattercarpet\":[{\"marker\":{\"colorbar\":{\"outlinewidth\":0,\"ticks\":\"\"}},\"type\":\"scattercarpet\"}],\"scattergeo\":[{\"marker\":{\"colorbar\":{\"outlinewidth\":0,\"ticks\":\"\"}},\"type\":\"scattergeo\"}],\"scattergl\":[{\"marker\":{\"colorbar\":{\"outlinewidth\":0,\"ticks\":\"\"}},\"type\":\"scattergl\"}],\"scattermapbox\":[{\"marker\":{\"colorbar\":{\"outlinewidth\":0,\"ticks\":\"\"}},\"type\":\"scattermapbox\"}],\"scatterpolar\":[{\"marker\":{\"colorbar\":{\"outlinewidth\":0,\"ticks\":\"\"}},\"type\":\"scatterpolar\"}],\"scatterpolargl\":[{\"marker\":{\"colorbar\":{\"outlinewidth\":0,\"ticks\":\"\"}},\"type\":\"scatterpolargl\"}],\"scatterternary\":[{\"marker\":{\"colorbar\":{\"outlinewidth\":0,\"ticks\":\"\"}},\"type\":\"scatterternary\"}],\"surface\":[{\"colorbar\":{\"outlinewidth\":0,\"ticks\":\"\"},\"colorscale\":[[0.0,\"#0d0887\"],[0.1111111111111111,\"#46039f\"],[0.2222222222222222,\"#7201a8\"],[0.3333333333333333,\"#9c179e\"],[0.4444444444444444,\"#bd3786\"],[0.5555555555555556,\"#d8576b\"],[0.6666666666666666,\"#ed7953\"],[0.7777777777777778,\"#fb9f3a\"],[0.8888888888888888,\"#fdca26\"],[1.0,\"#f0f921\"]],\"type\":\"surface\"}],\"table\":[{\"cells\":{\"fill\":{\"color\":\"#EBF0F8\"},\"line\":{\"color\":\"white\"}},\"header\":{\"fill\":{\"color\":\"#C8D4E3\"},\"line\":{\"color\":\"white\"}},\"type\":\"table\"}]},\"layout\":{\"annotationdefaults\":{\"arrowcolor\":\"#2a3f5f\",\"arrowhead\":0,\"arrowwidth\":1},\"autotypenumbers\":\"strict\",\"coloraxis\":{\"colorbar\":{\"outlinewidth\":0,\"ticks\":\"\"}},\"colorscale\":{\"diverging\":[[0,\"#8e0152\"],[0.1,\"#c51b7d\"],[0.2,\"#de77ae\"],[0.3,\"#f1b6da\"],[0.4,\"#fde0ef\"],[0.5,\"#f7f7f7\"],[0.6,\"#e6f5d0\"],[0.7,\"#b8e186\"],[0.8,\"#7fbc41\"],[0.9,\"#4d9221\"],[1,\"#276419\"]],\"sequential\":[[0.0,\"#0d0887\"],[0.1111111111111111,\"#46039f\"],[0.2222222222222222,\"#7201a8\"],[0.3333333333333333,\"#9c179e\"],[0.4444444444444444,\"#bd3786\"],[0.5555555555555556,\"#d8576b\"],[0.6666666666666666,\"#ed7953\"],[0.7777777777777778,\"#fb9f3a\"],[0.8888888888888888,\"#fdca26\"],[1.0,\"#f0f921\"]],\"sequentialminus\":[[0.0,\"#0d0887\"],[0.1111111111111111,\"#46039f\"],[0.2222222222222222,\"#7201a8\"],[0.3333333333333333,\"#9c179e\"],[0.4444444444444444,\"#bd3786\"],[0.5555555555555556,\"#d8576b\"],[0.6666666666666666,\"#ed7953\"],[0.7777777777777778,\"#fb9f3a\"],[0.8888888888888888,\"#fdca26\"],[1.0,\"#f0f921\"]]},\"colorway\":[\"#636efa\",\"#EF553B\",\"#00cc96\",\"#ab63fa\",\"#FFA15A\",\"#19d3f3\",\"#FF6692\",\"#B6E880\",\"#FF97FF\",\"#FECB52\"],\"font\":{\"color\":\"#2a3f5f\"},\"geo\":{\"bgcolor\":\"white\",\"lakecolor\":\"white\",\"landcolor\":\"#E5ECF6\",\"showlakes\":true,\"showland\":true,\"subunitcolor\":\"white\"},\"hoverlabel\":{\"align\":\"left\"},\"hovermode\":\"closest\",\"mapbox\":{\"style\":\"light\"},\"paper_bgcolor\":\"white\",\"plot_bgcolor\":\"#E5ECF6\",\"polar\":{\"angularaxis\":{\"gridcolor\":\"white\",\"linecolor\":\"white\",\"ticks\":\"\"},\"bgcolor\":\"#E5ECF6\",\"radialaxis\":{\"gridcolor\":\"white\",\"linecolor\":\"white\",\"ticks\":\"\"}},\"scene\":{\"xaxis\":{\"backgroundcolor\":\"#E5ECF6\",\"gridcolor\":\"white\",\"gridwidth\":2,\"linecolor\":\"white\",\"showbackground\":true,\"ticks\":\"\",\"zerolinecolor\":\"white\"},\"yaxis\":{\"backgroundcolor\":\"#E5ECF6\",\"gridcolor\":\"white\",\"gridwidth\":2,\"linecolor\":\"white\",\"showbackground\":true,\"ticks\":\"\",\"zerolinecolor\":\"white\"},\"zaxis\":{\"backgroundcolor\":\"#E5ECF6\",\"gridcolor\":\"white\",\"gridwidth\":2,\"linecolor\":\"white\",\"showbackground\":true,\"ticks\":\"\",\"zerolinecolor\":\"white\"}},\"shapedefaults\":{\"line\":{\"color\":\"#2a3f5f\"}},\"ternary\":{\"aaxis\":{\"gridcolor\":\"white\",\"linecolor\":\"white\",\"ticks\":\"\"},\"baxis\":{\"gridcolor\":\"white\",\"linecolor\":\"white\",\"ticks\":\"\"},\"bgcolor\":\"#E5ECF6\",\"caxis\":{\"gridcolor\":\"white\",\"linecolor\":\"white\",\"ticks\":\"\"}},\"title\":{\"x\":0.05},\"xaxis\":{\"automargin\":true,\"gridcolor\":\"white\",\"linecolor\":\"white\",\"ticks\":\"\",\"title\":{\"standoff\":15},\"zerolinecolor\":\"white\",\"zerolinewidth\":2},\"yaxis\":{\"automargin\":true,\"gridcolor\":\"white\",\"linecolor\":\"white\",\"ticks\":\"\",\"title\":{\"standoff\":15},\"zerolinecolor\":\"white\",\"zerolinewidth\":2}}}},                        {\"responsive\": true}                    ).then(function(){\n",
       "                            \n",
       "var gd = document.getElementById('c1a6fd1a-b598-4a81-ba92-e3488563813f');\n",
       "var x = new MutationObserver(function (mutations, observer) {{\n",
       "        var display = window.getComputedStyle(gd).display;\n",
       "        if (!display || display === 'none') {{\n",
       "            console.log([gd, 'removed!']);\n",
       "            Plotly.purge(gd);\n",
       "            observer.disconnect();\n",
       "        }}\n",
       "}});\n",
       "\n",
       "// Listen for the removal of the full notebook cells\n",
       "var notebookContainer = gd.closest('#notebook-container');\n",
       "if (notebookContainer) {{\n",
       "    x.observe(notebookContainer, {childList: true});\n",
       "}}\n",
       "\n",
       "// Listen for the clearing of the current output cell\n",
       "var outputEl = gd.closest('.output');\n",
       "if (outputEl) {{\n",
       "    x.observe(outputEl, {childList: true});\n",
       "}}\n",
       "\n",
       "                        })                };                });            </script>        </div>"
      ]
     },
     "metadata": {},
     "output_type": "display_data"
    }
   ],
   "source": [
    "choromap = go.Figure(data = [data], layout = layout)\n",
    "iplot(choromap, validate = False)"
   ]
  },
  {
   "cell_type": "markdown",
   "id": "19e25d50",
   "metadata": {},
   "source": [
    "### Data Visualization"
   ]
  },
  {
   "cell_type": "markdown",
   "id": "07dfe655",
   "metadata": {},
   "source": [
    "##### Mối liên hệ giữa dân số và diện tích các nước "
   ]
  },
  {
   "cell_type": "code",
   "execution_count": 20,
   "id": "8e1df3cd",
   "metadata": {},
   "outputs": [
    {
     "data": {
      "image/png": "[encoded data removed]",
      "text/plain": [
       "<Figure size 432x288 with 1 Axes>"
      ]
     },
     "metadata": {
      "needs_background": "light"
     },
     "output_type": "display_data"
    }
   ],
   "source": [
    "colors = np.random.rand(201)\n",
    "sizes = 100 * np.random.rand(201)\n",
    "\n",
    "plt.scatter(x = new_df[\"Population (2020)\"], y = new_df[\"Land Area (Km²)\"], s = sizes, c = colors, alpha = 0.5)\n",
    "plt.title(\"Mối liên hệ giữa dân số và diện tích các nước\", fontsize = 12)\n",
    "plt.xlabel(\"Dân số\", fontsize = 14)\n",
    "plt.ylabel(\"Diện tích\", fontsize = 14)\n",
    "plt.show()"
   ]
  },
  {
   "cell_type": "markdown",
   "id": "547596de",
   "metadata": {},
   "source": [
    "- Nhận xét: Đa số tại các nước thì dân số và diện tích có mối liên hệ tỷ lệ với nhau. Tuy nhiên, điều này không đúng ở một vài nước (Thí dụ có nước dân số không quá cao (khoảng 200,000,000 người nhưng diện tích lại lớn nhất). Trong khi Trung Quốc và Ấn Độ không phải những nước có diện tích lớn nhất nhưng dân số lại vượt trội so với phần còn lại."
   ]
  },
  {
   "cell_type": "markdown",
   "id": "d5396d8b",
   "metadata": {},
   "source": [
    "##### Phân bố tần suất độ tuổi trung vị tại các nước"
   ]
  },
  {
   "cell_type": "markdown",
   "id": "e66221ef",
   "metadata": {},
   "source": [
    "- Số trung vị là số ở giữa chia tập hợp thành hai phần bằng nhau về số lượng."
   ]
  },
  {
   "cell_type": "code",
   "execution_count": 21,
   "id": "db97db94",
   "metadata": {},
   "outputs": [
    {
     "data": {
      "image/png": "[encoded data removed]",
      "text/plain": [
       "<Figure size 432x288 with 1 Axes>"
      ]
     },
     "metadata": {
      "needs_background": "light"
     },
     "output_type": "display_data"
    }
   ],
   "source": [
    "plt.hist(new_df[\"Med. Age\"], bins = 35, color = \"salmon\")\n",
    "plt.title(\"Phân bố tần suất độ tuổi trung vị tại các nước\", fontsize = 16)\n",
    "plt.show()"
   ]
  },
  {
   "cell_type": "markdown",
   "id": "36bf49d8",
   "metadata": {},
   "source": [
    "- Đa số các nước đều có độ tuổi trung vị nằm trong độ tuổi lao động, nên có thể dự đoán tỷ lệ già trẻ là không quá chênh lệch. Đặc biệt có 1 nước có độ tuổi trung vị là 16. chứng tỏ đất nước đó có dân số trẻ với số trẻ đi học khá lớn."
   ]
  },
  {
   "cell_type": "code",
   "execution_count": 22,
   "id": "3e4114f3",
   "metadata": {},
   "outputs": [
    {
     "data": {
      "text/html": [
       "<div>\n",
       "<style scoped>\n",
       "    .dataframe tbody tr th:only-of-type {\n",
       "        vertical-align: middle;\n",
       "    }\n",
       "\n",
       "    .dataframe tbody tr th {\n",
       "        vertical-align: top;\n",
       "    }\n",
       "\n",
       "    .dataframe thead th {\n",
       "        text-align: right;\n",
       "    }\n",
       "</style>\n",
       "<table border=\"1\" class=\"dataframe\">\n",
       "  <thead>\n",
       "    <tr style=\"text-align: right;\">\n",
       "      <th></th>\n",
       "      <th>Country/Other</th>\n",
       "      <th>Population (2020)</th>\n",
       "      <th>Yearly Change</th>\n",
       "      <th>Net Change</th>\n",
       "      <th>Density (P/Km²)</th>\n",
       "      <th>Land Area (Km²)</th>\n",
       "      <th>Migrants (net)</th>\n",
       "      <th>Fert. Rate</th>\n",
       "      <th>Med. Age</th>\n",
       "      <th>Urban Pop %</th>\n",
       "      <th>World Share</th>\n",
       "    </tr>\n",
       "  </thead>\n",
       "  <tbody>\n",
       "    <tr>\n",
       "      <th>83</th>\n",
       "      <td>Indonesia</td>\n",
       "      <td>273523615</td>\n",
       "      <td>1.07</td>\n",
       "      <td>2898047</td>\n",
       "      <td>151</td>\n",
       "      <td>1811570</td>\n",
       "      <td>-98955</td>\n",
       "      <td>2.3</td>\n",
       "      <td>30</td>\n",
       "      <td>56.0</td>\n",
       "      <td>3.51</td>\n",
       "    </tr>\n",
       "    <tr>\n",
       "      <th>108</th>\n",
       "      <td>Malaysia</td>\n",
       "      <td>32365999</td>\n",
       "      <td>1.30</td>\n",
       "      <td>416222</td>\n",
       "      <td>99</td>\n",
       "      <td>328550</td>\n",
       "      <td>50000</td>\n",
       "      <td>2.0</td>\n",
       "      <td>30</td>\n",
       "      <td>78.0</td>\n",
       "      <td>0.42</td>\n",
       "    </tr>\n",
       "    <tr>\n",
       "      <th>158</th>\n",
       "      <td>Singapore</td>\n",
       "      <td>5850342</td>\n",
       "      <td>0.79</td>\n",
       "      <td>46005</td>\n",
       "      <td>8358</td>\n",
       "      <td>700</td>\n",
       "      <td>27028</td>\n",
       "      <td>1.2</td>\n",
       "      <td>42</td>\n",
       "      <td>NaN</td>\n",
       "      <td>0.08</td>\n",
       "    </tr>\n",
       "    <tr>\n",
       "      <th>178</th>\n",
       "      <td>Thailand</td>\n",
       "      <td>69799978</td>\n",
       "      <td>0.25</td>\n",
       "      <td>174396</td>\n",
       "      <td>137</td>\n",
       "      <td>510890</td>\n",
       "      <td>19444</td>\n",
       "      <td>1.5</td>\n",
       "      <td>40</td>\n",
       "      <td>51.0</td>\n",
       "      <td>0.90</td>\n",
       "    </tr>\n",
       "    <tr>\n",
       "      <th>196</th>\n",
       "      <td>Vietnam</td>\n",
       "      <td>97338579</td>\n",
       "      <td>0.91</td>\n",
       "      <td>876473</td>\n",
       "      <td>314</td>\n",
       "      <td>310070</td>\n",
       "      <td>-80000</td>\n",
       "      <td>2.1</td>\n",
       "      <td>32</td>\n",
       "      <td>38.0</td>\n",
       "      <td>1.25</td>\n",
       "    </tr>\n",
       "  </tbody>\n",
       "</table>\n",
       "</div>"
      ],
      "text/plain": [
       "    Country/Other  Population (2020)  Yearly Change  Net Change  \\\n",
       "83      Indonesia          273523615           1.07     2898047   \n",
       "108      Malaysia           32365999           1.30      416222   \n",
       "158     Singapore            5850342           0.79       46005   \n",
       "178      Thailand           69799978           0.25      174396   \n",
       "196       Vietnam           97338579           0.91      876473   \n",
       "\n",
       "     Density (P/Km²)  Land Area (Km²)  Migrants (net)  Fert. Rate  Med. Age  \\\n",
       "83               151          1811570          -98955         2.3        30   \n",
       "108               99           328550           50000         2.0        30   \n",
       "158             8358              700           27028         1.2        42   \n",
       "178              137           510890           19444         1.5        40   \n",
       "196              314           310070          -80000         2.1        32   \n",
       "\n",
       "     Urban Pop %  World Share  \n",
       "83          56.0         3.51  \n",
       "108         78.0         0.42  \n",
       "158          NaN         0.08  \n",
       "178         51.0         0.90  \n",
       "196         38.0         1.25  "
      ]
     },
     "execution_count": 22,
     "metadata": {},
     "output_type": "execute_result"
    }
   ],
   "source": [
    "df_4 = df.loc[(df[\"Country/Other\"] == \"Vietnam\") | (df[\"Country/Other\"] == \"Thailand\") | (df[\"Country/Other\"] == \"Indonesia\") | (df[\"Country/Other\"] == \"Malaysia\") | (df[\"Country/Other\"] == \"Singapore\")]\n",
    "df_4"
   ]
  },
  {
   "cell_type": "code",
   "execution_count": 24,
   "id": "0a705811",
   "metadata": {},
   "outputs": [
    {
     "name": "stderr",
     "output_type": "stream",
     "text": [
      "C:\\Users\\HP\\AppData\\Local\\Temp/ipykernel_8632/4049210090.py:7: UserWarning:\n",
      "\n",
      "FixedFormatter should only be used together with FixedLocator\n",
      "\n",
      "C:\\Users\\HP\\AppData\\Local\\Temp/ipykernel_8632/4049210090.py:13: UserWarning:\n",
      "\n",
      "FixedFormatter should only be used together with FixedLocator\n",
      "\n",
      "C:\\Users\\HP\\AppData\\Local\\Temp/ipykernel_8632/4049210090.py:20: UserWarning:\n",
      "\n",
      "FixedFormatter should only be used together with FixedLocator\n",
      "\n",
      "C:\\Users\\HP\\AppData\\Local\\Temp/ipykernel_8632/4049210090.py:27: UserWarning:\n",
      "\n",
      "FixedFormatter should only be used together with FixedLocator\n",
      "\n"
     ]
    },
    {
     "data": {
      "image/png": "[encoded data removed]",
      "text/plain": [
       "<Figure size 432x288 with 4 Axes>"
      ]
     },
     "metadata": {
      "needs_background": "light"
     },
     "output_type": "display_data"
    }
   ],
   "source": [
    "fig, ax = plt.subplots(2, 2)\n",
    "\n",
    "ax[0][0].bar(df_4[\"Country/Other\"], df_4[\"Population (2020)\"], color = \"gold\")\n",
    "ax[0][0].set_title(\"So sánh dân số 5 nước\", fontsize = 10)\n",
    "ax[0][0].set_xlabel(\"Tên nước\")\n",
    "ax[0][0].set_ylabel(\"Dân số\")\n",
    "ax[0][0].set_xticklabels(df_4[\"Country/Other\"], rotation = 30)\n",
    "\n",
    "ax[0][1].bar(df_4[\"Country/Other\"], df_4[\"Land Area (Km²)\"], color = \"blue\")\n",
    "ax[0][1].set_title(\"So sánh diện tích 5 nước\", fontsize = 10)\n",
    "ax[0][1].set_xlabel(\"Tên nước\")\n",
    "ax[0][1].set_ylabel(\"Dân số\")\n",
    "ax[0][1].set_xticklabels(df_4[\"Country/Other\"], rotation = 30)\n",
    "\n",
    "\n",
    "ax[1][0].bar(df_4[\"Country/Other\"], df_4[\"Density (P/Km²)\"], color = \"magenta\")\n",
    "ax[1][0].set_title(\"So sánh mật độ dân số 5 nước\", fontsize = 11)\n",
    "ax[1][0].set_xlabel(\"Tên nước\")\n",
    "ax[1][0].set_ylabel(\"Dân số\")\n",
    "ax[1][0].set_xticklabels(df_4[\"Country/Other\"], rotation = 30)\n",
    "\n",
    "\n",
    "ax[1][1].bar(df_4[\"Country/Other\"], df_4[\"Urban Pop %\"], color = \"pink\")\n",
    "ax[1][1].set_title(\"So sánh tỷ lệ dân thành thị tại 5 nước\", fontsize = 11)\n",
    "ax[1][1].set_xlabel(\"Tên nước\")\n",
    "ax[1][1].set_ylabel(\"Dân số\")\n",
    "ax[1][1].set_xticklabels(df_4[\"Country/Other\"], rotation = 30)\n",
    "\n",
    "\n",
    "plt.tight_layout()\n",
    "plt.show()"
   ]
  },
  {
   "cell_type": "markdown",
   "id": "3244c21e",
   "metadata": {},
   "source": [
    "##### Nhận xét: Trong 5 nước được khảo sát:\n",
    "- Indonesia là nước có dân số đông nhất (trên 200,000,000 người) và diện tích lớn nhất, Singapore là nước có dân số thấp nhất và diện tích cũng nhỏ nhất.\n",
    "- Singapore có mật độ dân số thưa, khác hẳn với 4 nước còn lại có mật độ dân số dày đặc.\n",
    "- Tỷ lệ dân thành thị ở các nước khá cao (đặc biệt là Malaysia). Vietnam là nước có tỷ lệ dân ở nông thôn cao hơn ở thành thị. Riêng với Singapore lại không có dữ liệu về dân số thành thị."
   ]
  },
  {
   "cell_type": "code",
   "execution_count": 62,
   "id": "2227d918",
   "metadata": {},
   "outputs": [
    {
     "data": {
      "text/html": [
       "<div>\n",
       "<style scoped>\n",
       "    .dataframe tbody tr th:only-of-type {\n",
       "        vertical-align: middle;\n",
       "    }\n",
       "\n",
       "    .dataframe tbody tr th {\n",
       "        vertical-align: top;\n",
       "    }\n",
       "\n",
       "    .dataframe thead th {\n",
       "        text-align: right;\n",
       "    }\n",
       "</style>\n",
       "<table border=\"1\" class=\"dataframe\">\n",
       "  <thead>\n",
       "    <tr style=\"text-align: right;\">\n",
       "      <th></th>\n",
       "      <th>Country/Other</th>\n",
       "      <th>Population (2020)</th>\n",
       "      <th>Yearly Change</th>\n",
       "      <th>Net Change</th>\n",
       "      <th>Density (P/Km²)</th>\n",
       "      <th>Land Area (Km²)</th>\n",
       "      <th>Migrants (net)</th>\n",
       "      <th>Fert. Rate</th>\n",
       "      <th>Med. Age</th>\n",
       "      <th>Urban Pop %</th>\n",
       "      <th>World Share</th>\n",
       "    </tr>\n",
       "  </thead>\n",
       "  <tbody>\n",
       "    <tr>\n",
       "      <th>1</th>\n",
       "      <td>Albania</td>\n",
       "      <td>2877797</td>\n",
       "      <td>-0.11</td>\n",
       "      <td>-3120</td>\n",
       "      <td>105</td>\n",
       "      <td>27400</td>\n",
       "      <td>-14000</td>\n",
       "      <td>1.6</td>\n",
       "      <td>36</td>\n",
       "      <td>63.000000</td>\n",
       "      <td>0.04</td>\n",
       "    </tr>\n",
       "    <tr>\n",
       "      <th>15</th>\n",
       "      <td>Belarus</td>\n",
       "      <td>9449323</td>\n",
       "      <td>-0.03</td>\n",
       "      <td>-3088</td>\n",
       "      <td>47</td>\n",
       "      <td>202910</td>\n",
       "      <td>8730</td>\n",
       "      <td>1.7</td>\n",
       "      <td>40</td>\n",
       "      <td>79.000000</td>\n",
       "      <td>0.12</td>\n",
       "    </tr>\n",
       "    <tr>\n",
       "      <th>21</th>\n",
       "      <td>Bosnia and Herzegovina</td>\n",
       "      <td>3280819</td>\n",
       "      <td>-0.61</td>\n",
       "      <td>-20181</td>\n",
       "      <td>64</td>\n",
       "      <td>51000</td>\n",
       "      <td>-21585</td>\n",
       "      <td>1.3</td>\n",
       "      <td>43</td>\n",
       "      <td>52.000000</td>\n",
       "      <td>0.04</td>\n",
       "    </tr>\n",
       "    <tr>\n",
       "      <th>25</th>\n",
       "      <td>Bulgaria</td>\n",
       "      <td>6948445</td>\n",
       "      <td>-0.74</td>\n",
       "      <td>-51674</td>\n",
       "      <td>64</td>\n",
       "      <td>108560</td>\n",
       "      <td>-4800</td>\n",
       "      <td>1.6</td>\n",
       "      <td>45</td>\n",
       "      <td>76.000000</td>\n",
       "      <td>0.09</td>\n",
       "    </tr>\n",
       "    <tr>\n",
       "      <th>41</th>\n",
       "      <td>Croatia</td>\n",
       "      <td>4105267</td>\n",
       "      <td>-0.61</td>\n",
       "      <td>-25037</td>\n",
       "      <td>73</td>\n",
       "      <td>55960</td>\n",
       "      <td>-8001</td>\n",
       "      <td>1.4</td>\n",
       "      <td>44</td>\n",
       "      <td>58.000000</td>\n",
       "      <td>0.05</td>\n",
       "    </tr>\n",
       "    <tr>\n",
       "      <th>42</th>\n",
       "      <td>Cuba</td>\n",
       "      <td>11326616</td>\n",
       "      <td>-0.06</td>\n",
       "      <td>-6867</td>\n",
       "      <td>106</td>\n",
       "      <td>106440</td>\n",
       "      <td>-14400</td>\n",
       "      <td>1.6</td>\n",
       "      <td>42</td>\n",
       "      <td>78.000000</td>\n",
       "      <td>0.15</td>\n",
       "    </tr>\n",
       "    <tr>\n",
       "      <th>66</th>\n",
       "      <td>Georgia</td>\n",
       "      <td>3989167</td>\n",
       "      <td>-0.19</td>\n",
       "      <td>-7598</td>\n",
       "      <td>57</td>\n",
       "      <td>69490</td>\n",
       "      <td>-10000</td>\n",
       "      <td>2.1</td>\n",
       "      <td>38</td>\n",
       "      <td>58.000000</td>\n",
       "      <td>0.05</td>\n",
       "    </tr>\n",
       "    <tr>\n",
       "      <th>69</th>\n",
       "      <td>Greece</td>\n",
       "      <td>10423054</td>\n",
       "      <td>-0.48</td>\n",
       "      <td>-50401</td>\n",
       "      <td>81</td>\n",
       "      <td>128900</td>\n",
       "      <td>-16000</td>\n",
       "      <td>1.3</td>\n",
       "      <td>46</td>\n",
       "      <td>85.000000</td>\n",
       "      <td>0.13</td>\n",
       "    </tr>\n",
       "    <tr>\n",
       "      <th>80</th>\n",
       "      <td>Hungary</td>\n",
       "      <td>9660351</td>\n",
       "      <td>-0.25</td>\n",
       "      <td>-24328</td>\n",
       "      <td>107</td>\n",
       "      <td>90530</td>\n",
       "      <td>6000</td>\n",
       "      <td>1.5</td>\n",
       "      <td>43</td>\n",
       "      <td>72.000000</td>\n",
       "      <td>0.12</td>\n",
       "    </tr>\n",
       "    <tr>\n",
       "      <th>88</th>\n",
       "      <td>Italy</td>\n",
       "      <td>60461826</td>\n",
       "      <td>-0.15</td>\n",
       "      <td>-88249</td>\n",
       "      <td>206</td>\n",
       "      <td>294140</td>\n",
       "      <td>148943</td>\n",
       "      <td>1.3</td>\n",
       "      <td>47</td>\n",
       "      <td>69.000000</td>\n",
       "      <td>0.78</td>\n",
       "    </tr>\n",
       "    <tr>\n",
       "      <th>90</th>\n",
       "      <td>Japan</td>\n",
       "      <td>126476461</td>\n",
       "      <td>-0.30</td>\n",
       "      <td>-383840</td>\n",
       "      <td>347</td>\n",
       "      <td>364555</td>\n",
       "      <td>71560</td>\n",
       "      <td>1.4</td>\n",
       "      <td>48</td>\n",
       "      <td>92.000000</td>\n",
       "      <td>1.62</td>\n",
       "    </tr>\n",
       "    <tr>\n",
       "      <th>98</th>\n",
       "      <td>Latvia</td>\n",
       "      <td>1886198</td>\n",
       "      <td>-1.08</td>\n",
       "      <td>-20545</td>\n",
       "      <td>30</td>\n",
       "      <td>62200</td>\n",
       "      <td>-14837</td>\n",
       "      <td>1.7</td>\n",
       "      <td>44</td>\n",
       "      <td>69.000000</td>\n",
       "      <td>0.02</td>\n",
       "    </tr>\n",
       "    <tr>\n",
       "      <th>99</th>\n",
       "      <td>Lebanon</td>\n",
       "      <td>6825445</td>\n",
       "      <td>-0.44</td>\n",
       "      <td>-30268</td>\n",
       "      <td>667</td>\n",
       "      <td>10230</td>\n",
       "      <td>-30012</td>\n",
       "      <td>2.1</td>\n",
       "      <td>30</td>\n",
       "      <td>78.000000</td>\n",
       "      <td>0.09</td>\n",
       "    </tr>\n",
       "    <tr>\n",
       "      <th>103</th>\n",
       "      <td>Lithuania</td>\n",
       "      <td>2722289</td>\n",
       "      <td>-1.35</td>\n",
       "      <td>-37338</td>\n",
       "      <td>43</td>\n",
       "      <td>62674</td>\n",
       "      <td>-32780</td>\n",
       "      <td>1.7</td>\n",
       "      <td>45</td>\n",
       "      <td>71.000000</td>\n",
       "      <td>0.03</td>\n",
       "    </tr>\n",
       "    <tr>\n",
       "      <th>112</th>\n",
       "      <td>Martinique</td>\n",
       "      <td>375265</td>\n",
       "      <td>-0.08</td>\n",
       "      <td>-289</td>\n",
       "      <td>354</td>\n",
       "      <td>1060</td>\n",
       "      <td>-960</td>\n",
       "      <td>1.9</td>\n",
       "      <td>47</td>\n",
       "      <td>92.000000</td>\n",
       "      <td>0.00</td>\n",
       "    </tr>\n",
       "    <tr>\n",
       "      <th>118</th>\n",
       "      <td>Moldova</td>\n",
       "      <td>4033963</td>\n",
       "      <td>-0.23</td>\n",
       "      <td>-9300</td>\n",
       "      <td>123</td>\n",
       "      <td>32850</td>\n",
       "      <td>-1387</td>\n",
       "      <td>1.3</td>\n",
       "      <td>38</td>\n",
       "      <td>43.000000</td>\n",
       "      <td>0.05</td>\n",
       "    </tr>\n",
       "    <tr>\n",
       "      <th>142</th>\n",
       "      <td>Poland</td>\n",
       "      <td>37846611</td>\n",
       "      <td>-0.11</td>\n",
       "      <td>-41157</td>\n",
       "      <td>124</td>\n",
       "      <td>306230</td>\n",
       "      <td>-29395</td>\n",
       "      <td>1.4</td>\n",
       "      <td>42</td>\n",
       "      <td>60.000000</td>\n",
       "      <td>0.49</td>\n",
       "    </tr>\n",
       "    <tr>\n",
       "      <th>143</th>\n",
       "      <td>Portugal</td>\n",
       "      <td>10196709</td>\n",
       "      <td>-0.29</td>\n",
       "      <td>-29478</td>\n",
       "      <td>111</td>\n",
       "      <td>91590</td>\n",
       "      <td>-6000</td>\n",
       "      <td>1.3</td>\n",
       "      <td>46</td>\n",
       "      <td>66.000000</td>\n",
       "      <td>0.13</td>\n",
       "    </tr>\n",
       "    <tr>\n",
       "      <th>144</th>\n",
       "      <td>Puerto Rico</td>\n",
       "      <td>2860853</td>\n",
       "      <td>-2.47</td>\n",
       "      <td>-72555</td>\n",
       "      <td>323</td>\n",
       "      <td>8870</td>\n",
       "      <td>-97986</td>\n",
       "      <td>1.2</td>\n",
       "      <td>44</td>\n",
       "      <td>59.634021</td>\n",
       "      <td>0.04</td>\n",
       "    </tr>\n",
       "    <tr>\n",
       "      <th>146</th>\n",
       "      <td>Romania</td>\n",
       "      <td>19237691</td>\n",
       "      <td>-0.66</td>\n",
       "      <td>-126866</td>\n",
       "      <td>84</td>\n",
       "      <td>230170</td>\n",
       "      <td>-73999</td>\n",
       "      <td>1.6</td>\n",
       "      <td>43</td>\n",
       "      <td>55.000000</td>\n",
       "      <td>0.25</td>\n",
       "    </tr>\n",
       "    <tr>\n",
       "      <th>155</th>\n",
       "      <td>Serbia</td>\n",
       "      <td>8737371</td>\n",
       "      <td>-0.40</td>\n",
       "      <td>-34864</td>\n",
       "      <td>100</td>\n",
       "      <td>87460</td>\n",
       "      <td>4000</td>\n",
       "      <td>1.5</td>\n",
       "      <td>42</td>\n",
       "      <td>56.000000</td>\n",
       "      <td>0.11</td>\n",
       "    </tr>\n",
       "    <tr>\n",
       "      <th>186</th>\n",
       "      <td>U.S. Virgin Islands</td>\n",
       "      <td>104425</td>\n",
       "      <td>-0.15</td>\n",
       "      <td>-153</td>\n",
       "      <td>298</td>\n",
       "      <td>350</td>\n",
       "      <td>-451</td>\n",
       "      <td>2.0</td>\n",
       "      <td>43</td>\n",
       "      <td>96.000000</td>\n",
       "      <td>0.00</td>\n",
       "    </tr>\n",
       "    <tr>\n",
       "      <th>188</th>\n",
       "      <td>Ukraine</td>\n",
       "      <td>43733762</td>\n",
       "      <td>-0.59</td>\n",
       "      <td>-259876</td>\n",
       "      <td>75</td>\n",
       "      <td>579320</td>\n",
       "      <td>10000</td>\n",
       "      <td>1.4</td>\n",
       "      <td>41</td>\n",
       "      <td>69.000000</td>\n",
       "      <td>0.56</td>\n",
       "    </tr>\n",
       "    <tr>\n",
       "      <th>195</th>\n",
       "      <td>Venezuela</td>\n",
       "      <td>28435940</td>\n",
       "      <td>-0.28</td>\n",
       "      <td>-79889</td>\n",
       "      <td>32</td>\n",
       "      <td>882050</td>\n",
       "      <td>-653249</td>\n",
       "      <td>2.3</td>\n",
       "      <td>30</td>\n",
       "      <td>59.634021</td>\n",
       "      <td>0.36</td>\n",
       "    </tr>\n",
       "  </tbody>\n",
       "</table>\n",
       "</div>"
      ],
      "text/plain": [
       "              Country/Other  Population (2020)  Yearly Change  Net Change  \\\n",
       "1                   Albania            2877797          -0.11       -3120   \n",
       "15                  Belarus            9449323          -0.03       -3088   \n",
       "21   Bosnia and Herzegovina            3280819          -0.61      -20181   \n",
       "25                 Bulgaria            6948445          -0.74      -51674   \n",
       "41                  Croatia            4105267          -0.61      -25037   \n",
       "42                     Cuba           11326616          -0.06       -6867   \n",
       "66                  Georgia            3989167          -0.19       -7598   \n",
       "69                   Greece           10423054          -0.48      -50401   \n",
       "80                  Hungary            9660351          -0.25      -24328   \n",
       "88                    Italy           60461826          -0.15      -88249   \n",
       "90                    Japan          126476461          -0.30     -383840   \n",
       "98                   Latvia            1886198          -1.08      -20545   \n",
       "99                  Lebanon            6825445          -0.44      -30268   \n",
       "103               Lithuania            2722289          -1.35      -37338   \n",
       "112              Martinique             375265          -0.08        -289   \n",
       "118                 Moldova            4033963          -0.23       -9300   \n",
       "142                  Poland           37846611          -0.11      -41157   \n",
       "143                Portugal           10196709          -0.29      -29478   \n",
       "144             Puerto Rico            2860853          -2.47      -72555   \n",
       "146                 Romania           19237691          -0.66     -126866   \n",
       "155                  Serbia            8737371          -0.40      -34864   \n",
       "186     U.S. Virgin Islands             104425          -0.15        -153   \n",
       "188                 Ukraine           43733762          -0.59     -259876   \n",
       "195               Venezuela           28435940          -0.28      -79889   \n",
       "\n",
       "     Density (P/Km²)  Land Area (Km²)  Migrants (net)  Fert. Rate  Med. Age  \\\n",
       "1                105            27400          -14000         1.6        36   \n",
       "15                47           202910            8730         1.7        40   \n",
       "21                64            51000          -21585         1.3        43   \n",
       "25                64           108560           -4800         1.6        45   \n",
       "41                73            55960           -8001         1.4        44   \n",
       "42               106           106440          -14400         1.6        42   \n",
       "66                57            69490          -10000         2.1        38   \n",
       "69                81           128900          -16000         1.3        46   \n",
       "80               107            90530            6000         1.5        43   \n",
       "88               206           294140          148943         1.3        47   \n",
       "90               347           364555           71560         1.4        48   \n",
       "98                30            62200          -14837         1.7        44   \n",
       "99               667            10230          -30012         2.1        30   \n",
       "103               43            62674          -32780         1.7        45   \n",
       "112              354             1060            -960         1.9        47   \n",
       "118              123            32850           -1387         1.3        38   \n",
       "142              124           306230          -29395         1.4        42   \n",
       "143              111            91590           -6000         1.3        46   \n",
       "144              323             8870          -97986         1.2        44   \n",
       "146               84           230170          -73999         1.6        43   \n",
       "155              100            87460            4000         1.5        42   \n",
       "186              298              350            -451         2.0        43   \n",
       "188               75           579320           10000         1.4        41   \n",
       "195               32           882050         -653249         2.3        30   \n",
       "\n",
       "     Urban Pop %  World Share  \n",
       "1      63.000000         0.04  \n",
       "15     79.000000         0.12  \n",
       "21     52.000000         0.04  \n",
       "25     76.000000         0.09  \n",
       "41     58.000000         0.05  \n",
       "42     78.000000         0.15  \n",
       "66     58.000000         0.05  \n",
       "69     85.000000         0.13  \n",
       "80     72.000000         0.12  \n",
       "88     69.000000         0.78  \n",
       "90     92.000000         1.62  \n",
       "98     69.000000         0.02  \n",
       "99     78.000000         0.09  \n",
       "103    71.000000         0.03  \n",
       "112    92.000000         0.00  \n",
       "118    43.000000         0.05  \n",
       "142    60.000000         0.49  \n",
       "143    66.000000         0.13  \n",
       "144    59.634021         0.04  \n",
       "146    55.000000         0.25  \n",
       "155    56.000000         0.11  \n",
       "186    96.000000         0.00  \n",
       "188    69.000000         0.56  \n",
       "195    59.634021         0.36  "
      ]
     },
     "execution_count": 62,
     "metadata": {},
     "output_type": "execute_result"
    }
   ],
   "source": [
    "# Các nước có dân số giảm theo năm\n",
    "df_5 = new_df[new_df[\"Yearly Change\"] < 0]\n",
    "df_5"
   ]
  },
  {
   "cell_type": "markdown",
   "id": "9454348a",
   "metadata": {},
   "source": [
    "##### So sánh tỷ lệ sinh tại các nước có dân số giảm theo năm"
   ]
  },
  {
   "cell_type": "code",
   "execution_count": 71,
   "id": "4f2f4c6d",
   "metadata": {},
   "outputs": [
    {
     "data": {
      "image/png": "[encoded data removed]",
      "text/plain": [
       "<Figure size 432x288 with 1 Axes>"
      ]
     },
     "metadata": {
      "needs_background": "light"
     },
     "output_type": "display_data"
    }
   ],
   "source": [
    "plt.bar(df_5[\"Country/Other\"], df_5[\"Fert. Rate\"], color = [\"red\", \"green\", \"blue\"])\n",
    "plt.title(\"So sánh tỷ lệ sinh tại các nước có dân số giảm\", fontsize = 16)\n",
    "plt.xlabel(\"Tên nước\", fontsize = 14)\n",
    "plt.ylabel(\"Tỷ lệ sinh\", fontsize = 14)\n",
    "plt.xticks(rotation = 90)\n",
    "plt.show()"
   ]
  },
  {
   "cell_type": "markdown",
   "id": "1bdecfc9",
   "metadata": {},
   "source": [
    "- Nhận xét: Tất cả các nước trên đều có tỷ lệ sinh trên 1%. Đặc biệt, có một số nước như Venezuela có tỷ lệ sinh cao trên 2%. Điều này chứng tỏ tỷ lệ tử vong cũng như tỷ lệ người di cư từ nước này qua nước khác là khá cao."
   ]
  },
  {
   "cell_type": "markdown",
   "id": "76e79f92",
   "metadata": {},
   "source": [
    "##### Phân bố số dân di cư trên thế giới "
   ]
  },
  {
   "cell_type": "code",
   "execution_count": 77,
   "id": "caa7ef92",
   "metadata": {},
   "outputs": [
    {
     "data": {
      "text/plain": [
       "<AxesSubplot:ylabel='Migrants (net)'>"
      ]
     },
     "execution_count": 77,
     "metadata": {},
     "output_type": "execute_result"
    },
    {
     "data": {
      "image/png": "[encoded data removed]",
      "text/plain": [
       "<Figure size 432x288 with 1 Axes>"
      ]
     },
     "metadata": {
      "needs_background": "light"
     },
     "output_type": "display_data"
    }
   ],
   "source": [
    "sns.violinplot(y = new_df[\"Migrants (net)\"])"
   ]
  }
 ],
 "metadata": {
  "kernelspec": {
   "display_name": "Python 3 (ipykernel)",
   "language": "python",
   "name": "python3"
  },
  "language_info": {
   "codemirror_mode": {
    "name": "ipython",
    "version": 3
   },
   "file_extension": ".py",
   "mimetype": "text/x-python",
   "name": "python",
   "nbconvert_exporter": "python",
   "pygments_lexer": "ipython3",
   "version": "3.9.6"
  }
 },
 "nbformat": 4,
 "nbformat_minor": 5
}
